{
 "cells": [
  {
   "cell_type": "markdown",
   "metadata": {},
   "source": [
    "# Unsupervised learning(Clustering)"
   ]
  },
  {
   "cell_type": "code",
   "execution_count": 5,
   "metadata": {
    "ExecuteTime": {
     "end_time": "2021-07-30T10:48:43.303407Z",
     "start_time": "2021-07-30T10:48:42.958999Z"
    }
   },
   "outputs": [],
   "source": [
    "import numpy as np\n",
    "import pandas as pd\n",
    "from sklearn.datasets import load_iris"
   ]
  },
  {
   "cell_type": "markdown",
   "metadata": {},
   "source": [
    "## Unsupervised learning(비지도학습)\n",
    "> `Unsupervised learning`(비지도 학습) 모델은 종속변수 유무에 따라 구분한 머신러닝 알고리즘이다.  \n",
    "분류하고자 하는 **종속변수(traget)가 존재하지 않거나** 준지도학습을 위한 종속변수 생성을 목적으로 사용한다.  \n",
    "비지도 학습으로 **분류문제를 해결**한다.  \n",
    "거리 기반(유사도) 계산을 통해 **유사한 샘플을 묶어 같은 class(군집)으로 만드는 것을 목적**으로 한다.  \n",
    "즉, 같은 군집 내 샘플 간 거리는 가깝게, 다른 군집에 있는 샘플 간 거리는 멀게 묶는 것이 목적.  \n",
    "종속변수가 존재하지 않기에 **객관적인 평가가 어렵다.**\n",
    "\n",
    ">> - Top-down clustering : **`K-Means`** k-평균 클러스터링  \n",
    "- Bottom-up clustering : **`AgglomerativeClustering`** 계층적 군집화  \n",
    "- 밀도기반 군집화 : **`DBSCAN`** density based spatial clustering of application with noise"
   ]
  },
  {
   "cell_type": "markdown",
   "metadata": {},
   "source": [
    "### 벡터 간 거리\n",
    "$$x = (x_1, x_2, x_3, ... x_N)$$\n",
    "$$y = (y_1, y_2, y_3, ... y_N)$$  \n",
    "\n",
    "위의 두 벡터 $x$와 $y$간 거리는 다음과 같이 계산한다.\n",
    "> 맨하탄 거리(Manhattan distance)  \n",
    "$$ \\sum_{i=1}^N \\left\\vert x_i - y_i \\right\\vert $$\n",
    "\n",
    "> 유클리디안 거리(Euclidean distance)  \n",
    "$$ \\sum_{i=1}^N (x_i - y_i)^2 $$\n",
    "\n",
    "> 코사인 유사도(cosine similarity)  \n",
    "$$ x_i \\cdot y_i \\over \\left\\vert\\left\\vert x_i \\right\\vert\\right\\vert \\left\\vert\\left\\vert x_j \\right\\vert\\right\\vert$$"
   ]
  },
  {
   "cell_type": "markdown",
   "metadata": {},
   "source": [
    "## Kmeans clustering\n",
    "> 1. K개의 군집(cluster) 중심(centroid)을 임의로 초기화 한 후 각 중심과 가장 가까운 점들을 찾음.  \n",
    "2. 중심과 가까운 점들의 평균지점(무게중심)을 계산하여 각 군집의 새로운 중심으로 사용.  \n",
    "(즉, 중심과 각 군집에 속한 샘플간의 거리를 최소화 시키는 방법으로 학습)  \n",
    "3. 중심이 변하지 않을 때까지 이 과정을 반복함.  \n",
    "\n",
    "<img src=\"https://drive.google.com/uc?id=1ApR1PfrJInHfZYTfCm7wr5ZNx7UN0CxW\">\n",
    "<img src=\"https://drive.google.com/uc?id=1etEyG_qgRVtFfsb8dlXtBxA_xHp2R2eB\">\n",
    "\n",
    "실제로는 다차원 공간상에 있는 샘플을 하나의 점으로 인식하여 거리계산을 하고 분류합니다."
   ]
  },
  {
   "cell_type": "markdown",
   "metadata": {},
   "source": [
    "### Kmeans clustering 실습"
   ]
  },
  {
   "cell_type": "code",
   "execution_count": 6,
   "metadata": {
    "ExecuteTime": {
     "end_time": "2021-07-30T10:48:46.870053Z",
     "start_time": "2021-07-30T10:48:46.863176Z"
    }
   },
   "outputs": [],
   "source": [
    "# 아이리스 데이터 로드\n"
   ]
  },
  {
   "cell_type": "code",
   "execution_count": 7,
   "metadata": {
    "ExecuteTime": {
     "end_time": "2021-07-30T10:48:47.063345Z",
     "start_time": "2021-07-30T10:48:47.060371Z"
    }
   },
   "outputs": [],
   "source": [
    "# 타겟 데이터 분리\n"
   ]
  },
  {
   "cell_type": "code",
   "execution_count": 9,
   "metadata": {
    "ExecuteTime": {
     "end_time": "2021-07-30T10:49:46.688174Z",
     "start_time": "2021-07-30T10:49:46.685352Z"
    }
   },
   "outputs": [],
   "source": [
    "# 모델 import\n"
   ]
  },
  {
   "cell_type": "code",
   "execution_count": null,
   "metadata": {
    "ExecuteTime": {
     "end_time": "2021-07-30T10:48:26.427016Z",
     "start_time": "2021-07-30T10:48:26.417062Z"
    }
   },
   "outputs": [],
   "source": [
    "# 모델 생성\n",
    "\n",
    "'''\n",
    "n_clusters=10 : 몇개의 클러스터로 구분 할 것인지\n",
    "max_iter=300 : centroid 업데이트 횟수. 데이터가 크면 클 수록 늘어나야 함.\n",
    "파라메터와 별개로 중심점과 샘플간의 거리 척도는 유클리디언 거리를 사용하며 거리척도는 변경 불가능하다.\n",
    "'''"
   ]
  },
  {
   "cell_type": "code",
   "execution_count": null,
   "metadata": {
    "ExecuteTime": {
     "end_time": "2021-07-30T10:48:49.847800Z",
     "start_time": "2021-07-30T10:48:49.809356Z"
    }
   },
   "outputs": [],
   "source": [
    "# 모델 학습\n"
   ]
  },
  {
   "cell_type": "code",
   "execution_count": null,
   "metadata": {
    "ExecuteTime": {
     "end_time": "2021-07-30T06:09:54.225374Z",
     "start_time": "2021-07-30T06:09:54.217797Z"
    }
   },
   "outputs": [],
   "source": [
    "# 모델이 임의로 부여한 클래스에 어떠한 의미도 없으며 순서가 무작위\n",
    "# 이런 이유로 임의평가가 조금 복잡한 과정을 지님.\n",
    "# 학습 결과 확인\n"
   ]
  },
  {
   "cell_type": "markdown",
   "metadata": {},
   "source": [
    "## Agglomerative clustering( Hierarchy clustering)\n",
    "계층적군집화라고도 부름. 데이터 포인트를 하나의 클러스터로 지정해 지정 된 클러스터 갯수가 될 때까지 두 클러스터를 합쳐나간다.\n",
    "\n",
    "<img src=\"https://drive.google.com/uc?id=1VYQW6g15jBYF2568ylw3aTNR96TFVHj6\">"
   ]
  },
  {
   "cell_type": "markdown",
   "metadata": {},
   "source": [
    "### 클러스터 결합 방법\n",
    "<img src=\"https://drive.google.com/uc?id=13TUPNXHrSEI4We7jKA0FY3kp9Dv1EgA-\">"
   ]
  },
  {
   "cell_type": "code",
   "execution_count": 44,
   "metadata": {
    "ExecuteTime": {
     "end_time": "2021-07-30T06:29:55.857537Z",
     "start_time": "2021-07-30T06:29:55.853447Z"
    }
   },
   "outputs": [],
   "source": [
    "# 모델 import \n"
   ]
  },
  {
   "cell_type": "code",
   "execution_count": null,
   "metadata": {
    "ExecuteTime": {
     "end_time": "2021-07-30T06:39:19.595929Z",
     "start_time": "2021-07-30T06:39:19.588226Z"
    }
   },
   "outputs": [],
   "source": [
    "# 모델 생성\n",
    "\n",
    "'''\n",
    "n_clusters=2 : 몇 개의 클러스터 구분인지\n",
    "affinity='euclidean' : 거리척도 (euclidean, manhattan, cosine)\n",
    "linkage='ward' : 군집 간 거리 계산 방법 ('ward':중심, 'single':최단거리, 'complete':최장거리, 'average': 평균)\n",
    "'''"
   ]
  },
  {
   "cell_type": "code",
   "execution_count": null,
   "metadata": {},
   "outputs": [],
   "source": [
    "# 모델 학습\n",
    "# 새로운 데이터에 적용 안됨. 기존 데이터를 바탕으로 fit_predict() 사용\n"
   ]
  },
  {
   "cell_type": "markdown",
   "metadata": {},
   "source": [
    "### dendrogram(덴드로그램)\n",
    "> 2차원 이상의 계층적 군집화 모델을 표현하기 위한 도구  \n",
    "같은 가지에 속한 샘플은 같은 클러스터  \n",
    "linkage 방법에 따라 클러스터가 합쳐지며 가지의 길이는 클러스터 간 거리이다. \n",
    "\n",
    "<img src=\"https://drive.google.com/uc?id=131YosmMYIqRj1mvGjTuJjpdSx8u3oZbZ\">"
   ]
  },
  {
   "cell_type": "code",
   "execution_count": 53,
   "metadata": {
    "ExecuteTime": {
     "end_time": "2021-07-30T06:47:57.820382Z",
     "start_time": "2021-07-30T06:47:57.817019Z"
    }
   },
   "outputs": [],
   "source": [
    "# 함수 import \n",
    "from scipy.cluster.hierarchy import dendrogram, linkage"
   ]
  },
  {
   "cell_type": "code",
   "execution_count": null,
   "metadata": {
    "ExecuteTime": {
     "end_time": "2021-07-30T06:48:37.535359Z",
     "start_time": "2021-07-30T06:48:32.799418Z"
    }
   },
   "outputs": [],
   "source": [
    "# 덴드로그램 plotting\n"
   ]
  },
  {
   "cell_type": "markdown",
   "metadata": {},
   "source": [
    "## DBSCAN(density based spatial clustering of application with noise)\n",
    "> 앞서 소개한 계층적 군집화나 K-means 군집화 알고리즘은 샘플간 혹은 군집간 거리를 기준으로 학습한다.  \n",
    "반면 `DBSCAN`은 **샘플의 밀도가 높은 부분을 하나의 군집**으로 인식한다.  \n",
    "특정 샘플 기준으로 설정한 반경($\\epsilon$ : 입실론) 내 n개 이상의 샘플이 있으면 이를 하나의 군집으로 인식한다.  \n",
    "밀도 기반 군집화에서는 군집에 속하지 않는 샘플이 발생하기도 하며, 이는 이상치라고 판단한다.  \n",
    "\n",
    "<img src=\"https://drive.google.com/uc?id=1htsHkWutMidznsMM_lNPGEH7SOYJvJsU\" height=\"500px\" width=\"500px\">  \n",
    "\n",
    "이 다이어그램에서 minPts = 4. 점 A와 다른 빨간색 점들은 core point.  \n",
    "θ 반지름에서 이러한 점들을 둘러싼 영역에는 최소 4개의 점(점 자체 포함)이 포함되고, 서로 연결할 수 있기 때문에 단일 클러스터를 형성합니다.  \n",
    "점 B와 C는 core point가 아니지만 A에서(다른 core point를 통해) 도달할 수 있으므로 군집에 포함. (border point : 보통 군집화 경계)  \n",
    "점 N은 핵심점이 아니거나 직접 도달할 수 없는 noise point.\n",
    "\n",
    "\n",
    "### DBSCAN 특징\n",
    "<img src=\"https://drive.google.com/uc?id=14rFtn4MhcKGRCUeRs1M0zbMx2zEC-gid\">\n",
    "\n",
    "위와 같은 작동 방식으로 인하여 `DBSCAN`에서는 클러스터 숫자를 특정 할 필요가 없으며 복잡한 분포의 데이터에도 적용이 가능하다.  \n",
    "\n",
    "<img src=\"https://drive.google.com/uc?id=17NKVQag8H2ZG-SZg24UE2XUkEBcarzDU\">\n",
    "<img src=\"https://drive.google.com/uc?id=12mR7xQlWctZVACUsLcqTr1IKvwUv6-fv\">"
   ]
  },
  {
   "cell_type": "markdown",
   "metadata": {},
   "source": [
    "### DBSCAN 실습"
   ]
  },
  {
   "cell_type": "code",
   "execution_count": null,
   "metadata": {},
   "outputs": [],
   "source": [
    "# 모델 import \n"
   ]
  },
  {
   "cell_type": "code",
   "execution_count": 56,
   "metadata": {
    "ExecuteTime": {
     "end_time": "2021-07-30T10:30:50.056104Z",
     "start_time": "2021-07-30T10:30:50.048974Z"
    }
   },
   "outputs": [
    {
     "data": {
      "text/plain": [
       "\"\\neps=0.5 : 입실론(중심반경)\\nmin_samples=5, 중심기준 추적 샘플 수\\nmetric='euclidean', 거리 측정 방법\\neps와 min_samples가 가장 중요하지만 최적 파라메터 측정이 어렵다. 디폴트 값이 가장 잘 맞는 편.\\n\""
      ]
     },
     "execution_count": 56,
     "metadata": {},
     "output_type": "execute_result"
    }
   ],
   "source": [
    "# 모델 생성\n",
    "\n",
    "'''\n",
    "eps=0.5 : 입실론(중심반경)\n",
    "min_samples=5, 중심기준 추적 샘플 수\n",
    "metric='euclidean', 거리 측정 방법\n",
    "eps와 min_samples가 가장 중요하지만 최적 파라메터 측정이 어렵다. 디폴트 값이 가장 잘 맞는 편.\n",
    "'''"
   ]
  },
  {
   "cell_type": "code",
   "execution_count": 68,
   "metadata": {
    "ExecuteTime": {
     "end_time": "2021-07-30T10:37:27.680250Z",
     "start_time": "2021-07-30T10:37:27.677005Z"
    }
   },
   "outputs": [],
   "source": [
    "# 데이터셋 제작 및 전처리 함수 import\n",
    "from sklearn.datasets import make_moons\n",
    "from sklearn.preprocessing import StandardScaler"
   ]
  },
  {
   "cell_type": "code",
   "execution_count": 69,
   "metadata": {
    "ExecuteTime": {
     "end_time": "2021-07-30T10:38:55.752880Z",
     "start_time": "2021-07-30T10:38:55.747375Z"
    }
   },
   "outputs": [],
   "source": [
    "# 특이패턴 데이터 생성\n"
   ]
  },
  {
   "cell_type": "code",
   "execution_count": null,
   "metadata": {},
   "outputs": [],
   "source": [
    "# 전처리\n"
   ]
  },
  {
   "cell_type": "code",
   "execution_count": null,
   "metadata": {
    "ExecuteTime": {
     "end_time": "2021-07-30T10:39:08.135900Z",
     "start_time": "2021-07-30T10:39:07.900022Z"
    }
   },
   "outputs": [],
   "source": [
    "# data plotting\n"
   ]
  },
  {
   "cell_type": "code",
   "execution_count": 73,
   "metadata": {
    "ExecuteTime": {
     "end_time": "2021-07-30T10:43:16.224250Z",
     "start_time": "2021-07-30T10:43:16.218617Z"
    }
   },
   "outputs": [],
   "source": [
    "# 모델 학습 및 예측\n"
   ]
  },
  {
   "cell_type": "code",
   "execution_count": null,
   "metadata": {
    "ExecuteTime": {
     "end_time": "2021-07-30T10:43:26.159684Z",
     "start_time": "2021-07-30T10:43:25.889707Z"
    }
   },
   "outputs": [],
   "source": [
    "# 결과값 출력\n"
   ]
  }
 ],
 "metadata": {
  "kernelspec": {
   "display_name": "Python 3",
   "language": "python",
   "name": "python3"
  },
  "language_info": {
   "codemirror_mode": {
    "name": "ipython",
    "version": 3
   },
   "file_extension": ".py",
   "mimetype": "text/x-python",
   "name": "python",
   "nbconvert_exporter": "python",
   "pygments_lexer": "ipython3",
   "version": "3.7.3"
  },
  "toc": {
   "base_numbering": 1,
   "nav_menu": {},
   "number_sections": true,
   "sideBar": true,
   "skip_h1_title": true,
   "title_cell": "Table of Contents",
   "title_sidebar": "Contents",
   "toc_cell": false,
   "toc_position": {},
   "toc_section_display": true,
   "toc_window_display": false
  },
  "varInspector": {
   "cols": {
    "lenName": 16,
    "lenType": 16,
    "lenVar": 40
   },
   "kernels_config": {
    "python": {
     "delete_cmd_postfix": "",
     "delete_cmd_prefix": "del ",
     "library": "var_list.py",
     "varRefreshCmd": "print(var_dic_list())"
    },
    "r": {
     "delete_cmd_postfix": ") ",
     "delete_cmd_prefix": "rm(",
     "library": "var_list.r",
     "varRefreshCmd": "cat(var_dic_list()) "
    }
   },
   "types_to_exclude": [
    "module",
    "function",
    "builtin_function_or_method",
    "instance",
    "_Feature"
   ],
   "window_display": false
  }
 },
 "nbformat": 4,
 "nbformat_minor": 2
}
