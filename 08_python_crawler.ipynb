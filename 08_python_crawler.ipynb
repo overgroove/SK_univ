{
 "cells": [
  {
   "cell_type": "markdown",
   "metadata": {
    "id": "UsZSmAj47LXm",
    "slideshow": {
     "slide_type": "slide"
    }
   },
   "source": [
    "# **데이터 크롤링**"
   ]
  },
  {
   "cell_type": "markdown",
   "metadata": {
    "id": "qGMeSCoV7QTQ",
    "slideshow": {
     "slide_type": "slide"
    }
   },
   "source": [
    "## **크롤링이란?**\n",
    "> 크롤러(crawler)는 자동화된 방법으로 웹을 탐색하는 컴퓨터 프로그램  \n",
    "'웹 크롤링'(web crawling)??  \n",
    "'데이터 크롤링'(data crawling)!!  "
   ]
  },
  {
   "cell_type": "markdown",
   "metadata": {
    "id": "WboqZ6A47Yqe",
    "slideshow": {
     "slide_type": "slide"
    }
   },
   "source": [
    "우리는 매일 크롤러도 사용하고 있습니다."
   ]
  },
  {
   "cell_type": "markdown",
   "metadata": {
    "id": "5PfW0HG17td5",
    "slideshow": {
     "slide_type": "slide"
    }
   },
   "source": [
    "## **웹 크롤링**\n",
    "> 웹 서비스 내 정보를 수집하는 일\n",
    "\n",
    ">> 필요한 정보가 있다면?  \n",
    "API 확인 -> 없으면 직접 크롤링  \n",
    "    \n",
    "> 다만 서비스 제공자의 입장에서는??"
   ]
  },
  {
   "cell_type": "markdown",
   "metadata": {
    "id": "e0ITGMAN70Da",
    "slideshow": {
     "slide_type": "slide"
    }
   },
   "source": [
    "### 웹 서핑을 하는 의식의 흐름\n",
    "> - 브라우저 오픈  \n",
    "- 원하는 인터넷페이지 주소 입력  \n",
    "- 화면이 열리면 찾고자 하는 정보를 스크롤 하면서 찾기  \n",
    "- 문자, 그림, 동영상 조회  "
   ]
  },
  {
   "cell_type": "markdown",
   "metadata": {
    "id": "AWcggzcG728P",
    "slideshow": {
     "slide_type": "slide"
    }
   },
   "source": [
    "### 웹 크롤링 하는 의식의 흐름\n",
    "> - 정보를 가져오고자 하는 url 정의\n",
    "- url 정보로 requests로 정보 요청\n",
    "- text 정보를 html로 변환\n",
    "- html에서 우리가 필요한 정보만 선별"
   ]
  },
  {
   "cell_type": "markdown",
   "metadata": {
    "id": "XT464CpR75Uh",
    "slideshow": {
     "slide_type": "slide"
    }
   },
   "source": [
    "### 웹 크롤링을 위해 BeautifulSoup 사용\n",
    "> - requests는 요청을 받기는 하지만 text로만 받음  \n",
    "- API는 통신을 위해 정형화 된 데이터 형태의 text  \n",
    "- 우리가 원하는 데이터로 가공하기 위해 편의상 html로 변환  \n",
    "- text를 html로 변환하는 모듈이 beautifulSoup"
   ]
  },
  {
   "cell_type": "markdown",
   "metadata": {
    "id": "5j1oR5fO78FW",
    "slideshow": {
     "slide_type": "slide"
    }
   },
   "source": [
    "### 간단한 데이터 크롤링으로 기본 개념잡기"
   ]
  },
  {
   "cell_type": "code",
   "execution_count": 1,
   "metadata": {
    "ExecuteTime": {
     "end_time": "2021-06-30T03:09:53.942777Z",
     "start_time": "2021-06-30T03:09:53.092962Z"
    },
    "scrolled": false
   },
   "outputs": [],
   "source": [
    "# 필요패키지 import\n",
    "import numpy as np\n",
    "import pandas as pd\n",
    "import requests # 크롤링에 사용하는 패키지\n",
    "from bs4 import BeautifulSoup # html 변환에 사용함\n",
    "\n",
    "# url정의\n",
    "url = 'https://www.naver.com/'\n",
    "\n",
    "# requsts로 url에 정보요청\n",
    "response = requests.get(url).text\n",
    "\n",
    "# 정보를 html 변환 (보기 쉽게)\n",
    "html = BeautifulSoup(response, 'html.parser')\n",
    "\n",
    "# html 내에서 우리가 보고 싶은 정보만 선별\n",
    "# html.select('img')"
   ]
  },
  {
   "cell_type": "markdown",
   "metadata": {
    "id": "leESHsnF8kMy",
    "slideshow": {
     "slide_type": "slide"
    }
   },
   "source": [
    "### 실제 개발자가 작성한 코드로 확인된다\n",
    "> 정제되지 않은 데이터로 가독성이 좋지 않음  \n",
    "우리는 이 중에서 우리가 원하는 정보를 선별해서 가져오는 작업을 진행합니다.  \n",
    "그러기에 html의 기본 구성을 살펴보도록 하겠습니다.  "
   ]
  },
  {
   "cell_type": "markdown",
   "metadata": {
    "id": "ijN26CQi8oSa",
    "slideshow": {
     "slide_type": "slide"
    }
   },
   "source": [
    "#### 웹 페이지의 구성\n",
    "> **HTML(Hyper Text Markup Language)**  \n",
    "www 를 구성하는데 사용하는 국제표준 언어로서 컨텐츠와 레이아웃을 담고 있다\n",
    "\n",
    "> **<태그>** 내용 **</태그>**  \n",
    "<tag이름 class=\"class이름1 class이름2\" id=\"주민번호\" href=\"주소\"></tag이름>\n",
    "\n",
    "> 형태나 속성을 묘사하기 위한 구조적 언어 : HTML, CSS (계층이 있음)  \n",
    "웹의 작동 및 제어를 위한 프로그래밍 언어 :  Js"
   ]
  },
  {
   "cell_type": "markdown",
   "metadata": {
    "id": "7caqQS1q8xE9",
    "slideshow": {
     "slide_type": "slide"
    }
   },
   "source": [
    "#### 셀렉터\n",
    "> 용도 : html에서 내가 원하는 내용을 찾아내기 위해서  \n",
    "<span class=\"news\" id=\"1234\">비비고 왕교자</span>\n",
    "\n",
    ">> 단일 셀렉터  \n",
    "html.select('span')  \n",
    "tag : span  \n",
    "class(별명, 그룹명) : .news  \n",
    "id(고유값) : #1234"
   ]
  },
  {
   "cell_type": "markdown",
   "metadata": {
    "id": "U-JjMflT80sS",
    "slideshow": {
     "slide_type": "slide"
    }
   },
   "source": [
    "#### 복합 셀렉터\n",
    "    1. 조합 셀렉터\n",
    "    <span>1</span>\n",
    "    <span class=\"txt\">2</span>\n",
    "    <em class=\"txt\">3</em>\n",
    "    \n",
    "    태그 이름이 span이고 클래스 이름은 txt인 라인을 찾고 싶다. : span.txt \n",
    "    li 태그 중에서 id가 name 인 라인을 찾고\\ 싶다. : li#name\n",
    "\n",
    "    2. 경로 셀렉터\n",
    "    <ul>\n",
    "        <li><span>이걸 찾으려면?</span></li>\n",
    "    </ul>\n",
    "    <span>이건 아님</span>\n",
    "\n",
    "    ul 태그안 li 태그 안 span 라인을 찾는다\n",
    "    ul > li > span 혹은 ul li span"
   ]
  },
  {
   "cell_type": "code",
   "execution_count": 3,
   "metadata": {
    "ExecuteTime": {
     "end_time": "2021-06-06T06:34:22.116019Z",
     "start_time": "2021-06-06T06:34:22.113388Z"
    }
   },
   "outputs": [],
   "source": [
    "# url 설정\n",
    "url = 'https://search.naver.com/search.naver?where=nexearch&sm=top_hty&fbm=1&ie=utf8&query=로또'"
   ]
  },
  {
   "cell_type": "code",
   "execution_count": 4,
   "metadata": {
    "ExecuteTime": {
     "end_time": "2021-06-06T06:34:22.955686Z",
     "start_time": "2021-06-06T06:34:22.632195Z"
    }
   },
   "outputs": [],
   "source": [
    "# requests로 데이터 요청하기\n",
    "response = requests.get(url).text"
   ]
  },
  {
   "cell_type": "code",
   "execution_count": 5,
   "metadata": {
    "ExecuteTime": {
     "end_time": "2021-06-06T06:34:23.163769Z",
     "start_time": "2021-06-06T06:34:23.057685Z"
    }
   },
   "outputs": [],
   "source": [
    "# html로 변환\n",
    "html = BeautifulSoup(response, 'html.parser')"
   ]
  },
  {
   "cell_type": "code",
   "execution_count": 6,
   "metadata": {
    "ExecuteTime": {
     "end_time": "2021-06-06T06:34:24.319247Z",
     "start_time": "2021-06-06T06:34:24.313770Z"
    }
   },
   "outputs": [],
   "source": [
    "lotto_list = []\n",
    "for num in html.select('span.num')[:6]:\n",
    "    lotto_list.append(num.text)"
   ]
  },
  {
   "cell_type": "code",
   "execution_count": 7,
   "metadata": {
    "ExecuteTime": {
     "end_time": "2021-06-06T06:34:24.642266Z",
     "start_time": "2021-06-06T06:34:24.638402Z"
    }
   },
   "outputs": [
    {
     "data": {
      "text/plain": [
       "['1', '21', '25', '29', '34', '37']"
      ]
     },
     "execution_count": 7,
     "metadata": {},
     "output_type": "execute_result"
    }
   ],
   "source": [
    "lotto_list"
   ]
  },
  {
   "cell_type": "markdown",
   "metadata": {},
   "source": [
    "# 다음에서 로또번호 가져와 볼께요 몽땅 다 가져옵니다"
   ]
  },
  {
   "cell_type": "code",
   "execution_count": 8,
   "metadata": {
    "ExecuteTime": {
     "end_time": "2021-06-06T06:34:28.659416Z",
     "start_time": "2021-06-06T06:34:28.656108Z"
    }
   },
   "outputs": [],
   "source": [
    "import time"
   ]
  },
  {
   "cell_type": "code",
   "execution_count": 9,
   "metadata": {
    "ExecuteTime": {
     "end_time": "2021-06-06T06:34:52.012560Z",
     "start_time": "2021-06-06T06:34:30.304132Z"
    }
   },
   "outputs": [
    {
     "name": "stdout",
     "output_type": "stream",
     "text": [
      "접속성공\n",
      "접속성공\n",
      "접속성공\n",
      "접속성공\n",
      "접속성공\n",
      "접속성공\n",
      "접속성공\n",
      "접속성공\n",
      "접속성공\n"
     ]
    }
   ],
   "source": [
    "total_lotto_list = []\n",
    "for i in range(1, 10):\n",
    "    \n",
    "    seed = np.random.randint(100)\n",
    "    np.random.seed(seed)\n",
    "    a = np.random.randint(5) # 난수가 생성 생성된 난수에 따라서 요청하는 시간 딜레이\n",
    "    time.sleep(a)\n",
    "    \n",
    "    lotto = []\n",
    "    url = f'https://search.daum.net/search?w=tot&DA=LOT&rtmaxcoll=LOT&&q={i}회차%20로또'\n",
    "    response = requests.get(url)\n",
    "    \n",
    "    if response.status_code == requests.codes.ok:\n",
    "        print('접속성공')\n",
    "        \n",
    "        html = BeautifulSoup(response.text, 'html.parser')\n",
    "        numbers = html.select('span.ball')[:6]\n",
    "        for num in numbers:\n",
    "            lotto.append(num.text)\n",
    "        total_lotto_list.append(lotto)\n",
    "        \n",
    "    else:\n",
    "        break"
   ]
  },
  {
   "cell_type": "code",
   "execution_count": 50,
   "metadata": {
    "ExecuteTime": {
     "end_time": "2021-02-03T05:41:05.583999Z",
     "start_time": "2021-02-03T05:41:05.579960Z"
    }
   },
   "outputs": [
    {
     "data": {
      "text/plain": [
       "200"
      ]
     },
     "execution_count": 50,
     "metadata": {},
     "output_type": "execute_result"
    }
   ],
   "source": [
    "requests.codes.ok\n",
    "# 100 우리 이런정보 내주는거야\n",
    "# 200 성공\n",
    "# 300 우리 이 사이트 이리루 이사했어 일루가\n",
    "# 400 유저가 요청을 잘못한경우\n",
    "# 500 서버 문제"
   ]
  },
  {
   "cell_type": "code",
   "execution_count": null,
   "metadata": {},
   "outputs": [],
   "source": [
    "# 차단막는 코드\n",
    "seed = np.random.randint(100)\n",
    "np.random.seed(seed)\n",
    "a = np.random.randint(5)"
   ]
  },
  {
   "cell_type": "markdown",
   "metadata": {
    "id": "L--NnRPK9LAN",
    "slideshow": {
     "slide_type": "slide"
    }
   },
   "source": [
    "## **네이버 키워드로 검색한 결과를 크롤링**"
   ]
  },
  {
   "cell_type": "code",
   "execution_count": 11,
   "metadata": {
    "ExecuteTime": {
     "end_time": "2021-06-06T06:35:17.265186Z",
     "start_time": "2021-06-06T06:35:13.871456Z"
    }
   },
   "outputs": [
    {
     "name": "stdout",
     "output_type": "stream",
     "text": [
      "키워드를 입력하세요 :코로나\n",
      "접속성공\n",
      "코로나 확진자 장례식 문의요 https://cafe.naver.com/msbabys/4071356\n",
      "코로나 19 폐렴 완치 이후에도 장기적인 후유증은 남는다 https://blog.naver.com/jjy0501/222370035633\n",
      "코로나 백신 맞기는 맞아야 하는데....... https://blog.naver.com/yimin3181/222363474471\n",
      "코로나 백신 부작용, 사망 등 피해보상 Q&A https://blog.naver.com/nemjun/222375264353\n",
      "코로나19 예방접종 후 이상반응 피해보상 알고가세요! https://blog.naver.com/dodreamgj/222346563503\n",
      "[약사엄마의 건강이야기] 코로나19 백신 접종 후, 해열진통제로 꼭 아세트아미노펜만 먹어야 할까?... https://blog.naver.com/happymedicalwriter/222380055494\n",
      "수술전 코로나검사요~(보호자) https://cafe.naver.com/thyroidcancers/254894\n",
      "코로나 백신 맞기 전에 꼭 확인하기, 아나필락시스 쇼크란? https://blog.naver.com/dkdkpad/222369959982\n",
      "이제는 셀프 시대! 코로나19 자가진단 키트 사용방법과 주의사항 https://blog.naver.com/kescomiri/222360253995\n",
      "코로나19 예방접종 절차 주의사항 노쇼 잔여백신예약 https://blog.naver.com/mdkmd/222372068057\n",
      "코로나 백신과 피부과 약물처방 https://blog.naver.com/divadance/222385755319\n",
      "코로나19 백신 : 얀센 백신의 효능과 부작용과 주의사항 https://blog.naver.com/jinguy1981/222379066207\n",
      "[서울라헬여성의원] 임산부 코로나19 백신 접종 권고안 https://blog.naver.com/ferticare/222381109969\n",
      "실비보험 약값 및 코로나검사 실비보험 vs 코로나검사비용실비보험 https://post.naver.com/viewer/postView.nhn?volumeNo=31307345&memberNo=30503321&vType=VERTICAL\n",
      "코로나 19 중환자실 입원비용 국고부담 법률 공포 https://blog.naver.com/jugangyopo/222362921401\n",
      "암환자에 치명적인 코로나 https://cafe.naver.com/livehope/362627\n",
      "입원시 코로나검사 문의요 https://cafe.naver.com/mokpomam/1899921\n",
      "코로나19 - 코로나19 백신 1번 예방접종으로 사망 위험을 얼마나 감소시키나? https://blog.naver.com/ucgck/222376297091\n",
      "오한부터 마비까지, 코로나19 백신의 부작용은? https://post.naver.com/viewer/postView.nhn?volumeNo=30238134&memberNo=15460571&vType=VERTICAL\n",
      "코로나19로 20~30대 불안·우울 등 정신건강 심각 https://blog.naver.com/eunyo20/222340381904\n",
      "코로나백신맞으신많으신가요? https://cafe.naver.com/lovefaithjkc/404588\n",
      "20주에 코로나 확진된 임산부 입니다. (20주~23주) https://cafe.naver.com/imsanbu/55948150\n",
      "코로나 백신 예방접종 안전하게 받는 절차 https://blog.naver.com/alacysoxht/222359760151\n",
      "코로나 백신에 대해 신중합시다 https://cafe.naver.com/tlswkd/224646\n",
      "연세굿데이치과 코로나 안심병원 https://blog.naver.com/benba75/222382774415\n",
      "입원전 코로나 검사 비용 https://cafe.naver.com/brag11/91189\n",
      "후코이단의 코로나 예방 효과 https://blog.naver.com/elanfriends/222335198176\n",
      "청구성심병원 코로나19 예방접종 위탁의료기관선정 https://blog.naver.com/cgss1975/222384533700\n",
      "괴산군 코로나19 현황 알림(2021.06.01.) https://blog.naver.com/goesan-gun/222378748163\n",
      "익산 ‘코로나 집단면역’ 형성 속도 https://blog.naver.com/hiksanin/222382796613\n"
     ]
    }
   ],
   "source": [
    "key_word = input('키워드를 입력하세요 :')\n",
    "url = f'https://search.naver.com/search.naver?where=view&sm=tab_jum&query={key_word}'\n",
    "\n",
    "response = requests.get(url)\n",
    "\n",
    "if response.status_code == requests.codes.ok:\n",
    "    print('접속성공')\n",
    "\n",
    "html = BeautifulSoup(response.text, 'html.parser')\n",
    "\n",
    "titles = html.select('a.api_txt_lines')\n",
    "for title in titles:\n",
    "    print(title.text, title.attrs['href'])"
   ]
  },
  {
   "cell_type": "markdown",
   "metadata": {
    "id": "P_ssRYoV88a7",
    "slideshow": {
     "slide_type": "slide"
    }
   },
   "source": [
    "    가져온 데이터에 접근을 하는 방식 자체는 판다스 색인처럼 결과값을 확인하며 진행하는 것이 가장 좋습니다."
   ]
  },
  {
   "cell_type": "markdown",
   "metadata": {
    "id": "XYhXePUPB7FF",
    "slideshow": {
     "slide_type": "slide"
    }
   },
   "source": [
    "## **동적페이지 크롤링**\n",
    "> 최근에는 Js로 변경이 되며 일반적인 크롤링이 되지 않는 경우가 많음  \n",
    "동적페이지와 숨겨진 url을 가져오는 방법을 알아봅니다"
   ]
  },
  {
   "cell_type": "markdown",
   "metadata": {
    "id": "GIvAIByBCAz1",
    "slideshow": {
     "slide_type": "slide"
    }
   },
   "source": [
    "### 네이버 데이터랩 인기검색어 크롤링"
   ]
  },
  {
   "cell_type": "code",
   "execution_count": 12,
   "metadata": {
    "ExecuteTime": {
     "end_time": "2021-06-06T06:35:26.793191Z",
     "start_time": "2021-06-06T06:35:26.665314Z"
    },
    "id": "uvafKGESAAEJ",
    "slideshow": {
     "slide_type": "subslide"
    }
   },
   "outputs": [
    {
     "data": {
      "text/plain": [
       "{'message': None,\n",
       " 'statusCode': 200,\n",
       " 'returnCode': 0,\n",
       " 'date': '2021/05/25',\n",
       " 'datetime': '2021.05.25.(화)',\n",
       " 'range': '',\n",
       " 'ranks': [{'rank': 1, 'keyword': '원피스', 'linkId': '원피스'},\n",
       "  {'rank': 2, 'keyword': '남자반팔티', 'linkId': '남자반팔티'},\n",
       "  {'rank': 3, 'keyword': '반바지', 'linkId': '반바지'},\n",
       "  {'rank': 4, 'keyword': '롱원피스', 'linkId': '롱원피스'},\n",
       "  {'rank': 5, 'keyword': '블라우스', 'linkId': '블라우스'},\n",
       "  {'rank': 6, 'keyword': '써스데이아일랜드원피스', 'linkId': '써스데이아일랜드원피스'},\n",
       "  {'rank': 7, 'keyword': '여성점프수트', 'linkId': '여성점프수트'},\n",
       "  {'rank': 8, 'keyword': '나이키바람막이', 'linkId': '나이키바람막이'},\n",
       "  {'rank': 9, 'keyword': '여성린넨자켓', 'linkId': '여성린넨자켓'},\n",
       "  {'rank': 10, 'keyword': '바람막이', 'linkId': '바람막이'}]}"
      ]
     },
     "execution_count": 12,
     "metadata": {},
     "output_type": "execute_result"
    }
   ],
   "source": [
    "import json\n",
    "\n",
    "# 카테고리 데이터 가져오기\n",
    "url = 'https://datalab.naver.com/shoppingInsight/getKeywordRank.naver?timeUnit=date&cid=50000000'\n",
    "\n",
    "# 헤더정보 필요\n",
    "header = {\n",
    "    'user-agent': 'Mozilla/5.0 (Macintosh; Intel Mac OS X 10_13_6) AppleWebKit/537.36 (KHTML, like Gecko) Chrome/88.0.4324.96 Safari/537.36',\n",
    "    'referer': 'https://datalab.naver.com/'\n",
    "}\n",
    "\n",
    "response = requests.post(url, headers=header)\n",
    "data = json.loads(response.text)\n",
    "data[0]"
   ]
  },
  {
   "cell_type": "markdown",
   "metadata": {
    "id": "N3NtfdJNMWM6",
    "slideshow": {
     "slide_type": "slide"
    }
   },
   "source": [
    "### 다음 주식 일자별 주가 데이터 크롤링"
   ]
  },
  {
   "cell_type": "code",
   "execution_count": 13,
   "metadata": {
    "ExecuteTime": {
     "end_time": "2021-06-06T06:35:43.045953Z",
     "start_time": "2021-06-06T06:35:42.931406Z"
    },
    "id": "9txT7yVwMehO"
   },
   "outputs": [
    {
     "data": {
      "text/plain": [
       "{'data': [{'symbolCode': 'A285130',\n",
       "   'date': '2021-05-21 15:30:09',\n",
       "   'tradePrice': 251500.0,\n",
       "   'tradeTime': '15:30:09',\n",
       "   'change': 'RISE',\n",
       "   'changePrice': 500.0,\n",
       "   'changeRate': 0.0019920319,\n",
       "   'prevClosingPrice': 251000.0,\n",
       "   'exchangeCountry': 'KOREA',\n",
       "   'openingPrice': 252000.0,\n",
       "   'highPrice': 255000.0,\n",
       "   'lowPrice': 251000.0,\n",
       "   'accTradePrice': 10629898500,\n",
       "   'accTradeVolume': 42159,\n",
       "   'periodTradePrice': 10629898500,\n",
       "   'periodTradeVolume': 42159,\n",
       "   'listedSharesCount': None},\n",
       "  {'symbolCode': 'A285130',\n",
       "   'date': '2021-05-20 15:30:06',\n",
       "   'tradePrice': 251000.0,\n",
       "   'tradeTime': '15:30:06',\n",
       "   'change': 'FALL',\n",
       "   'changePrice': 5000.0,\n",
       "   'changeRate': -0.01953125,\n",
       "   'prevClosingPrice': 256000.0,\n",
       "   'exchangeCountry': 'KOREA',\n",
       "   'openingPrice': 256500.0,\n",
       "   'highPrice': 256500.0,\n",
       "   'lowPrice': 249000.0,\n",
       "   'accTradePrice': 23324885500,\n",
       "   'accTradeVolume': 93200,\n",
       "   'periodTradePrice': 23324885500,\n",
       "   'periodTradeVolume': 93200,\n",
       "   'listedSharesCount': None},\n",
       "  {'symbolCode': 'A285130',\n",
       "   'date': '2021-05-18 15:30:10',\n",
       "   'tradePrice': 256000.0,\n",
       "   'tradeTime': '15:30:10',\n",
       "   'change': 'FALL',\n",
       "   'changePrice': 1000.0,\n",
       "   'changeRate': -0.0038910506,\n",
       "   'prevClosingPrice': 257000.0,\n",
       "   'exchangeCountry': 'KOREA',\n",
       "   'openingPrice': 256500.0,\n",
       "   'highPrice': 263000.0,\n",
       "   'lowPrice': 256000.0,\n",
       "   'accTradePrice': 16626606500,\n",
       "   'accTradeVolume': 63960,\n",
       "   'periodTradePrice': 16626606500,\n",
       "   'periodTradeVolume': 63960,\n",
       "   'listedSharesCount': None},\n",
       "  {'symbolCode': 'A285130',\n",
       "   'date': '2021-05-17 15:30:24',\n",
       "   'tradePrice': 257000.0,\n",
       "   'tradeTime': '15:30:24',\n",
       "   'change': 'RISE',\n",
       "   'changePrice': 2500.0,\n",
       "   'changeRate': 0.0098231827,\n",
       "   'prevClosingPrice': 254500.0,\n",
       "   'exchangeCountry': 'KOREA',\n",
       "   'openingPrice': 256000.0,\n",
       "   'highPrice': 262500.0,\n",
       "   'lowPrice': 256000.0,\n",
       "   'accTradePrice': 17154847000,\n",
       "   'accTradeVolume': 66368,\n",
       "   'periodTradePrice': 17154847000,\n",
       "   'periodTradeVolume': 66368,\n",
       "   'listedSharesCount': None},\n",
       "  {'symbolCode': 'A285130',\n",
       "   'date': '2021-05-14 15:30:08',\n",
       "   'tradePrice': 254500.0,\n",
       "   'tradeTime': '15:30:08',\n",
       "   'change': 'RISE',\n",
       "   'changePrice': 4500.0,\n",
       "   'changeRate': 0.018,\n",
       "   'prevClosingPrice': 250000.0,\n",
       "   'exchangeCountry': 'KOREA',\n",
       "   'openingPrice': 251500.0,\n",
       "   'highPrice': 255500.0,\n",
       "   'lowPrice': 251500.0,\n",
       "   'accTradePrice': 15662438000,\n",
       "   'accTradeVolume': 61726,\n",
       "   'periodTradePrice': 15662438000,\n",
       "   'periodTradeVolume': 61726,\n",
       "   'listedSharesCount': None},\n",
       "  {'symbolCode': 'A285130',\n",
       "   'date': '2021-05-13 15:30:05',\n",
       "   'tradePrice': 250000.0,\n",
       "   'tradeTime': '15:30:05',\n",
       "   'change': 'FALL',\n",
       "   'changePrice': 2000.0,\n",
       "   'changeRate': -0.0079365079,\n",
       "   'prevClosingPrice': 252000.0,\n",
       "   'exchangeCountry': 'KOREA',\n",
       "   'openingPrice': 245500.0,\n",
       "   'highPrice': 254500.0,\n",
       "   'lowPrice': 245000.0,\n",
       "   'accTradePrice': 24305030000,\n",
       "   'accTradeVolume': 97315,\n",
       "   'periodTradePrice': 24305030000,\n",
       "   'periodTradeVolume': 97315,\n",
       "   'listedSharesCount': None},\n",
       "  {'symbolCode': 'A285130',\n",
       "   'date': '2021-05-12 15:30:13',\n",
       "   'tradePrice': 252000.0,\n",
       "   'tradeTime': '15:30:13',\n",
       "   'change': 'FALL',\n",
       "   'changePrice': 9000.0,\n",
       "   'changeRate': -0.0344827586,\n",
       "   'prevClosingPrice': 261000.0,\n",
       "   'exchangeCountry': 'KOREA',\n",
       "   'openingPrice': 261500.0,\n",
       "   'highPrice': 262000.0,\n",
       "   'lowPrice': 250500.0,\n",
       "   'accTradePrice': 43693298500,\n",
       "   'accTradeVolume': 172527,\n",
       "   'periodTradePrice': 43693298500,\n",
       "   'periodTradeVolume': 172527,\n",
       "   'listedSharesCount': None},\n",
       "  {'symbolCode': 'A285130',\n",
       "   'date': '2021-05-11 15:30:29',\n",
       "   'tradePrice': 261000.0,\n",
       "   'tradeTime': '15:30:29',\n",
       "   'change': 'FALL',\n",
       "   'changePrice': 12500.0,\n",
       "   'changeRate': -0.0457038391,\n",
       "   'prevClosingPrice': 273500.0,\n",
       "   'exchangeCountry': 'KOREA',\n",
       "   'openingPrice': 274000.0,\n",
       "   'highPrice': 278000.0,\n",
       "   'lowPrice': 260500.0,\n",
       "   'accTradePrice': 47497091000,\n",
       "   'accTradeVolume': 179179,\n",
       "   'periodTradePrice': 47497091000,\n",
       "   'periodTradeVolume': 179179,\n",
       "   'listedSharesCount': None},\n",
       "  {'symbolCode': 'A285130',\n",
       "   'date': '2021-05-10 15:30:12',\n",
       "   'tradePrice': 273500.0,\n",
       "   'tradeTime': '15:30:12',\n",
       "   'change': 'RISE',\n",
       "   'changePrice': 18000.0,\n",
       "   'changeRate': 0.0704500978,\n",
       "   'prevClosingPrice': 255500.0,\n",
       "   'exchangeCountry': 'KOREA',\n",
       "   'openingPrice': 266000.0,\n",
       "   'highPrice': 277500.0,\n",
       "   'lowPrice': 263500.0,\n",
       "   'accTradePrice': 63970408000,\n",
       "   'accTradeVolume': 235802,\n",
       "   'periodTradePrice': 63970408000,\n",
       "   'periodTradeVolume': 235802,\n",
       "   'listedSharesCount': None},\n",
       "  {'symbolCode': 'A285130',\n",
       "   'date': '2021-05-07 15:30:12',\n",
       "   'tradePrice': 255500.0,\n",
       "   'tradeTime': '15:30:12',\n",
       "   'change': 'FALL',\n",
       "   'changePrice': 500.0,\n",
       "   'changeRate': -0.001953125,\n",
       "   'prevClosingPrice': 256000.0,\n",
       "   'exchangeCountry': 'KOREA',\n",
       "   'openingPrice': 253500.0,\n",
       "   'highPrice': 258000.0,\n",
       "   'lowPrice': 253500.0,\n",
       "   'accTradePrice': 17852127500,\n",
       "   'accTradeVolume': 69478,\n",
       "   'periodTradePrice': 17852127500,\n",
       "   'periodTradeVolume': 69478,\n",
       "   'listedSharesCount': None}],\n",
       " 'totalPages': 84,\n",
       " 'currentPage': 2,\n",
       " 'pageSize': 10}"
      ]
     },
     "execution_count": 13,
     "metadata": {},
     "output_type": "execute_result"
    }
   ],
   "source": [
    "url = 'https://finance.daum.net/api/quote/A285130/days?symbolCode=A285130&page=2&perPage=10&pagination=true'\n",
    "\n",
    "header = {\n",
    "    'Referer':'https://finance.daum.net/quotes/A285130?period=day',\n",
    "    'User-Agent':'Mozilla/5.0 (Macintosh; Intel Mac OS X 10_13_6) AppleWebKit/537.36 (KHTML, like Gecko) Chrome/88.0.4324.96 Safari/537.36'\n",
    "}\n",
    "\n",
    "response = requests.get(url, headers=header)\n",
    "data = json.loads(response.text)\n",
    "data"
   ]
  },
  {
   "cell_type": "code",
   "execution_count": 14,
   "metadata": {
    "ExecuteTime": {
     "end_time": "2021-06-06T06:36:12.359170Z",
     "start_time": "2021-06-06T06:36:12.356237Z"
    }
   },
   "outputs": [],
   "source": [
    "from pandas.io.json import json_normalize"
   ]
  },
  {
   "cell_type": "code",
   "execution_count": 15,
   "metadata": {
    "ExecuteTime": {
     "end_time": "2021-06-06T06:36:12.588215Z",
     "start_time": "2021-06-06T06:36:12.583054Z"
    }
   },
   "outputs": [],
   "source": [
    "df = pd.DataFrame(data['data'])"
   ]
  },
  {
   "cell_type": "code",
   "execution_count": 16,
   "metadata": {
    "ExecuteTime": {
     "end_time": "2021-06-06T06:36:12.890478Z",
     "start_time": "2021-06-06T06:36:12.866931Z"
    }
   },
   "outputs": [
    {
     "data": {
      "text/html": [
       "<div>\n",
       "<style scoped>\n",
       "    .dataframe tbody tr th:only-of-type {\n",
       "        vertical-align: middle;\n",
       "    }\n",
       "\n",
       "    .dataframe tbody tr th {\n",
       "        vertical-align: top;\n",
       "    }\n",
       "\n",
       "    .dataframe thead th {\n",
       "        text-align: right;\n",
       "    }\n",
       "</style>\n",
       "<table border=\"1\" class=\"dataframe\">\n",
       "  <thead>\n",
       "    <tr style=\"text-align: right;\">\n",
       "      <th></th>\n",
       "      <th>symbolCode</th>\n",
       "      <th>date</th>\n",
       "      <th>tradePrice</th>\n",
       "      <th>tradeTime</th>\n",
       "      <th>change</th>\n",
       "      <th>changePrice</th>\n",
       "      <th>changeRate</th>\n",
       "      <th>prevClosingPrice</th>\n",
       "      <th>exchangeCountry</th>\n",
       "      <th>openingPrice</th>\n",
       "      <th>highPrice</th>\n",
       "      <th>lowPrice</th>\n",
       "      <th>accTradePrice</th>\n",
       "      <th>accTradeVolume</th>\n",
       "      <th>periodTradePrice</th>\n",
       "      <th>periodTradeVolume</th>\n",
       "      <th>listedSharesCount</th>\n",
       "    </tr>\n",
       "  </thead>\n",
       "  <tbody>\n",
       "    <tr>\n",
       "      <th>0</th>\n",
       "      <td>A285130</td>\n",
       "      <td>2021-05-21 15:30:09</td>\n",
       "      <td>251500.0</td>\n",
       "      <td>15:30:09</td>\n",
       "      <td>RISE</td>\n",
       "      <td>500.0</td>\n",
       "      <td>0.001992</td>\n",
       "      <td>251000.0</td>\n",
       "      <td>KOREA</td>\n",
       "      <td>252000.0</td>\n",
       "      <td>255000.0</td>\n",
       "      <td>251000.0</td>\n",
       "      <td>10629898500</td>\n",
       "      <td>42159</td>\n",
       "      <td>10629898500</td>\n",
       "      <td>42159</td>\n",
       "      <td>None</td>\n",
       "    </tr>\n",
       "    <tr>\n",
       "      <th>1</th>\n",
       "      <td>A285130</td>\n",
       "      <td>2021-05-20 15:30:06</td>\n",
       "      <td>251000.0</td>\n",
       "      <td>15:30:06</td>\n",
       "      <td>FALL</td>\n",
       "      <td>5000.0</td>\n",
       "      <td>-0.019531</td>\n",
       "      <td>256000.0</td>\n",
       "      <td>KOREA</td>\n",
       "      <td>256500.0</td>\n",
       "      <td>256500.0</td>\n",
       "      <td>249000.0</td>\n",
       "      <td>23324885500</td>\n",
       "      <td>93200</td>\n",
       "      <td>23324885500</td>\n",
       "      <td>93200</td>\n",
       "      <td>None</td>\n",
       "    </tr>\n",
       "    <tr>\n",
       "      <th>2</th>\n",
       "      <td>A285130</td>\n",
       "      <td>2021-05-18 15:30:10</td>\n",
       "      <td>256000.0</td>\n",
       "      <td>15:30:10</td>\n",
       "      <td>FALL</td>\n",
       "      <td>1000.0</td>\n",
       "      <td>-0.003891</td>\n",
       "      <td>257000.0</td>\n",
       "      <td>KOREA</td>\n",
       "      <td>256500.0</td>\n",
       "      <td>263000.0</td>\n",
       "      <td>256000.0</td>\n",
       "      <td>16626606500</td>\n",
       "      <td>63960</td>\n",
       "      <td>16626606500</td>\n",
       "      <td>63960</td>\n",
       "      <td>None</td>\n",
       "    </tr>\n",
       "    <tr>\n",
       "      <th>3</th>\n",
       "      <td>A285130</td>\n",
       "      <td>2021-05-17 15:30:24</td>\n",
       "      <td>257000.0</td>\n",
       "      <td>15:30:24</td>\n",
       "      <td>RISE</td>\n",
       "      <td>2500.0</td>\n",
       "      <td>0.009823</td>\n",
       "      <td>254500.0</td>\n",
       "      <td>KOREA</td>\n",
       "      <td>256000.0</td>\n",
       "      <td>262500.0</td>\n",
       "      <td>256000.0</td>\n",
       "      <td>17154847000</td>\n",
       "      <td>66368</td>\n",
       "      <td>17154847000</td>\n",
       "      <td>66368</td>\n",
       "      <td>None</td>\n",
       "    </tr>\n",
       "    <tr>\n",
       "      <th>4</th>\n",
       "      <td>A285130</td>\n",
       "      <td>2021-05-14 15:30:08</td>\n",
       "      <td>254500.0</td>\n",
       "      <td>15:30:08</td>\n",
       "      <td>RISE</td>\n",
       "      <td>4500.0</td>\n",
       "      <td>0.018000</td>\n",
       "      <td>250000.0</td>\n",
       "      <td>KOREA</td>\n",
       "      <td>251500.0</td>\n",
       "      <td>255500.0</td>\n",
       "      <td>251500.0</td>\n",
       "      <td>15662438000</td>\n",
       "      <td>61726</td>\n",
       "      <td>15662438000</td>\n",
       "      <td>61726</td>\n",
       "      <td>None</td>\n",
       "    </tr>\n",
       "    <tr>\n",
       "      <th>5</th>\n",
       "      <td>A285130</td>\n",
       "      <td>2021-05-13 15:30:05</td>\n",
       "      <td>250000.0</td>\n",
       "      <td>15:30:05</td>\n",
       "      <td>FALL</td>\n",
       "      <td>2000.0</td>\n",
       "      <td>-0.007937</td>\n",
       "      <td>252000.0</td>\n",
       "      <td>KOREA</td>\n",
       "      <td>245500.0</td>\n",
       "      <td>254500.0</td>\n",
       "      <td>245000.0</td>\n",
       "      <td>24305030000</td>\n",
       "      <td>97315</td>\n",
       "      <td>24305030000</td>\n",
       "      <td>97315</td>\n",
       "      <td>None</td>\n",
       "    </tr>\n",
       "    <tr>\n",
       "      <th>6</th>\n",
       "      <td>A285130</td>\n",
       "      <td>2021-05-12 15:30:13</td>\n",
       "      <td>252000.0</td>\n",
       "      <td>15:30:13</td>\n",
       "      <td>FALL</td>\n",
       "      <td>9000.0</td>\n",
       "      <td>-0.034483</td>\n",
       "      <td>261000.0</td>\n",
       "      <td>KOREA</td>\n",
       "      <td>261500.0</td>\n",
       "      <td>262000.0</td>\n",
       "      <td>250500.0</td>\n",
       "      <td>43693298500</td>\n",
       "      <td>172527</td>\n",
       "      <td>43693298500</td>\n",
       "      <td>172527</td>\n",
       "      <td>None</td>\n",
       "    </tr>\n",
       "    <tr>\n",
       "      <th>7</th>\n",
       "      <td>A285130</td>\n",
       "      <td>2021-05-11 15:30:29</td>\n",
       "      <td>261000.0</td>\n",
       "      <td>15:30:29</td>\n",
       "      <td>FALL</td>\n",
       "      <td>12500.0</td>\n",
       "      <td>-0.045704</td>\n",
       "      <td>273500.0</td>\n",
       "      <td>KOREA</td>\n",
       "      <td>274000.0</td>\n",
       "      <td>278000.0</td>\n",
       "      <td>260500.0</td>\n",
       "      <td>47497091000</td>\n",
       "      <td>179179</td>\n",
       "      <td>47497091000</td>\n",
       "      <td>179179</td>\n",
       "      <td>None</td>\n",
       "    </tr>\n",
       "    <tr>\n",
       "      <th>8</th>\n",
       "      <td>A285130</td>\n",
       "      <td>2021-05-10 15:30:12</td>\n",
       "      <td>273500.0</td>\n",
       "      <td>15:30:12</td>\n",
       "      <td>RISE</td>\n",
       "      <td>18000.0</td>\n",
       "      <td>0.070450</td>\n",
       "      <td>255500.0</td>\n",
       "      <td>KOREA</td>\n",
       "      <td>266000.0</td>\n",
       "      <td>277500.0</td>\n",
       "      <td>263500.0</td>\n",
       "      <td>63970408000</td>\n",
       "      <td>235802</td>\n",
       "      <td>63970408000</td>\n",
       "      <td>235802</td>\n",
       "      <td>None</td>\n",
       "    </tr>\n",
       "    <tr>\n",
       "      <th>9</th>\n",
       "      <td>A285130</td>\n",
       "      <td>2021-05-07 15:30:12</td>\n",
       "      <td>255500.0</td>\n",
       "      <td>15:30:12</td>\n",
       "      <td>FALL</td>\n",
       "      <td>500.0</td>\n",
       "      <td>-0.001953</td>\n",
       "      <td>256000.0</td>\n",
       "      <td>KOREA</td>\n",
       "      <td>253500.0</td>\n",
       "      <td>258000.0</td>\n",
       "      <td>253500.0</td>\n",
       "      <td>17852127500</td>\n",
       "      <td>69478</td>\n",
       "      <td>17852127500</td>\n",
       "      <td>69478</td>\n",
       "      <td>None</td>\n",
       "    </tr>\n",
       "  </tbody>\n",
       "</table>\n",
       "</div>"
      ],
      "text/plain": [
       "  symbolCode                 date  tradePrice tradeTime change  changePrice  \\\n",
       "0    A285130  2021-05-21 15:30:09    251500.0  15:30:09   RISE        500.0   \n",
       "1    A285130  2021-05-20 15:30:06    251000.0  15:30:06   FALL       5000.0   \n",
       "2    A285130  2021-05-18 15:30:10    256000.0  15:30:10   FALL       1000.0   \n",
       "3    A285130  2021-05-17 15:30:24    257000.0  15:30:24   RISE       2500.0   \n",
       "4    A285130  2021-05-14 15:30:08    254500.0  15:30:08   RISE       4500.0   \n",
       "5    A285130  2021-05-13 15:30:05    250000.0  15:30:05   FALL       2000.0   \n",
       "6    A285130  2021-05-12 15:30:13    252000.0  15:30:13   FALL       9000.0   \n",
       "7    A285130  2021-05-11 15:30:29    261000.0  15:30:29   FALL      12500.0   \n",
       "8    A285130  2021-05-10 15:30:12    273500.0  15:30:12   RISE      18000.0   \n",
       "9    A285130  2021-05-07 15:30:12    255500.0  15:30:12   FALL        500.0   \n",
       "\n",
       "   changeRate  prevClosingPrice exchangeCountry  openingPrice  highPrice  \\\n",
       "0    0.001992          251000.0           KOREA      252000.0   255000.0   \n",
       "1   -0.019531          256000.0           KOREA      256500.0   256500.0   \n",
       "2   -0.003891          257000.0           KOREA      256500.0   263000.0   \n",
       "3    0.009823          254500.0           KOREA      256000.0   262500.0   \n",
       "4    0.018000          250000.0           KOREA      251500.0   255500.0   \n",
       "5   -0.007937          252000.0           KOREA      245500.0   254500.0   \n",
       "6   -0.034483          261000.0           KOREA      261500.0   262000.0   \n",
       "7   -0.045704          273500.0           KOREA      274000.0   278000.0   \n",
       "8    0.070450          255500.0           KOREA      266000.0   277500.0   \n",
       "9   -0.001953          256000.0           KOREA      253500.0   258000.0   \n",
       "\n",
       "   lowPrice  accTradePrice  accTradeVolume  periodTradePrice  \\\n",
       "0  251000.0    10629898500           42159       10629898500   \n",
       "1  249000.0    23324885500           93200       23324885500   \n",
       "2  256000.0    16626606500           63960       16626606500   \n",
       "3  256000.0    17154847000           66368       17154847000   \n",
       "4  251500.0    15662438000           61726       15662438000   \n",
       "5  245000.0    24305030000           97315       24305030000   \n",
       "6  250500.0    43693298500          172527       43693298500   \n",
       "7  260500.0    47497091000          179179       47497091000   \n",
       "8  263500.0    63970408000          235802       63970408000   \n",
       "9  253500.0    17852127500           69478       17852127500   \n",
       "\n",
       "   periodTradeVolume listedSharesCount  \n",
       "0              42159              None  \n",
       "1              93200              None  \n",
       "2              63960              None  \n",
       "3              66368              None  \n",
       "4              61726              None  \n",
       "5              97315              None  \n",
       "6             172527              None  \n",
       "7             179179              None  \n",
       "8             235802              None  \n",
       "9              69478              None  "
      ]
     },
     "execution_count": 16,
     "metadata": {},
     "output_type": "execute_result"
    }
   ],
   "source": [
    "df"
   ]
  },
  {
   "cell_type": "markdown",
   "metadata": {},
   "source": [
    "### 네이버 주식 삼성전자 일자별 주가 데이터 크롤링 1페이지 부터 10페이지 까지"
   ]
  },
  {
   "cell_type": "code",
   "execution_count": 2,
   "metadata": {
    "ExecuteTime": {
     "end_time": "2021-06-30T03:09:57.997641Z",
     "start_time": "2021-06-30T03:09:57.994604Z"
    }
   },
   "outputs": [],
   "source": [
    "url = 'https://finance.naver.com/item/sise_day.nhn?code=005930&page=1'\n",
    "\n",
    "header = {\n",
    "    'referer' : 'https://finance.naver.com/item/sise_day.nhn?code=005930&page=2',\n",
    "    'user-agent' : 'Mozilla/5.0 (Macintosh; Intel Mac OS X 10_13_6) AppleWebKit/537.36 (KHTML, like Gecko) Chrome/88.0.4324.96 Safari/537.36'\n",
    "}"
   ]
  },
  {
   "cell_type": "code",
   "execution_count": 3,
   "metadata": {
    "ExecuteTime": {
     "end_time": "2021-06-30T03:09:58.689128Z",
     "start_time": "2021-06-30T03:09:58.584126Z"
    }
   },
   "outputs": [],
   "source": [
    "response = requests.get(url, headers=header)"
   ]
  },
  {
   "cell_type": "code",
   "execution_count": 4,
   "metadata": {
    "ExecuteTime": {
     "end_time": "2021-06-30T03:09:59.313098Z",
     "start_time": "2021-06-30T03:09:59.295985Z"
    }
   },
   "outputs": [],
   "source": [
    "html = BeautifulSoup(response.text, 'html.parser')"
   ]
  },
  {
   "cell_type": "code",
   "execution_count": 5,
   "metadata": {
    "ExecuteTime": {
     "end_time": "2021-06-30T03:09:59.775115Z",
     "start_time": "2021-06-30T03:09:59.734554Z"
    }
   },
   "outputs": [
    {
     "data": {
      "text/plain": [
       "\n",
       "<html lang=\"ko\">\n",
       "<head>\n",
       "<meta content=\"text/html; charset=utf-8\" http-equiv=\"Content-Type\"/>\n",
       "<title>네이버 금융</title>\n",
       "<link href=\"https://ssl.pstatic.net/imgstock/static.pc/20210624194556/css/newstock.css\" rel=\"stylesheet\" type=\"text/css\"/>\n",
       "<link href=\"https://ssl.pstatic.net/imgstock/static.pc/20210624194556/css/common.css\" rel=\"stylesheet\" type=\"text/css\"/>\n",
       "<link href=\"https://ssl.pstatic.net/imgstock/static.pc/20210624194556/css/layout.css\" rel=\"stylesheet\" type=\"text/css\"/>\n",
       "<link href=\"https://ssl.pstatic.net/imgstock/static.pc/20210624194556/css/main.css\" rel=\"stylesheet\" type=\"text/css\"/>\n",
       "<link href=\"https://ssl.pstatic.net/imgstock/static.pc/20210624194556/css/newstock2.css\" rel=\"stylesheet\" type=\"text/css\"/>\n",
       "<link href=\"https://ssl.pstatic.net/imgstock/static.pc/20210624194556/css/newstock3.css\" rel=\"stylesheet\" type=\"text/css\"/>\n",
       "<link href=\"https://ssl.pstatic.net/imgstock/static.pc/20210624194556/css/world.css\" rel=\"stylesheet\" type=\"text/css\"/>\n",
       "</head>\n",
       "<body>\n",
       "<script language=\"JavaScript\">\n",
       "function mouseOver(obj){\n",
       "  obj.style.backgroundColor=\"#f6f4e5\";\n",
       "}\n",
       "function mouseOut(obj){\n",
       "  obj.style.backgroundColor=\"#ffffff\";\n",
       "}\n",
       "</script>\n",
       "<h4 class=\"tlline2\"><strong><span class=\"red03\">일별</span>시세</strong></h4>\n",
       "<table cellspacing=\"0\" class=\"type2\">\n",
       "<tr>\n",
       "<th>날짜</th>\n",
       "<th>종가</th>\n",
       "<th>전일비</th>\n",
       "<th>시가</th>\n",
       "<th>고가</th>\n",
       "<th>저가</th>\n",
       "<th>거래량</th>\n",
       "</tr>\n",
       "<tr>\n",
       "<td colspan=\"7\" height=\"8\"></td>\n",
       "</tr>\n",
       "<tr onmouseout=\"mouseOut(this)\" onmouseover=\"mouseOver(this)\">\n",
       "<td align=\"center\"><span class=\"tah p10 gray03\">2021.06.30</span></td>\n",
       "<td class=\"num\"><span class=\"tah p11\">80,900</span></td>\n",
       "<td class=\"num\">\n",
       "<img alt=\"하락\" height=\"6\" src=\"https://ssl.pstatic.net/imgstock/images/images4/ico_down.gif\" style=\"margin-right:4px;\" width=\"7\"/><span class=\"tah p11 nv01\">\n",
       "\t\t\t\t100\n",
       "\t\t\t\t</span>\n",
       "</td>\n",
       "<td class=\"num\"><span class=\"tah p11\">81,100</span></td>\n",
       "<td class=\"num\"><span class=\"tah p11\">81,400</span></td>\n",
       "<td class=\"num\"><span class=\"tah p11\">80,800</span></td>\n",
       "<td class=\"num\"><span class=\"tah p11\">6,475,705</span></td>\n",
       "</tr>\n",
       "<tr onmouseout=\"mouseOut(this)\" onmouseover=\"mouseOver(this)\">\n",
       "<td align=\"center\"><span class=\"tah p10 gray03\">2021.06.29</span></td>\n",
       "<td class=\"num\"><span class=\"tah p11\">81,000</span></td>\n",
       "<td class=\"num\">\n",
       "<img alt=\"하락\" height=\"6\" src=\"https://ssl.pstatic.net/imgstock/images/images4/ico_down.gif\" style=\"margin-right:4px;\" width=\"7\"/><span class=\"tah p11 nv01\">\n",
       "\t\t\t\t900\n",
       "\t\t\t\t</span>\n",
       "</td>\n",
       "<td class=\"num\"><span class=\"tah p11\">81,900</span></td>\n",
       "<td class=\"num\"><span class=\"tah p11\">82,100</span></td>\n",
       "<td class=\"num\"><span class=\"tah p11\">80,800</span></td>\n",
       "<td class=\"num\"><span class=\"tah p11\">15,744,317</span></td>\n",
       "</tr>\n",
       "<tr onmouseout=\"mouseOut(this)\" onmouseover=\"mouseOver(this)\">\n",
       "<td align=\"center\"><span class=\"tah p10 gray03\">2021.06.28</span></td>\n",
       "<td class=\"num\"><span class=\"tah p11\">81,900</span></td>\n",
       "<td class=\"num\">\n",
       "<img alt=\"상승\" height=\"6\" src=\"https://ssl.pstatic.net/imgstock/images/images4/ico_up.gif\" style=\"margin-right:4px;\" width=\"7\"/><span class=\"tah p11 red02\">\n",
       "\t\t\t\t300\n",
       "\t\t\t\t</span>\n",
       "</td>\n",
       "<td class=\"num\"><span class=\"tah p11\">81,700</span></td>\n",
       "<td class=\"num\"><span class=\"tah p11\">82,000</span></td>\n",
       "<td class=\"num\"><span class=\"tah p11\">81,600</span></td>\n",
       "<td class=\"num\"><span class=\"tah p11\">11,578,529</span></td>\n",
       "</tr>\n",
       "<tr onmouseout=\"mouseOut(this)\" onmouseover=\"mouseOver(this)\">\n",
       "<td align=\"center\"><span class=\"tah p10 gray03\">2021.06.25</span></td>\n",
       "<td class=\"num\"><span class=\"tah p11\">81,600</span></td>\n",
       "<td class=\"num\">\n",
       "<img alt=\"상승\" height=\"6\" src=\"https://ssl.pstatic.net/imgstock/images/images4/ico_up.gif\" style=\"margin-right:4px;\" width=\"7\"/><span class=\"tah p11 red02\">\n",
       "\t\t\t\t400\n",
       "\t\t\t\t</span>\n",
       "</td>\n",
       "<td class=\"num\"><span class=\"tah p11\">81,500</span></td>\n",
       "<td class=\"num\"><span class=\"tah p11\">81,900</span></td>\n",
       "<td class=\"num\"><span class=\"tah p11\">81,200</span></td>\n",
       "<td class=\"num\"><span class=\"tah p11\">13,481,405</span></td>\n",
       "</tr>\n",
       "<tr onmouseout=\"mouseOut(this)\" onmouseover=\"mouseOver(this)\">\n",
       "<td align=\"center\"><span class=\"tah p10 gray03\">2021.06.24</span></td>\n",
       "<td class=\"num\"><span class=\"tah p11\">81,200</span></td>\n",
       "<td class=\"num\">\n",
       "<img alt=\"상승\" height=\"6\" src=\"https://ssl.pstatic.net/imgstock/images/images4/ico_up.gif\" style=\"margin-right:4px;\" width=\"7\"/><span class=\"tah p11 red02\">\n",
       "\t\t\t\t1,100\n",
       "\t\t\t\t</span>\n",
       "</td>\n",
       "<td class=\"num\"><span class=\"tah p11\">80,400</span></td>\n",
       "<td class=\"num\"><span class=\"tah p11\">81,400</span></td>\n",
       "<td class=\"num\"><span class=\"tah p11\">80,100</span></td>\n",
       "<td class=\"num\"><span class=\"tah p11\">18,771,080</span></td>\n",
       "</tr>\n",
       "<tr>\n",
       "<td colspan=\"7\" height=\"8\"></td>\n",
       "</tr>\n",
       "<tr>\n",
       "<td bgcolor=\"#e1e1e1\" colspan=\"7\" height=\"1\"></td>\n",
       "</tr>\n",
       "<tr>\n",
       "<td colspan=\"7\" height=\"8\"></td>\n",
       "</tr>\n",
       "<tr onmouseout=\"mouseOut(this)\" onmouseover=\"mouseOver(this)\">\n",
       "<td align=\"center\"><span class=\"tah p10 gray03\">2021.06.23</span></td>\n",
       "<td class=\"num\"><span class=\"tah p11\">80,100</span></td>\n",
       "<td class=\"num\">\n",
       "<img alt=\"상승\" height=\"6\" src=\"https://ssl.pstatic.net/imgstock/images/images4/ico_up.gif\" style=\"margin-right:4px;\" width=\"7\"/><span class=\"tah p11 red02\">\n",
       "\t\t\t\t100\n",
       "\t\t\t\t</span>\n",
       "</td>\n",
       "<td class=\"num\"><span class=\"tah p11\">80,500</span></td>\n",
       "<td class=\"num\"><span class=\"tah p11\">80,600</span></td>\n",
       "<td class=\"num\"><span class=\"tah p11\">79,900</span></td>\n",
       "<td class=\"num\"><span class=\"tah p11\">13,856,548</span></td>\n",
       "</tr>\n",
       "<tr onmouseout=\"mouseOut(this)\" onmouseover=\"mouseOver(this)\">\n",
       "<td align=\"center\"><span class=\"tah p10 gray03\">2021.06.22</span></td>\n",
       "<td class=\"num\"><span class=\"tah p11\">80,000</span></td>\n",
       "<td class=\"num\">\n",
       "<img alt=\"상승\" height=\"6\" src=\"https://ssl.pstatic.net/imgstock/images/images4/ico_up.gif\" style=\"margin-right:4px;\" width=\"7\"/><span class=\"tah p11 red02\">\n",
       "\t\t\t\t100\n",
       "\t\t\t\t</span>\n",
       "</td>\n",
       "<td class=\"num\"><span class=\"tah p11\">80,200</span></td>\n",
       "<td class=\"num\"><span class=\"tah p11\">80,300</span></td>\n",
       "<td class=\"num\"><span class=\"tah p11\">79,900</span></td>\n",
       "<td class=\"num\"><span class=\"tah p11\">11,773,365</span></td>\n",
       "</tr>\n",
       "<tr onmouseout=\"mouseOut(this)\" onmouseover=\"mouseOver(this)\">\n",
       "<td align=\"center\"><span class=\"tah p10 gray03\">2021.06.21</span></td>\n",
       "<td class=\"num\"><span class=\"tah p11\">79,900</span></td>\n",
       "<td class=\"num\">\n",
       "<img alt=\"하락\" height=\"6\" src=\"https://ssl.pstatic.net/imgstock/images/images4/ico_down.gif\" style=\"margin-right:4px;\" width=\"7\"/><span class=\"tah p11 nv01\">\n",
       "\t\t\t\t600\n",
       "\t\t\t\t</span>\n",
       "</td>\n",
       "<td class=\"num\"><span class=\"tah p11\">79,700</span></td>\n",
       "<td class=\"num\"><span class=\"tah p11\">80,000</span></td>\n",
       "<td class=\"num\"><span class=\"tah p11\">79,600</span></td>\n",
       "<td class=\"num\"><span class=\"tah p11\">16,063,340</span></td>\n",
       "</tr>\n",
       "<tr onmouseout=\"mouseOut(this)\" onmouseover=\"mouseOver(this)\">\n",
       "<td align=\"center\"><span class=\"tah p10 gray03\">2021.06.18</span></td>\n",
       "<td class=\"num\"><span class=\"tah p11\">80,500</span></td>\n",
       "<td class=\"num\">\n",
       "<img alt=\"하락\" height=\"6\" src=\"https://ssl.pstatic.net/imgstock/images/images4/ico_down.gif\" style=\"margin-right:4px;\" width=\"7\"/><span class=\"tah p11 nv01\">\n",
       "\t\t\t\t400\n",
       "\t\t\t\t</span>\n",
       "</td>\n",
       "<td class=\"num\"><span class=\"tah p11\">81,100</span></td>\n",
       "<td class=\"num\"><span class=\"tah p11\">81,100</span></td>\n",
       "<td class=\"num\"><span class=\"tah p11\">80,500</span></td>\n",
       "<td class=\"num\"><span class=\"tah p11\">14,916,721</span></td>\n",
       "</tr>\n",
       "<tr onmouseout=\"mouseOut(this)\" onmouseover=\"mouseOver(this)\">\n",
       "<td align=\"center\"><span class=\"tah p10 gray03\">2021.06.17</span></td>\n",
       "<td class=\"num\"><span class=\"tah p11\">80,900</span></td>\n",
       "<td class=\"num\">\n",
       "<img alt=\"하락\" height=\"6\" src=\"https://ssl.pstatic.net/imgstock/images/images4/ico_down.gif\" style=\"margin-right:4px;\" width=\"7\"/><span class=\"tah p11 nv01\">\n",
       "\t\t\t\t900\n",
       "\t\t\t\t</span>\n",
       "</td>\n",
       "<td class=\"num\"><span class=\"tah p11\">81,100</span></td>\n",
       "<td class=\"num\"><span class=\"tah p11\">81,300</span></td>\n",
       "<td class=\"num\"><span class=\"tah p11\">80,700</span></td>\n",
       "<td class=\"num\"><span class=\"tah p11\">14,007,385</span></td>\n",
       "</tr>\n",
       "<tr>\n",
       "<td colspan=\"7\" height=\"8\"></td>\n",
       "</tr>\n",
       "</table>\n",
       "<!--- 페이지 네비게이션 시작--->\n",
       "<table align=\"center\" class=\"Nnavi\" summary=\"페이지 네비게이션 리스트\">\n",
       "<caption>페이지 네비게이션</caption>\n",
       "<tr>\n",
       "<td class=\"on\">\n",
       "<a href=\"/item/sise_day.nhn?code=005930&amp;page=1\">1</a>\n",
       "</td>\n",
       "<td>\n",
       "<a href=\"/item/sise_day.nhn?code=005930&amp;page=2\">2</a>\n",
       "</td>\n",
       "<td>\n",
       "<a href=\"/item/sise_day.nhn?code=005930&amp;page=3\">3</a>\n",
       "</td>\n",
       "<td>\n",
       "<a href=\"/item/sise_day.nhn?code=005930&amp;page=4\">4</a>\n",
       "</td>\n",
       "<td>\n",
       "<a href=\"/item/sise_day.nhn?code=005930&amp;page=5\">5</a>\n",
       "</td>\n",
       "<td>\n",
       "<a href=\"/item/sise_day.nhn?code=005930&amp;page=6\">6</a>\n",
       "</td>\n",
       "<td>\n",
       "<a href=\"/item/sise_day.nhn?code=005930&amp;page=7\">7</a>\n",
       "</td>\n",
       "<td>\n",
       "<a href=\"/item/sise_day.nhn?code=005930&amp;page=8\">8</a>\n",
       "</td>\n",
       "<td>\n",
       "<a href=\"/item/sise_day.nhn?code=005930&amp;page=9\">9</a>\n",
       "</td>\n",
       "<td>\n",
       "<a href=\"/item/sise_day.nhn?code=005930&amp;page=10\">10</a>\n",
       "</td>\n",
       "<td class=\"pgR\">\n",
       "<a href=\"/item/sise_day.nhn?code=005930&amp;page=11\">\n",
       "\t\t\t\t다음<img alt=\"\" border=\"0\" height=\"5\" src=\"https://ssl.pstatic.net/static/n/cmn/bu_pgarR.gif\" width=\"3\"/>\n",
       "</a>\n",
       "</td>\n",
       "<td class=\"pgRR\">\n",
       "<a href=\"/item/sise_day.nhn?code=005930&amp;page=629\">맨뒤\n",
       "\t\t\t\t<img alt=\"\" border=\"0\" height=\"5\" src=\"https://ssl.pstatic.net/static/n/cmn/bu_pgarRR.gif\" width=\"8\"/>\n",
       "</a>\n",
       "</td>\n",
       "</tr>\n",
       "</table>\n",
       "<!--- 페이지 네비게이션 끝--->\n",
       "<script src=\"https://ssl.pstatic.net/imgstock/static.pc/20210624194556/js/jindo.min.ns.1.5.3.euckr.js\" type=\"text/javascript\"></script>\n",
       "<script src=\"https://ssl.pstatic.net/imgstock/static.pc/20210624194556/js/lcslog.js\" type=\"text/javascript\"></script>\n",
       "<script type=\"text/javascript\">\n",
       "        ;(function(){\n",
       "            var eventType = \"onpageshow\" in window ? \"pageshow\" : \"load\";\n",
       "            jindo.$Fn(function(){\n",
       "                lcs_do();\n",
       "            }).attach(window, eventType);\n",
       "        })();\n",
       "\t</script>\n",
       "</body></html>"
      ]
     },
     "execution_count": 5,
     "metadata": {},
     "output_type": "execute_result"
    }
   ],
   "source": [
    "html"
   ]
  },
  {
   "cell_type": "code",
   "execution_count": 6,
   "metadata": {
    "ExecuteTime": {
     "end_time": "2021-06-30T03:10:03.134251Z",
     "start_time": "2021-06-30T03:10:03.130270Z"
    }
   },
   "outputs": [],
   "source": [
    "stock_list = []\n",
    "for i in html.select('span.tah'):\n",
    "    stock_list.append(i.text.replace('\\t', '').replace('\\n', ''))"
   ]
  },
  {
   "cell_type": "code",
   "execution_count": 7,
   "metadata": {
    "ExecuteTime": {
     "end_time": "2021-06-30T03:10:13.237626Z",
     "start_time": "2021-06-30T03:10:13.233689Z"
    }
   },
   "outputs": [
    {
     "data": {
      "text/plain": [
       "['2021.06.30', '80,900', '100', '81,100', '81,400', '80,800', '6,475,705']"
      ]
     },
     "execution_count": 7,
     "metadata": {},
     "output_type": "execute_result"
    }
   ],
   "source": [
    "stock_list[0:7]"
   ]
  },
  {
   "cell_type": "code",
   "execution_count": 8,
   "metadata": {
    "ExecuteTime": {
     "end_time": "2021-06-30T03:10:21.311263Z",
     "start_time": "2021-06-30T03:10:21.306197Z"
    }
   },
   "outputs": [
    {
     "name": "stdout",
     "output_type": "stream",
     "text": [
      "['2021.06.30', '80,900', '100', '81,100', '81,400', '80,800', '6,475,705']\n",
      "['2021.06.29', '81,000', '900', '81,900', '82,100', '80,800', '15,744,317']\n",
      "['2021.06.28', '81,900', '300', '81,700', '82,000', '81,600', '11,578,529']\n",
      "['2021.06.25', '81,600', '400', '81,500', '81,900', '81,200', '13,481,405']\n",
      "['2021.06.24', '81,200', '1,100', '80,400', '81,400', '80,100', '18,771,080']\n",
      "['2021.06.23', '80,100', '100', '80,500', '80,600', '79,900', '13,856,548']\n",
      "['2021.06.22', '80,000', '100', '80,200', '80,300', '79,900', '11,773,365']\n",
      "['2021.06.21', '79,900', '600', '79,700', '80,000', '79,600', '16,063,340']\n",
      "['2021.06.18', '80,500', '400', '81,100', '81,100', '80,500', '14,916,721']\n",
      "['2021.06.17', '80,900', '900', '81,100', '81,300', '80,700', '14,007,385']\n"
     ]
    }
   ],
   "source": [
    "for i in range(10):\n",
    "    print(stock_list[(i*7):(i*7)+7])"
   ]
  }
 ],
 "metadata": {
  "colab": {
   "authorship_tag": "ABX9TyMM9bcGMQdkO/nwIX0kAuhm",
   "collapsed_sections": [],
   "name": "08_crawler.ipynb",
   "provenance": []
  },
  "kernelspec": {
   "display_name": "Python 3",
   "language": "python",
   "name": "python3"
  },
  "language_info": {
   "codemirror_mode": {
    "name": "ipython",
    "version": 3
   },
   "file_extension": ".py",
   "mimetype": "text/x-python",
   "name": "python",
   "nbconvert_exporter": "python",
   "pygments_lexer": "ipython3",
   "version": "3.7.3"
  },
  "toc": {
   "base_numbering": 1,
   "nav_menu": {},
   "number_sections": true,
   "sideBar": true,
   "skip_h1_title": true,
   "title_cell": "Table of Contents",
   "title_sidebar": "Contents",
   "toc_cell": false,
   "toc_position": {},
   "toc_section_display": true,
   "toc_window_display": false
  },
  "varInspector": {
   "cols": {
    "lenName": 16,
    "lenType": 16,
    "lenVar": 40
   },
   "kernels_config": {
    "python": {
     "delete_cmd_postfix": "",
     "delete_cmd_prefix": "del ",
     "library": "var_list.py",
     "varRefreshCmd": "print(var_dic_list())"
    },
    "r": {
     "delete_cmd_postfix": ") ",
     "delete_cmd_prefix": "rm(",
     "library": "var_list.r",
     "varRefreshCmd": "cat(var_dic_list()) "
    }
   },
   "types_to_exclude": [
    "module",
    "function",
    "builtin_function_or_method",
    "instance",
    "_Feature"
   ],
   "window_display": false
  }
 },
 "nbformat": 4,
 "nbformat_minor": 1
}
