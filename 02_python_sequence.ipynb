{
 "cells": [
  {
   "cell_type": "markdown",
   "metadata": {},
   "source": [
    "# 자료구조\n",
    "> - 데이터의 집합  \n",
    "- 데이터가 들어가 있는 바구니  \n",
    "- 변수에 저장할 수 있는 데이터의 집합  \n",
    ">> - **`list`**(리스트)  \n",
    ">> - **`tuple`**(튜플)  \n",
    ">> - **`dict`**(딕셔너리)  \n",
    ">> - **`set`**(셋)"
   ]
  },
  {
   "cell_type": "markdown",
   "metadata": {},
   "source": [
    "## 리스트(list)\n",
    "> - 파이썬에서 가장 흔히 사용하는 데이터의 자료구조  \n",
    "- 순서가 있다.  \n",
    "- **`[ ]`** 대괄호로 묶어 사용한다.  \n",
    "- 리스트 안에 들어가는 요소들은 ,(쉼표)로 구분한다."
   ]
  },
  {
   "cell_type": "markdown",
   "metadata": {},
   "source": [
    "### 리스트의 생성"
   ]
  },
  {
   "cell_type": "code",
   "execution_count": 1,
   "metadata": {
    "ExecuteTime": {
     "end_time": "2021-04-05T05:50:48.683398Z",
     "start_time": "2021-04-05T05:50:48.674671Z"
    }
   },
   "outputs": [],
   "source": [
    "# 빈 리스트 만들기\n",
    "empty_list = [] # empty_list라는 변수명에 빈 리스트를 할당한다.\n",
    "empty_list = list() # 대괄호 뿐 아니라 명령어로도 작동한다."
   ]
  },
  {
   "cell_type": "code",
   "execution_count": 2,
   "metadata": {
    "ExecuteTime": {
     "end_time": "2021-04-05T05:50:49.272953Z",
     "start_time": "2021-04-05T05:50:49.269978Z"
    }
   },
   "outputs": [],
   "source": [
    "# 값과 함께 리스트 만들기\n",
    "wallet = ['coin', 'card', 'cash', 'id', 'licence'] # wallet 이라는 변수에 'coin', 'card', 'cash', 'id', 'licence' 5개의 텍스트 데이터가 들어가 있는 리스트를 저장"
   ]
  },
  {
   "cell_type": "code",
   "execution_count": 3,
   "metadata": {
    "ExecuteTime": {
     "end_time": "2021-04-05T05:50:58.168763Z",
     "start_time": "2021-04-05T05:50:58.156831Z"
    }
   },
   "outputs": [
    {
     "data": {
      "text/plain": [
       "['coin', 'card', 'cash', 'id', 'licence']"
      ]
     },
     "execution_count": 3,
     "metadata": {},
     "output_type": "execute_result"
    }
   ],
   "source": [
    "# 리스트 확인\n",
    "wallet"
   ]
  },
  {
   "cell_type": "code",
   "execution_count": 4,
   "metadata": {
    "ExecuteTime": {
     "end_time": "2021-04-05T05:51:44.860238Z",
     "start_time": "2021-04-05T05:51:44.857154Z"
    }
   },
   "outputs": [],
   "source": [
    "# 리스트 in 리스트\n",
    "# 리스트 내부에는 정수, 실수, 문자열 뿐만 아니라 자료구조인 list와 앞으로 학습할 기타 자료구조도 포함시킬 수 있다.\n",
    "test_list = [1, 2, 3.14, wallet]"
   ]
  },
  {
   "cell_type": "code",
   "execution_count": 5,
   "metadata": {
    "ExecuteTime": {
     "end_time": "2021-04-05T05:51:46.014401Z",
     "start_time": "2021-04-05T05:51:46.010590Z"
    }
   },
   "outputs": [
    {
     "data": {
      "text/plain": [
       "[1, 2, 3.14, ['coin', 'card', 'cash', 'id', 'licence']]"
      ]
     },
     "execution_count": 5,
     "metadata": {},
     "output_type": "execute_result"
    }
   ],
   "source": [
    "# 리스트 호출\n",
    "test_list"
   ]
  },
  {
   "cell_type": "markdown",
   "metadata": {},
   "source": [
    "### 리스트 갯수세기"
   ]
  },
  {
   "cell_type": "code",
   "execution_count": 5,
   "metadata": {
    "ExecuteTime": {
     "end_time": "2021-03-21T10:47:58.102261Z",
     "start_time": "2021-03-21T10:47:58.098348Z"
    }
   },
   "outputs": [
    {
     "data": {
      "text/plain": [
       "4"
      ]
     },
     "execution_count": 5,
     "metadata": {},
     "output_type": "execute_result"
    }
   ],
   "source": [
    "# 리스트 전체 항목의 갯수를 보고싶다면\n",
    "# len() 명령어는 자료구조 내 원소의 갯수를 세는 명령어이다.\n",
    "# python 기본 명령어로 다양한 자료구조에도 사용이 가능하다.\n",
    "len(test_list)"
   ]
  },
  {
   "cell_type": "markdown",
   "metadata": {},
   "source": [
    "### 리스트의 인덱싱(indexing), 슬라이싱(slicing)\n",
    "> - 리스트의 특정 항목에 접근(색인)\n",
    "- 인덱싱은 하나의 값에 접근, 슬라이싱은 여러개의 값의 묶음에 접근  \n",
    "- 리스트의 순서를 인덱스라고 하며 **0**부터 시작"
   ]
  },
  {
   "cell_type": "code",
   "execution_count": 7,
   "metadata": {
    "ExecuteTime": {
     "end_time": "2021-03-21T10:48:34.550995Z",
     "start_time": "2021-03-21T10:48:34.547393Z"
    }
   },
   "outputs": [
    {
     "data": {
      "text/plain": [
       "'coin'"
      ]
     },
     "execution_count": 7,
     "metadata": {},
     "output_type": "execute_result"
    }
   ],
   "source": [
    "# 인덱싱\n",
    "# 파이썬의 인덱스는 0 부터 시작한다.\n",
    "wallet[0] # 리스트의 첫번째 항목 가져오기"
   ]
  },
  {
   "cell_type": "code",
   "execution_count": 6,
   "metadata": {
    "ExecuteTime": {
     "end_time": "2021-04-05T05:52:35.437124Z",
     "start_time": "2021-04-05T05:52:35.433163Z"
    }
   },
   "outputs": [
    {
     "data": {
      "text/plain": [
       "['coin', 'card', 'cash']"
      ]
     },
     "execution_count": 6,
     "metadata": {},
     "output_type": "execute_result"
    }
   ],
   "source": [
    "# 슬라이싱\n",
    "wallet[0:3] # 리스트의 첫번째 항목부터 3번째 항목까지 가져오기\n",
    "# 슬라이싱에 사용하는 :은 ~번째 항목까지 선택함을 의미한다."
   ]
  },
  {
   "cell_type": "code",
   "execution_count": 8,
   "metadata": {
    "ExecuteTime": {
     "end_time": "2021-04-05T05:53:24.757459Z",
     "start_time": "2021-04-05T05:53:24.753514Z"
    }
   },
   "outputs": [
    {
     "data": {
      "text/plain": [
       "['coin', 'card', 'cash']"
      ]
     },
     "execution_count": 8,
     "metadata": {},
     "output_type": "execute_result"
    }
   ],
   "source": [
    "# 슬라이싱 응용\n",
    "wallet[3:] # 리스트의 4번째 항목부터 마지막 항목까지 가져오기\n",
    "wallet[:3] # 리스트의 4번째 항목까지 가져오기"
   ]
  },
  {
   "cell_type": "code",
   "execution_count": 9,
   "metadata": {
    "ExecuteTime": {
     "end_time": "2021-04-05T06:13:54.609359Z",
     "start_time": "2021-04-05T06:13:54.605100Z"
    }
   },
   "outputs": [
    {
     "data": {
      "text/plain": [
       "'licence'"
      ]
     },
     "execution_count": 9,
     "metadata": {},
     "output_type": "execute_result"
    }
   ],
   "source": [
    "# 리스트의 맨 마지막 항목 가져오기\n",
    "wallet[-1] # 인덱스로 음수를 전달하면 마지막 인덱스부터 역순으로 인덱싱을 한다."
   ]
  },
  {
   "cell_type": "code",
   "execution_count": 12,
   "metadata": {
    "ExecuteTime": {
     "end_time": "2021-04-05T06:14:20.360578Z",
     "start_time": "2021-04-05T06:14:20.356597Z"
    }
   },
   "outputs": [
    {
     "data": {
      "text/plain": [
       "['coin', 'cash', 'licence']"
      ]
     },
     "execution_count": 12,
     "metadata": {},
     "output_type": "execute_result"
    }
   ],
   "source": [
    "# 리스트의 전체 항목 중 2의 배수 인텍스 항목가져오기\n",
    "wallet[::2]"
   ]
  },
  {
   "cell_type": "code",
   "execution_count": 13,
   "metadata": {
    "ExecuteTime": {
     "end_time": "2021-04-05T06:14:47.701555Z",
     "start_time": "2021-04-05T06:14:47.696654Z"
    }
   },
   "outputs": [
    {
     "data": {
      "text/plain": [
       "[1, 2, 3.14, ['coin', 'card', 'cash', 'id', 'licence']]"
      ]
     },
     "execution_count": 13,
     "metadata": {},
     "output_type": "execute_result"
    }
   ],
   "source": [
    "test_list"
   ]
  },
  {
   "cell_type": "code",
   "execution_count": 20,
   "metadata": {
    "ExecuteTime": {
     "end_time": "2021-03-21T10:50:14.205036Z",
     "start_time": "2021-03-21T10:50:14.201001Z"
    }
   },
   "outputs": [
    {
     "data": {
      "text/plain": [
       "'cash'"
      ]
     },
     "execution_count": 20,
     "metadata": {},
     "output_type": "execute_result"
    }
   ],
   "source": [
    "# 위의 테스트 리스트의 cash를 인덱싱 해보자\n",
    "test_list[3][2]"
   ]
  },
  {
   "cell_type": "markdown",
   "metadata": {},
   "source": [
    "### 리스트 편집"
   ]
  },
  {
   "cell_type": "code",
   "execution_count": null,
   "metadata": {},
   "outputs": [],
   "source": [
    "# 리스트 내 특정항목 업데이트\n",
    "# 인덱스 혹은 슬라이싱으로 접근 한 데이터를 직접 변경하는 방법\n",
    "wallet[3] = 'identification'\n",
    "wallet"
   ]
  },
  {
   "cell_type": "markdown",
   "metadata": {},
   "source": [
    "#### 내부명령어\n",
    "> 리스트는 자료구조를 갖고 있으면서 리스트 작업을 위해 필요한 내부명령어도 함께 제공한다.  \n",
    "이후 자세히 다루지만 지금은 사용하는 방법 정도만을 기억해두시면 됩니다  \n",
    "리스트이름 뒤 .(콤마)로 명령어에 접근이 가능합니다.  \n",
    "- **`list_name`**.**`func()`**"
   ]
  },
  {
   "cell_type": "code",
   "execution_count": 14,
   "metadata": {
    "ExecuteTime": {
     "end_time": "2021-04-05T06:17:09.016129Z",
     "start_time": "2021-04-05T06:17:09.011530Z"
    }
   },
   "outputs": [
    {
     "data": {
      "text/plain": [
       "['coin', 'card', 'cash', 'id', 'licence', 'point card']"
      ]
     },
     "execution_count": 14,
     "metadata": {},
     "output_type": "execute_result"
    }
   ],
   "source": [
    "# 리스트에 항목추가\n",
    "# append() 명령어에 추가할 값을 전달하여 리스트에 추가합니다.\n",
    "wallet.append('point card')\n",
    "wallet"
   ]
  },
  {
   "cell_type": "code",
   "execution_count": 15,
   "metadata": {
    "ExecuteTime": {
     "end_time": "2021-04-05T06:17:16.897858Z",
     "start_time": "2021-04-05T06:17:16.893968Z"
    }
   },
   "outputs": [
    {
     "data": {
      "text/plain": [
       "['coin', 'card', 'cash', 'id', 'point card']"
      ]
     },
     "execution_count": 15,
     "metadata": {},
     "output_type": "execute_result"
    }
   ],
   "source": [
    "# 리스트에 특정 항목 삭제\n",
    "wallet.remove('licence')\n",
    "wallet"
   ]
  },
  {
   "cell_type": "code",
   "execution_count": 16,
   "metadata": {
    "ExecuteTime": {
     "end_time": "2021-04-05T06:17:28.737089Z",
     "start_time": "2021-04-05T06:17:28.733170Z"
    }
   },
   "outputs": [
    {
     "data": {
      "text/plain": [
       "['coin', 'card', 'cash', 'id']"
      ]
     },
     "execution_count": 16,
     "metadata": {},
     "output_type": "execute_result"
    }
   ],
   "source": [
    "# 리스트의 맨 마지막 항목 꺼내오기 (값도 꺼내면서 리스트의 마지막 항목 삭제)\n",
    "test = wallet.pop()\n",
    "wallet"
   ]
  },
  {
   "cell_type": "code",
   "execution_count": 17,
   "metadata": {
    "ExecuteTime": {
     "end_time": "2021-04-05T06:17:56.880508Z",
     "start_time": "2021-04-05T06:17:56.876485Z"
    }
   },
   "outputs": [
    {
     "data": {
      "text/plain": [
       "'point card'"
      ]
     },
     "execution_count": 17,
     "metadata": {},
     "output_type": "execute_result"
    }
   ],
   "source": [
    "# 위에서 빼낸 맨 마지막 항목을 변수로 저장하여 사용 가능합니다.\n",
    "# 경우에 따라서는 변수로 저장하지 않고 값을 제거 할 때도 유용하게 사용합니다.\n",
    "test"
   ]
  },
  {
   "cell_type": "code",
   "execution_count": 18,
   "metadata": {
    "ExecuteTime": {
     "end_time": "2021-04-05T06:20:44.634848Z",
     "start_time": "2021-04-05T06:20:44.629870Z"
    }
   },
   "outputs": [
    {
     "data": {
      "text/plain": [
       "[8, 7, 6, 4, 3, 2, 1]"
      ]
     },
     "execution_count": 18,
     "metadata": {},
     "output_type": "execute_result"
    }
   ],
   "source": [
    "# 테스트에 사용할 num_list 생성\n",
    "num_list = [3, 4, 6, 1, 2, 8, 7]\n",
    "\n",
    "# 리스트의 값 정렬 (숫자는 오름차순, 문자는 알파벳순, 한글은 가나다순)\n",
    "# 역정렬도 가능\n",
    "num_list.sort(reverse=True)\n",
    "num_list"
   ]
  },
  {
   "cell_type": "code",
   "execution_count": 19,
   "metadata": {
    "ExecuteTime": {
     "end_time": "2021-04-05T06:21:10.503631Z",
     "start_time": "2021-04-05T06:21:10.498759Z"
    }
   },
   "outputs": [
    {
     "data": {
      "text/plain": [
       "[1, 2, 3, 4, 6, 7, 8]"
      ]
     },
     "execution_count": 19,
     "metadata": {},
     "output_type": "execute_result"
    }
   ],
   "source": [
    "# 리스트 순서 역순\n",
    "num_list.reverse()\n",
    "num_list"
   ]
  },
  {
   "cell_type": "code",
   "execution_count": 20,
   "metadata": {
    "ExecuteTime": {
     "end_time": "2021-04-05T06:21:18.072495Z",
     "start_time": "2021-04-05T06:21:18.068825Z"
    }
   },
   "outputs": [
    {
     "data": {
      "text/plain": [
       "2"
      ]
     },
     "execution_count": 20,
     "metadata": {},
     "output_type": "execute_result"
    }
   ],
   "source": [
    "# 리스트 내 특정항목의 인덱스 가져오기\n",
    "wallet.index('cash') # 리스트 내 'cash'의 인덱스를 보여줌"
   ]
  },
  {
   "cell_type": "code",
   "execution_count": 21,
   "metadata": {
    "ExecuteTime": {
     "end_time": "2021-04-05T06:21:21.570783Z",
     "start_time": "2021-04-05T06:21:21.567006Z"
    }
   },
   "outputs": [
    {
     "data": {
      "text/plain": [
       "1"
      ]
     },
     "execution_count": 21,
     "metadata": {},
     "output_type": "execute_result"
    }
   ],
   "source": [
    "# 리스트 내 특정항목 갯수 세기\n",
    "# append로 coin 하나 추가한 값\n",
    "wallet.count('coin')"
   ]
  },
  {
   "cell_type": "markdown",
   "metadata": {},
   "source": [
    "### 리스트 연산"
   ]
  },
  {
   "cell_type": "code",
   "execution_count": 22,
   "metadata": {
    "ExecuteTime": {
     "end_time": "2021-04-05T06:22:13.966466Z",
     "start_time": "2021-04-05T06:22:13.963497Z"
    }
   },
   "outputs": [],
   "source": [
    "# int형 데이터가 들어가 있는 num1, num2 리스트 생성\n",
    "num1 = [1, 2, 3, 4, 5]\n",
    "num2 = [4, 5, 6, 7, 8]"
   ]
  },
  {
   "cell_type": "code",
   "execution_count": 55,
   "metadata": {
    "ExecuteTime": {
     "end_time": "2021-03-21T11:21:45.976227Z",
     "start_time": "2021-03-21T11:21:45.972199Z"
    }
   },
   "outputs": [
    {
     "data": {
      "text/plain": [
       "(15, 1, 5)"
      ]
     },
     "execution_count": 55,
     "metadata": {},
     "output_type": "execute_result"
    }
   ],
   "source": [
    "# 리스트 내부 항목 합, 최소값, 최대값\n",
    "sum(num1), min(num1), max(num1)\n",
    "# 위에 사용한 sum, min, max 명령어는 파이썬 내장 명령어입니다.\n",
    "# 이미 학습한 print, len 명령어와 같이 다른 자료구조에도 적용가능합니다."
   ]
  },
  {
   "cell_type": "code",
   "execution_count": 23,
   "metadata": {
    "ExecuteTime": {
     "end_time": "2021-04-05T06:23:36.700013Z",
     "start_time": "2021-04-05T06:23:36.694931Z"
    }
   },
   "outputs": [
    {
     "data": {
      "text/plain": [
       "[1, 2, 3, 4, 5, 4, 5, 6, 7, 8]"
      ]
     },
     "execution_count": 23,
     "metadata": {},
     "output_type": "execute_result"
    }
   ],
   "source": [
    "# 리스트의 덧셈 연산\n",
    "num1 + num2"
   ]
  },
  {
   "cell_type": "code",
   "execution_count": 24,
   "metadata": {
    "ExecuteTime": {
     "end_time": "2021-04-05T06:23:46.105231Z",
     "start_time": "2021-04-05T06:23:46.101045Z"
    }
   },
   "outputs": [
    {
     "data": {
      "text/plain": [
       "[1, 2, 3, 4, 5, 1, 2, 3, 4, 5, 1, 2, 3, 4, 5]"
      ]
     },
     "execution_count": 24,
     "metadata": {},
     "output_type": "execute_result"
    }
   ],
   "source": [
    "# 리스트의 곱셈 연산\n",
    "num1 * 3"
   ]
  },
  {
   "cell_type": "code",
   "execution_count": 29,
   "metadata": {
    "ExecuteTime": {
     "end_time": "2021-04-05T06:24:33.639842Z",
     "start_time": "2021-04-05T06:24:33.635758Z"
    }
   },
   "outputs": [
    {
     "data": {
      "text/plain": [
       "True"
      ]
     },
     "execution_count": 29,
     "metadata": {},
     "output_type": "execute_result"
    }
   ],
   "source": [
    "# 조건연산자 테스트\n",
    "4 in num1\n",
    "num1 is num2\n",
    "num1 in num2\n",
    "num1 is not num2 # 등등등"
   ]
  },
  {
   "cell_type": "markdown",
   "metadata": {},
   "source": [
    "### 리스트 삭제"
   ]
  },
  {
   "cell_type": "code",
   "execution_count": 44,
   "metadata": {},
   "outputs": [
    {
     "data": {
      "text/plain": [
       "[]"
      ]
     },
     "execution_count": 44,
     "metadata": {},
     "output_type": "execute_result"
    }
   ],
   "source": [
    "# 리스트 삭제 (변수 삭제, 값 삭제)\n",
    "# 생성한 리스트는 남아있지만 내부 항목을 모두 삭제합니다.\n",
    "wallet.clear()\n",
    "wallet"
   ]
  },
  {
   "cell_type": "code",
   "execution_count": 30,
   "metadata": {
    "ExecuteTime": {
     "end_time": "2021-04-05T06:25:35.756386Z",
     "start_time": "2021-04-05T06:25:35.643290Z"
    }
   },
   "outputs": [
    {
     "ename": "NameError",
     "evalue": "name 'wallet' is not defined",
     "output_type": "error",
     "traceback": [
      "\u001b[0;31m---------------------------------------------------------------------------\u001b[0m",
      "\u001b[0;31mNameError\u001b[0m                                 Traceback (most recent call last)",
      "\u001b[0;32m<ipython-input-30-c539bb8c45d3>\u001b[0m in \u001b[0;36m<module>\u001b[0;34m\u001b[0m\n\u001b[1;32m      1\u001b[0m \u001b[0;31m# 메모리에서 완전히 삭제\u001b[0m\u001b[0;34m\u001b[0m\u001b[0;34m\u001b[0m\u001b[0;34m\u001b[0m\u001b[0m\n\u001b[1;32m      2\u001b[0m \u001b[0;32mdel\u001b[0m \u001b[0mwallet\u001b[0m\u001b[0;34m\u001b[0m\u001b[0;34m\u001b[0m\u001b[0m\n\u001b[0;32m----> 3\u001b[0;31m \u001b[0mwallet\u001b[0m\u001b[0;34m\u001b[0m\u001b[0;34m\u001b[0m\u001b[0m\n\u001b[0m",
      "\u001b[0;31mNameError\u001b[0m: name 'wallet' is not defined"
     ]
    }
   ],
   "source": [
    "# 메모리에서 완전히 삭제\n",
    "del wallet\n",
    "wallet"
   ]
  },
  {
   "cell_type": "markdown",
   "metadata": {},
   "source": [
    "## 딕셔너리(dict)\n",
    "> 사전을 떠올려봅시다. 사전을 구성하고 있는 항목은?    \n",
    "- 단어 : 단어의 설명  \n",
    "\n",
    "> `key`와 `value`값을 쌍으로 저장가능 한 자료구조  \n",
    "- `key` : `value`  \n",
    "- **`{ }`** 중괄호로 묶어 사용한다.  \n",
    "- 딕셔너리 요소 구분은 리스트와 마찬가지로 쉼표  "
   ]
  },
  {
   "cell_type": "markdown",
   "metadata": {},
   "source": [
    "### 딕셔너리 생성"
   ]
  },
  {
   "cell_type": "code",
   "execution_count": 31,
   "metadata": {
    "ExecuteTime": {
     "end_time": "2021-04-05T06:27:39.203158Z",
     "start_time": "2021-04-05T06:27:39.200481Z"
    }
   },
   "outputs": [],
   "source": [
    "# 빈 딕셔너리 생성\n",
    "wallet = dict()\n",
    "wallet = {} # 딕셔너리는 중괄호 사용"
   ]
  },
  {
   "cell_type": "code",
   "execution_count": 64,
   "metadata": {
    "ExecuteTime": {
     "end_time": "2021-04-05T06:42:28.386373Z",
     "start_time": "2021-04-05T06:42:28.383273Z"
    }
   },
   "outputs": [],
   "source": [
    "# 값을 추가하면서 딕셔너리 생성\n",
    "wallet = {\n",
    "    'card':'삼성카드',\n",
    "    'cash':75000,\n",
    "    'coin':{'500원':1,\n",
    "            '100원':1,},\n",
    "    'id':['주민등록증', '여권'],\n",
    "    'licence':'운전면허증'\n",
    "}\n",
    "\n",
    "# 중괄호 내 key : value 값을 전달하고 각 항목의 구분은 쉼표\n",
    "# 리스트와 마찬가지로 딕셔너리 내부에 리스트등 타 자료구조 저장 가능"
   ]
  },
  {
   "cell_type": "code",
   "execution_count": 37,
   "metadata": {
    "ExecuteTime": {
     "end_time": "2021-04-05T06:29:48.165158Z",
     "start_time": "2021-04-05T06:29:48.160763Z"
    }
   },
   "outputs": [
    {
     "data": {
      "text/plain": [
       "{'card': '삼성카드',\n",
       " 'cash': 75000,\n",
       " 'coin': {'500원': 1, '100원': 1},\n",
       " 'id': ['주민등록증', '여권'],\n",
       " 'licence': '운전면허증'}"
      ]
     },
     "execution_count": 37,
     "metadata": {},
     "output_type": "execute_result"
    }
   ],
   "source": [
    "# 딕셔너리 호출\n",
    "wallet"
   ]
  },
  {
   "cell_type": "markdown",
   "metadata": {},
   "source": [
    "### 딕셔너리 갯수세기"
   ]
  },
  {
   "cell_type": "code",
   "execution_count": 34,
   "metadata": {
    "ExecuteTime": {
     "end_time": "2021-04-05T06:29:19.960798Z",
     "start_time": "2021-04-05T06:29:19.957250Z"
    }
   },
   "outputs": [
    {
     "data": {
      "text/plain": [
       "5"
      ]
     },
     "execution_count": 34,
     "metadata": {},
     "output_type": "execute_result"
    }
   ],
   "source": [
    "len(wallet)"
   ]
  },
  {
   "cell_type": "markdown",
   "metadata": {},
   "source": [
    "### 딕셔너리 값에 접근하기"
   ]
  },
  {
   "cell_type": "code",
   "execution_count": 43,
   "metadata": {
    "ExecuteTime": {
     "end_time": "2021-04-05T06:34:30.860887Z",
     "start_time": "2021-04-05T06:34:30.856382Z"
    }
   },
   "outputs": [
    {
     "data": {
      "text/plain": [
       "'삼성카드'"
      ]
     },
     "execution_count": 43,
     "metadata": {},
     "output_type": "execute_result"
    }
   ],
   "source": [
    "# key값으로 딕셔너리 값에 접근\n",
    "wallet['card']\n",
    "# 리스트에서 인덱스를 사용하였다면 딕셔너리는 key값을 전달하여 값에 접근합니다."
   ]
  },
  {
   "cell_type": "markdown",
   "metadata": {},
   "source": [
    "### 딕셔너리 편집"
   ]
  },
  {
   "cell_type": "code",
   "execution_count": 53,
   "metadata": {
    "ExecuteTime": {
     "end_time": "2021-04-05T06:37:06.406107Z",
     "start_time": "2021-04-05T06:37:06.400987Z"
    }
   },
   "outputs": [
    {
     "data": {
      "text/plain": [
       "{'card': '삼성카드',\n",
       " 'cash': 75000,\n",
       " 'coin': {'500원': 1, '100원': 1},\n",
       " 'id': ['주민등록증', '여권'],\n",
       " 'licence': '운전면허증',\n",
       " 'point card': '해피포인트',\n",
       " 100: 45}"
      ]
     },
     "execution_count": 53,
     "metadata": {},
     "output_type": "execute_result"
    }
   ],
   "source": [
    "# 딕셔너리에 point card key를 갖는 해피포인트 문자열을 값으로 저장\n",
    "wallet['point card'] = '해피포인트'\n",
    "# key값이 숫자여도 관계없음\n",
    "wallet[100] = 45\n",
    "wallet"
   ]
  },
  {
   "cell_type": "code",
   "execution_count": 54,
   "metadata": {
    "ExecuteTime": {
     "end_time": "2021-04-05T06:37:07.036844Z",
     "start_time": "2021-04-05T06:37:07.032982Z"
    }
   },
   "outputs": [
    {
     "data": {
      "text/plain": [
       "{'card': '삼성카드',\n",
       " 'cash': 75000,\n",
       " 'coin': {'500원': 1, '100원': 1},\n",
       " 'id': ['주민등록증', '여권'],\n",
       " 'licence': '운전면허증',\n",
       " 'point card': '포인트리',\n",
       " 100: 45}"
      ]
     },
     "execution_count": 54,
     "metadata": {},
     "output_type": "execute_result"
    }
   ],
   "source": [
    "# 딕셔너리 특정 항목 업데이트\n",
    "wallet['point card'] = '포인트리'\n",
    "wallet"
   ]
  },
  {
   "cell_type": "code",
   "execution_count": 55,
   "metadata": {
    "ExecuteTime": {
     "end_time": "2021-04-05T06:37:22.485230Z",
     "start_time": "2021-04-05T06:37:22.481035Z"
    }
   },
   "outputs": [
    {
     "data": {
      "text/plain": [
       "{'card': '삼성카드',\n",
       " 'cash': 75000,\n",
       " 'coin': {'500원': 1, '100원': 1},\n",
       " 'id': ['주민등록증', '여권'],\n",
       " 'licence': '운전면허증',\n",
       " 100: 45}"
      ]
     },
     "execution_count": 55,
     "metadata": {},
     "output_type": "execute_result"
    }
   ],
   "source": [
    "# 딕셔너리 특정 value값 빼오기\n",
    "card_name = wallet.pop('point card')\n",
    "wallet"
   ]
  },
  {
   "cell_type": "code",
   "execution_count": 56,
   "metadata": {
    "ExecuteTime": {
     "end_time": "2021-04-05T06:37:28.364945Z",
     "start_time": "2021-04-05T06:37:28.361105Z"
    }
   },
   "outputs": [
    {
     "data": {
      "text/plain": [
       "'포인트리'"
      ]
     },
     "execution_count": 56,
     "metadata": {},
     "output_type": "execute_result"
    }
   ],
   "source": [
    "# pop 명령어로 빼온 값, wallet에는 해당항목 사라져 있음\n",
    "card_name"
   ]
  },
  {
   "cell_type": "code",
   "execution_count": 58,
   "metadata": {
    "ExecuteTime": {
     "end_time": "2021-04-05T06:38:19.762717Z",
     "start_time": "2021-04-05T06:38:19.758146Z"
    }
   },
   "outputs": [
    {
     "data": {
      "text/plain": [
       "{'card': '삼성카드',\n",
       " 'cash': 75000,\n",
       " 'coin': {'500원': 1, '100원': 1, '50원': 1},\n",
       " 'id': ['주민등록증', '여권'],\n",
       " 'licence': '운전면허증',\n",
       " 100: 45}"
      ]
     },
     "execution_count": 58,
     "metadata": {},
     "output_type": "execute_result"
    }
   ],
   "source": [
    "# 딕셔너리 내부 속성 값에 접근해서 값 업데이트도 가능하다.\n",
    "# wallet의 coin key값을 갖는 값에 50원:1 값을 추가한다.\n",
    "wallet['coin'].update({'50원':1})\n",
    "wallet"
   ]
  },
  {
   "cell_type": "code",
   "execution_count": 59,
   "metadata": {
    "ExecuteTime": {
     "end_time": "2021-04-05T06:38:37.673629Z",
     "start_time": "2021-04-05T06:38:37.669385Z"
    }
   },
   "outputs": [
    {
     "data": {
      "text/plain": [
       "{'card': '카카오체크카드',\n",
       " 'cash': 75000,\n",
       " 'coin': {'500원': 1, '100원': 1, '50원': 1},\n",
       " 'id': ['주민등록증', '여권'],\n",
       " 'licence': '운전면허증',\n",
       " 100: 45}"
      ]
     },
     "execution_count": 59,
     "metadata": {},
     "output_type": "execute_result"
    }
   ],
   "source": [
    "# wallet 딕셔너리의 card 항목을 카카오체크카드로 업데이트\n",
    "wallet.update({'card':'카카오체크카드'})\n",
    "wallet"
   ]
  },
  {
   "cell_type": "code",
   "execution_count": 60,
   "metadata": {
    "ExecuteTime": {
     "end_time": "2021-04-05T06:40:28.806507Z",
     "start_time": "2021-04-05T06:40:28.801869Z"
    }
   },
   "outputs": [
    {
     "data": {
      "text/plain": [
       "{'card': '카카오체크카드',\n",
       " 'cash': 75000,\n",
       " 'coin': {'500원': 1, '100원': 1, '50원': 1},\n",
       " 'id': ['주민등록증', '여권', '운전면허증'],\n",
       " 'licence': '운전면허증',\n",
       " 100: 45}"
      ]
     },
     "execution_count": 60,
     "metadata": {},
     "output_type": "execute_result"
    }
   ],
   "source": [
    "# wallet id key값에 '운전면허증' 추가\n",
    "wallet['id'].append('운전면허증')\n",
    "wallet"
   ]
  },
  {
   "cell_type": "markdown",
   "metadata": {},
   "source": [
    "### 딕셔너리 삭제"
   ]
  },
  {
   "cell_type": "code",
   "execution_count": 61,
   "metadata": {
    "ExecuteTime": {
     "end_time": "2021-04-05T06:41:32.807944Z",
     "start_time": "2021-04-05T06:41:32.802973Z"
    }
   },
   "outputs": [
    {
     "data": {
      "text/plain": [
       "{'cash': 75000,\n",
       " 'coin': {'500원': 1, '100원': 1, '50원': 1},\n",
       " 'id': ['주민등록증', '여권', '운전면허증'],\n",
       " 'licence': '운전면허증',\n",
       " 100: 45}"
      ]
     },
     "execution_count": 61,
     "metadata": {},
     "output_type": "execute_result"
    }
   ],
   "source": [
    "# 딕셔너리 항목 제거\n",
    "# 딕셔너리의 key값까지 전달하여 해당 key값과 값을 동시에 제거\n",
    "del(wallet['card'])\n",
    "wallet"
   ]
  },
  {
   "cell_type": "code",
   "execution_count": 62,
   "metadata": {
    "ExecuteTime": {
     "end_time": "2021-04-05T06:41:44.675662Z",
     "start_time": "2021-04-05T06:41:44.670983Z"
    }
   },
   "outputs": [
    {
     "data": {
      "text/plain": [
       "{}"
      ]
     },
     "execution_count": 62,
     "metadata": {},
     "output_type": "execute_result"
    }
   ],
   "source": [
    "# 딕셔너리 원소 전체 삭제\n",
    "wallet.clear()\n",
    "wallet"
   ]
  },
  {
   "cell_type": "code",
   "execution_count": 63,
   "metadata": {
    "ExecuteTime": {
     "end_time": "2021-04-05T06:41:55.853499Z",
     "start_time": "2021-04-05T06:41:55.846668Z"
    }
   },
   "outputs": [
    {
     "ename": "NameError",
     "evalue": "name 'wallet' is not defined",
     "output_type": "error",
     "traceback": [
      "\u001b[0;31m---------------------------------------------------------------------------\u001b[0m",
      "\u001b[0;31mNameError\u001b[0m                                 Traceback (most recent call last)",
      "\u001b[0;32m<ipython-input-63-bef1332f7f81>\u001b[0m in \u001b[0;36m<module>\u001b[0;34m\u001b[0m\n\u001b[1;32m      1\u001b[0m \u001b[0;31m# 딕셔너리 변수 완전 삭제\u001b[0m\u001b[0;34m\u001b[0m\u001b[0;34m\u001b[0m\u001b[0;34m\u001b[0m\u001b[0m\n\u001b[1;32m      2\u001b[0m \u001b[0;32mdel\u001b[0m\u001b[0;34m(\u001b[0m\u001b[0mwallet\u001b[0m\u001b[0;34m)\u001b[0m\u001b[0;34m\u001b[0m\u001b[0;34m\u001b[0m\u001b[0m\n\u001b[0;32m----> 3\u001b[0;31m \u001b[0mwallet\u001b[0m\u001b[0;34m\u001b[0m\u001b[0;34m\u001b[0m\u001b[0m\n\u001b[0m",
      "\u001b[0;31mNameError\u001b[0m: name 'wallet' is not defined"
     ]
    }
   ],
   "source": [
    "# 딕셔너리 변수 완전 삭제\n",
    "del(wallet)\n",
    "wallet"
   ]
  },
  {
   "cell_type": "markdown",
   "metadata": {},
   "source": [
    "### 딕셔너리 추가 명령어"
   ]
  },
  {
   "cell_type": "code",
   "execution_count": 66,
   "metadata": {
    "ExecuteTime": {
     "end_time": "2021-04-05T06:43:06.169161Z",
     "start_time": "2021-04-05T06:43:06.165027Z"
    }
   },
   "outputs": [
    {
     "data": {
      "text/plain": [
       "dict_keys(['card', 'cash', 'coin', 'id', 'licence'])"
      ]
     },
     "execution_count": 66,
     "metadata": {},
     "output_type": "execute_result"
    }
   ],
   "source": [
    "# 딕셔너리 내 키 값을 확인\n",
    "wallet.keys()"
   ]
  },
  {
   "cell_type": "code",
   "execution_count": 67,
   "metadata": {
    "ExecuteTime": {
     "end_time": "2021-04-05T06:43:25.560765Z",
     "start_time": "2021-04-05T06:43:25.556592Z"
    }
   },
   "outputs": [
    {
     "data": {
      "text/plain": [
       "dict_values(['삼성카드', 75000, {'500원': 1, '100원': 1}, ['주민등록증', '여권'], '운전면허증'])"
      ]
     },
     "execution_count": 67,
     "metadata": {},
     "output_type": "execute_result"
    }
   ],
   "source": [
    "# 딕셔너리 내 값을 확인\n",
    "wallet.values()"
   ]
  },
  {
   "cell_type": "code",
   "execution_count": 68,
   "metadata": {
    "ExecuteTime": {
     "end_time": "2021-04-05T06:43:42.543062Z",
     "start_time": "2021-04-05T06:43:42.538355Z"
    }
   },
   "outputs": [
    {
     "data": {
      "text/plain": [
       "dict_items([('card', '삼성카드'), ('cash', 75000), ('coin', {'500원': 1, '100원': 1}), ('id', ['주민등록증', '여권']), ('licence', '운전면허증')])"
      ]
     },
     "execution_count": 68,
     "metadata": {},
     "output_type": "execute_result"
    }
   ],
   "source": [
    "# 딕셔너리의 key, value 쌍을 확인\n",
    "wallet.items()"
   ]
  },
  {
   "cell_type": "markdown",
   "metadata": {},
   "source": [
    "## 튜플(tuple)\n",
    "> - 데이터가 고정이 되어 변경이 불가능 한 데이터 집합  \n",
    "- 연산이나 입력값을 전달하는 자료구조로는 잘 사용하지 않고 결과값을 출력하는 경우 많이 사용한다.  \n",
    "- **`( )`** 소괄호로 묶어 사용한다.  \n",
    "- 구분은 , 콤마로 사용한다.  "
   ]
  },
  {
   "cell_type": "markdown",
   "metadata": {},
   "source": [
    "### 튜플 생성"
   ]
  },
  {
   "cell_type": "code",
   "execution_count": 85,
   "metadata": {
    "ExecuteTime": {
     "end_time": "2021-04-05T06:48:52.548882Z",
     "start_time": "2021-04-05T06:48:52.545667Z"
    }
   },
   "outputs": [],
   "source": [
    "test_tuple = () # 의미가 모호해서 잘 사용하지 않는다.\n",
    "test_tuple1 = tuple()\n",
    "test_tuple2 = (1, 2, 3, 4)\n",
    "test_tuple3 = 5, 6"
   ]
  },
  {
   "cell_type": "markdown",
   "metadata": {},
   "source": [
    "### 튜플 인덱싱"
   ]
  },
  {
   "cell_type": "code",
   "execution_count": 71,
   "metadata": {
    "ExecuteTime": {
     "end_time": "2021-04-05T06:44:31.287140Z",
     "start_time": "2021-04-05T06:44:31.283388Z"
    }
   },
   "outputs": [
    {
     "data": {
      "text/plain": [
       "1"
      ]
     },
     "execution_count": 71,
     "metadata": {},
     "output_type": "execute_result"
    }
   ],
   "source": [
    "# 튜플 인덱싱 테스트\n",
    "test_tuple2[0]"
   ]
  },
  {
   "cell_type": "markdown",
   "metadata": {},
   "source": [
    "### 튜플 편집\n",
    "한번 튜플에 들어간 값은 변경이 불가능하다. 다만 값 추가는 가능하다"
   ]
  },
  {
   "cell_type": "code",
   "execution_count": 72,
   "metadata": {
    "ExecuteTime": {
     "end_time": "2021-04-05T06:44:43.978857Z",
     "start_time": "2021-04-05T06:44:43.972348Z"
    }
   },
   "outputs": [
    {
     "ename": "TypeError",
     "evalue": "'tuple' object does not support item assignment",
     "output_type": "error",
     "traceback": [
      "\u001b[0;31m---------------------------------------------------------------------------\u001b[0m",
      "\u001b[0;31mTypeError\u001b[0m                                 Traceback (most recent call last)",
      "\u001b[0;32m<ipython-input-72-83df2b6e36b6>\u001b[0m in \u001b[0;36m<module>\u001b[0;34m\u001b[0m\n\u001b[1;32m      1\u001b[0m \u001b[0;31m# 튜플 업데이트 테스트\u001b[0m\u001b[0;34m\u001b[0m\u001b[0;34m\u001b[0m\u001b[0;34m\u001b[0m\u001b[0m\n\u001b[0;32m----> 2\u001b[0;31m \u001b[0mtest_tuple\u001b[0m\u001b[0;34m[\u001b[0m\u001b[0;36m0\u001b[0m\u001b[0;34m]\u001b[0m \u001b[0;34m=\u001b[0m \u001b[0;36m0\u001b[0m\u001b[0;34m\u001b[0m\u001b[0;34m\u001b[0m\u001b[0m\n\u001b[0m",
      "\u001b[0;31mTypeError\u001b[0m: 'tuple' object does not support item assignment"
     ]
    }
   ],
   "source": [
    "# 튜플 업데이트 테스트\n",
    "test_tuple[0] = 0"
   ]
  },
  {
   "cell_type": "code",
   "execution_count": 88,
   "metadata": {
    "ExecuteTime": {
     "end_time": "2021-04-05T06:49:15.825634Z",
     "start_time": "2021-04-05T06:49:15.822006Z"
    }
   },
   "outputs": [
    {
     "data": {
      "text/plain": [
       "(5, 6)"
      ]
     },
     "execution_count": 88,
     "metadata": {},
     "output_type": "execute_result"
    }
   ],
   "source": [
    "# 튜플에 값을 추가할 때도 튜플형태의 전달만 유효하다, 실제로는 안먹힘\n",
    "test_tuple3 + (8, )\n",
    "test_tuple3"
   ]
  },
  {
   "cell_type": "code",
   "execution_count": 87,
   "metadata": {
    "ExecuteTime": {
     "end_time": "2021-04-05T06:49:03.475894Z",
     "start_time": "2021-04-05T06:49:03.472178Z"
    }
   },
   "outputs": [
    {
     "data": {
      "text/plain": [
       "(1, 2, 3, 4, 5, 6)"
      ]
     },
     "execution_count": 87,
     "metadata": {},
     "output_type": "execute_result"
    }
   ],
   "source": [
    "test_tuple4 = test_tuple2 + test_tuple3\n",
    "test_tuple4"
   ]
  },
  {
   "cell_type": "markdown",
   "metadata": {},
   "source": [
    "### 튜플 삭제\n",
    "튜플 전체삭제는 가능하지만 값 삭제는 불가능하다."
   ]
  },
  {
   "cell_type": "code",
   "execution_count": 89,
   "metadata": {
    "ExecuteTime": {
     "end_time": "2021-04-05T06:49:55.566093Z",
     "start_time": "2021-04-05T06:49:55.559606Z"
    }
   },
   "outputs": [
    {
     "ename": "NameError",
     "evalue": "name 'test_tuple' is not defined",
     "output_type": "error",
     "traceback": [
      "\u001b[0;31m---------------------------------------------------------------------------\u001b[0m",
      "\u001b[0;31mNameError\u001b[0m                                 Traceback (most recent call last)",
      "\u001b[0;32m<ipython-input-89-cdacde33c53d>\u001b[0m in \u001b[0;36m<module>\u001b[0;34m\u001b[0m\n\u001b[1;32m      1\u001b[0m \u001b[0;31m# 튜플 삭제 테스트\u001b[0m\u001b[0;34m\u001b[0m\u001b[0;34m\u001b[0m\u001b[0;34m\u001b[0m\u001b[0m\n\u001b[1;32m      2\u001b[0m \u001b[0;32mdel\u001b[0m \u001b[0mtest_tuple\u001b[0m\u001b[0;34m\u001b[0m\u001b[0;34m\u001b[0m\u001b[0m\n\u001b[0;32m----> 3\u001b[0;31m \u001b[0mtest_tuple\u001b[0m\u001b[0;34m\u001b[0m\u001b[0;34m\u001b[0m\u001b[0m\n\u001b[0m",
      "\u001b[0;31mNameError\u001b[0m: name 'test_tuple' is not defined"
     ]
    }
   ],
   "source": [
    "# 튜플 삭제 테스트\n",
    "del test_tuple\n",
    "test_tuple"
   ]
  },
  {
   "cell_type": "markdown",
   "metadata": {},
   "source": [
    "### 언팩"
   ]
  },
  {
   "cell_type": "code",
   "execution_count": 93,
   "metadata": {
    "ExecuteTime": {
     "end_time": "2021-04-05T06:51:03.353256Z",
     "start_time": "2021-04-05T06:51:03.349344Z"
    }
   },
   "outputs": [
    {
     "data": {
      "text/plain": [
       "5"
      ]
     },
     "execution_count": 93,
     "metadata": {},
     "output_type": "execute_result"
    }
   ],
   "source": [
    "# 튜플만의 독특한 기능\n",
    "# 값을 변경하지 못하기 때문에 값을 분리시킬 수 있음\n",
    "a, b = test_tuple3\n",
    "a"
   ]
  },
  {
   "cell_type": "markdown",
   "metadata": {},
   "source": [
    "## 셋(set), 집합\n",
    "> - 중복된 값을 허용하지 않는 자료구조\n",
    "- 데이터셋의 고유값을 확인하는 용도로도 사용(중복제거)  \n",
    "- **`{ }`** 대괄호로 묶어 사용한다.\n",
    "- **집합 연산**을 지원한다."
   ]
  },
  {
   "cell_type": "markdown",
   "metadata": {},
   "source": [
    "### 셋 생성"
   ]
  },
  {
   "cell_type": "code",
   "execution_count": 2,
   "metadata": {
    "ExecuteTime": {
     "end_time": "2021-04-20T13:10:03.272514Z",
     "start_time": "2021-04-20T13:10:03.261164Z"
    }
   },
   "outputs": [
    {
     "data": {
      "text/plain": [
       "({1, 2, 3, 4}, {3, 4, 5, 6})"
      ]
     },
     "execution_count": 2,
     "metadata": {},
     "output_type": "execute_result"
    }
   ],
   "source": [
    "# 셋 생성 테스트\n",
    "empty_set = {}\n",
    "test_set1 = {1, 2, 3, 4}\n",
    "test_set2 = {3, 4, 5, 6}\n",
    "test_set1, test_set2"
   ]
  },
  {
   "cell_type": "markdown",
   "metadata": {},
   "source": [
    "### 셋 편집"
   ]
  },
  {
   "cell_type": "code",
   "execution_count": 100,
   "metadata": {
    "ExecuteTime": {
     "end_time": "2021-04-05T06:52:48.249616Z",
     "start_time": "2021-04-05T06:52:48.245701Z"
    }
   },
   "outputs": [
    {
     "data": {
      "text/plain": [
       "{1, 2, 3, 4, 5}"
      ]
     },
     "execution_count": 100,
     "metadata": {},
     "output_type": "execute_result"
    }
   ],
   "source": [
    "# 셋에 값 하나 추가\n",
    "# 중복을 허용하지 않기 때문에 셋에 같은 값이 있을 경우 추가하지 않음\n",
    "test_set1.add(5)\n",
    "test_set1"
   ]
  },
  {
   "cell_type": "code",
   "execution_count": 101,
   "metadata": {
    "ExecuteTime": {
     "end_time": "2021-04-05T06:52:55.869078Z",
     "start_time": "2021-04-05T06:52:55.865103Z"
    }
   },
   "outputs": [
    {
     "data": {
      "text/plain": [
       "{3, 4, 5, 6, 7, 8, 9}"
      ]
     },
     "execution_count": 101,
     "metadata": {},
     "output_type": "execute_result"
    }
   ],
   "source": [
    "# 셋에 값 여러개 추가\n",
    "test_set2.update([7, 8, 9])\n",
    "test_set2"
   ]
  },
  {
   "cell_type": "code",
   "execution_count": 103,
   "metadata": {
    "ExecuteTime": {
     "end_time": "2021-04-05T06:53:24.708849Z",
     "start_time": "2021-04-05T06:53:24.704487Z"
    }
   },
   "outputs": [
    {
     "data": {
      "text/plain": [
       "{1, 2, 3, 5}"
      ]
     },
     "execution_count": 103,
     "metadata": {},
     "output_type": "execute_result"
    }
   ],
   "source": [
    "# 셋 값 하나삭제\n",
    "test_set1.remove(4)\n",
    "test_set1\n",
    "# test_set.discard(5)"
   ]
  },
  {
   "cell_type": "markdown",
   "metadata": {},
   "source": [
    "### 셋 집합 연산"
   ]
  },
  {
   "cell_type": "code",
   "execution_count": 105,
   "metadata": {
    "ExecuteTime": {
     "end_time": "2021-04-05T06:54:30.425927Z",
     "start_time": "2021-04-05T06:54:30.422248Z"
    }
   },
   "outputs": [
    {
     "data": {
      "text/plain": [
       "{3, 5}"
      ]
     },
     "execution_count": 105,
     "metadata": {},
     "output_type": "execute_result"
    }
   ],
   "source": [
    "# 교집합\n",
    "test_set1.intersection(test_set2)"
   ]
  },
  {
   "cell_type": "code",
   "execution_count": 106,
   "metadata": {
    "ExecuteTime": {
     "end_time": "2021-04-05T06:54:30.697049Z",
     "start_time": "2021-04-05T06:54:30.693208Z"
    }
   },
   "outputs": [
    {
     "data": {
      "text/plain": [
       "{1, 2, 3, 4, 5, 6, 7, 8, 9}"
      ]
     },
     "execution_count": 106,
     "metadata": {},
     "output_type": "execute_result"
    }
   ],
   "source": [
    "# 합집합\n",
    "test_set1.union(test_set2)"
   ]
  },
  {
   "cell_type": "code",
   "execution_count": 107,
   "metadata": {
    "ExecuteTime": {
     "end_time": "2021-04-05T06:54:31.430166Z",
     "start_time": "2021-04-05T06:54:31.426225Z"
    }
   },
   "outputs": [
    {
     "data": {
      "text/plain": [
       "{1, 2}"
      ]
     },
     "execution_count": 107,
     "metadata": {},
     "output_type": "execute_result"
    }
   ],
   "source": [
    "# 차집합\n",
    "test_set1.difference(test_set2)"
   ]
  },
  {
   "cell_type": "markdown",
   "metadata": {},
   "source": [
    "### 셋 삭제"
   ]
  },
  {
   "cell_type": "code",
   "execution_count": 114,
   "metadata": {
    "ExecuteTime": {
     "end_time": "2021-04-05T06:59:47.247392Z",
     "start_time": "2021-04-05T06:59:47.243039Z"
    }
   },
   "outputs": [
    {
     "data": {
      "text/plain": [
       "set()"
      ]
     },
     "execution_count": 114,
     "metadata": {},
     "output_type": "execute_result"
    }
   ],
   "source": [
    "# 셋 삭제 테스트\n",
    "test_set1.clear()\n",
    "test_set1"
   ]
  },
  {
   "cell_type": "code",
   "execution_count": 116,
   "metadata": {
    "ExecuteTime": {
     "end_time": "2021-04-05T07:00:00.322325Z",
     "start_time": "2021-04-05T07:00:00.315460Z"
    }
   },
   "outputs": [
    {
     "ename": "NameError",
     "evalue": "name 'test_set1' is not defined",
     "output_type": "error",
     "traceback": [
      "\u001b[0;31m---------------------------------------------------------------------------\u001b[0m",
      "\u001b[0;31mNameError\u001b[0m                                 Traceback (most recent call last)",
      "\u001b[0;32m<ipython-input-116-04346e730487>\u001b[0m in \u001b[0;36m<module>\u001b[0;34m\u001b[0m\n\u001b[0;32m----> 1\u001b[0;31m \u001b[0;32mdel\u001b[0m \u001b[0mtest_set1\u001b[0m\u001b[0;34m\u001b[0m\u001b[0;34m\u001b[0m\u001b[0m\n\u001b[0m\u001b[1;32m      2\u001b[0m \u001b[0mtest_set1\u001b[0m\u001b[0;34m\u001b[0m\u001b[0;34m\u001b[0m\u001b[0m\n",
      "\u001b[0;31mNameError\u001b[0m: name 'test_set1' is not defined"
     ]
    }
   ],
   "source": [
    "del test_set1\n",
    "test_set1"
   ]
  }
 ],
 "metadata": {
  "kernelspec": {
   "display_name": "Python 3",
   "language": "python",
   "name": "python3"
  },
  "language_info": {
   "codemirror_mode": {
    "name": "ipython",
    "version": 3
   },
   "file_extension": ".py",
   "mimetype": "text/x-python",
   "name": "python",
   "nbconvert_exporter": "python",
   "pygments_lexer": "ipython3",
   "version": "3.7.3"
  },
  "toc": {
   "base_numbering": 1,
   "nav_menu": {},
   "number_sections": true,
   "sideBar": true,
   "skip_h1_title": true,
   "title_cell": "Table of Contents",
   "title_sidebar": "Contents",
   "toc_cell": false,
   "toc_position": {
    "height": "calc(100% - 180px)",
    "left": "10px",
    "top": "150px",
    "width": "261.818px"
   },
   "toc_section_display": true,
   "toc_window_display": false
  },
  "varInspector": {
   "cols": {
    "lenName": 16,
    "lenType": 16,
    "lenVar": 40
   },
   "kernels_config": {
    "python": {
     "delete_cmd_postfix": "",
     "delete_cmd_prefix": "del ",
     "library": "var_list.py",
     "varRefreshCmd": "print(var_dic_list())"
    },
    "r": {
     "delete_cmd_postfix": ") ",
     "delete_cmd_prefix": "rm(",
     "library": "var_list.r",
     "varRefreshCmd": "cat(var_dic_list()) "
    }
   },
   "types_to_exclude": [
    "module",
    "function",
    "builtin_function_or_method",
    "instance",
    "_Feature"
   ],
   "window_display": false
  }
 },
 "nbformat": 4,
 "nbformat_minor": 2
}
