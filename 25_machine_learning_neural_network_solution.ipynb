{
 "cells": [
  {
   "cell_type": "markdown",
   "metadata": {},
   "source": [
    "# Neural network(deep learning)"
   ]
  },
  {
   "cell_type": "code",
   "execution_count": 1,
   "metadata": {
    "ExecuteTime": {
     "end_time": "2021-07-30T11:25:00.784158Z",
     "start_time": "2021-07-30T11:24:59.903955Z"
    }
   },
   "outputs": [],
   "source": [
    "import numpy as np\n",
    "import pandas as pd\n",
    "from sklearn.datasets import load_iris"
   ]
  },
  {
   "cell_type": "markdown",
   "metadata": {},
   "source": [
    "## Neural network(인공신경망)\n",
    "> **Neural network**는 사람의 신경을 본따 만든 머신러닝 알고리즘이다.  \n",
    "종속변수가 있어야 하는 **지도학습** 모델이며 출력 구분에 따라 **예측/분류 문제에 모두 사용**이 가능하다.  \n",
    "기존 선형회귀/로지스틱회귀 뿐 아니라 훨씬 더 복잡한 다차원의 비선형성 모델까지 표현이 가능하다.  \n",
    ">> `DNN`, `RNN`, `CNN`, `LSTM`을 기본으로 한 수 많은 네트워크 구조가 지속적으로 연구되고 있다.  \n",
    "이미지 처리에 `CNN`, 자연어 처리에 `LSTM`을 기본구조로 많이 사용  \n",
    "최근에는 데이터에 따른 기본구조를 따르지 않고 모델 전환에 관한 연구가 진행되고 있다.  "
   ]
  },
  {
   "cell_type": "markdown",
   "metadata": {},
   "source": [
    "### 기본적인 구조\n",
    ">기본적인 신경망의 layer 단위로 구성이 되는데 기본적인 구조는 아래와 같다.  \n",
    ">> **input layer** : **설명변수(X)**를 받아들이는(저장)하는 레이어  \n",
    "**hidden layer** : 연산 layer, **input과 output layer를 제외 한 모든 layer**는 hidden layer이다.  \n",
    "**output layer** : 출력 layer, 목적식 혹은 **예측/분류에 따라 출력 layer를 다르게** 설정하여 모델링.  \n",
    "**node** : layer에 포함 된 동그라미 하나  \n",
    "**weight(가중치)** : node 와 node간 연결되어 있는 회색 화살표  \n",
    "![nnet](./image/nnet.png)\n",
    "\n",
    "#### 선형결합 함수\n",
    "# $$ z = w^Tx + b $$\n",
    "> hidden layer에 도달하는 값은 결국 X와 w의 선형 함수식으로 나타낼 수 있으며 벡터/매트릭스 연산으로 계산한다.  \n",
    ">>![nnet2](./image/nnet2.png)\n",
    "\n",
    "\n",
    "#### perceptron(퍼셉트론)\n",
    "# $$ \\hat{y} = g(\\sum_{i=1}^m x_iw_i)$$\n",
    "> 인공신경망의 가장 기본이 되는 단위.  \n",
    "위의 기본적인 신경망 구조에서 hidden layer의 노드 하나에 대한 자세한 구조를 살펴본다면 아래와 같은 구조를 갖는다.  \n",
    "각 노드의 선형 함수의 합에 비선형 **활성함수 g(activation function)를 적용**하여 비선형 변환을 만든다.  \n",
    ">>![perceptron](./image/perceptron2.png)\n",
    "\n",
    "#### activation function(활성화함수)\n",
    "> 노드의 선형식 결과를 비선형 출력결과로 만들어주는 함수  \n",
    "딥러닝 강의가 아니기에 각 함수별 특징은 참고링크를 확인해주세요  \n",
    "https://deepinsight.tistory.com/113\n",
    ">>![activation](./image/activation2.png)"
   ]
  },
  {
   "cell_type": "markdown",
   "metadata": {},
   "source": [
    "## 모델 학습\n",
    "### Cost functions\n",
    "> 일반적인 머신러닝 모델과 마찬가지로 **비용함수(cost function)를 정의하고 최소화 하는 방향**으로 학습시킨다.  \n",
    "\n",
    "모델 출력값에 따른 비용함수는 아래와 같다.\n",
    "\n",
    "> **MAE**(회귀모델)\n",
    ">>![cost3](./image/cost3.png)\n",
    "\n",
    "> **Cross entropy loss**(이진 분류)\n",
    ">>![cost2](./image/cost2.png)\n",
    "\n",
    "> **Softmax**(다중 클래스 분류)\n",
    ">>![cost2](./image/softmax.jpeg)\n",
    "\n",
    "### 최적화(순전파)\n",
    "> 결국 cost function이 의미하고자 하는 바는 **비용함수를 최소화 시키는 가중치를 찾고싶다** 이다.\n",
    ">>![gd1](./image/gd1.png)  \n",
    "![gradient](./image/gradient_decent2.gif)\n",
    "\n",
    "일반적인 머신러닝 알고리즘이 가정에 따른 비용함수 최소화를 목적으로 했다면 신경망의 최적화는 **가중치에 따른 비용함수 최소화**를 목적으로 한다.  \n",
    "즉, 학습이 진행되는 스텝마다 가중치를(그래디언트 반대방향으로)업데이트 하면서 최적값을 찾는 과정을 거친다.\n",
    "\n",
    "### 역전파(back propagation)\n",
    "> 오차에 대한 가중치를 업데이트 하기 위한 방법론으로 가중치의 변화가 최종 비용함수에 어떤 영향을 미치는지를 계산  \n",
    "chain rule을 활용 비용함수로부터 역방향으로 계산한다.\n",
    ">> w2에 대한 가중치 업데이트\n",
    "![back1](./image/back1.png)\n",
    ">> w2에 대한 비용함수의 편미분 식을 ($\\hat{y}$에 대한 비용함수 편미분) X (w2에 대한 $\\hat{y}$ 편미분)의 식으로 전개\n",
    "![back2](./image/back2.png)\n",
    ">> 이후 w1에 대한 가중치 업데이트도 마찬가지 방법으로 편미분 chain rule 활용한다.\n",
    "![back3](./image/back3.png)\n",
    ">>![back4](./image/back4.png)\n",
    "\n",
    "### 학습률(learning rate)\n",
    "> 신경망 학습에는 학습률이 중요한데 chain rule을 통해 구해지는 업데이트 값에 학습률을 곱해 가중치를 업데이트 한다.  \n",
    "적절한 학습률은 너무 큰 업데이트값을 사용함으로서 모델 학습이 되지 않거나 너무 작은 업데이트 값을 곱해 학습이 더뎌지는 문제를 해결할 수 있다.  \n",
    "가중치 X 학습률 $\\eta$ 만큼 업데이트 하면서 최적값을 찾는 과정을 거친다.\n",
    "# $$W \\leftarrow W - \\eta{{\\partial j}(W)\\over{\\partial W}}$$"
   ]
  },
  {
   "cell_type": "markdown",
   "metadata": {},
   "source": [
    "## neural network 실습"
   ]
  },
  {
   "cell_type": "code",
   "execution_count": 8,
   "metadata": {
    "ExecuteTime": {
     "end_time": "2021-07-30T18:55:46.806145Z",
     "start_time": "2021-07-30T18:55:46.775052Z"
    }
   },
   "outputs": [
    {
     "data": {
      "text/html": [
       "<div>\n",
       "<style scoped>\n",
       "    .dataframe tbody tr th:only-of-type {\n",
       "        vertical-align: middle;\n",
       "    }\n",
       "\n",
       "    .dataframe tbody tr th {\n",
       "        vertical-align: top;\n",
       "    }\n",
       "\n",
       "    .dataframe thead th {\n",
       "        text-align: right;\n",
       "    }\n",
       "</style>\n",
       "<table border=\"1\" class=\"dataframe\">\n",
       "  <thead>\n",
       "    <tr style=\"text-align: right;\">\n",
       "      <th></th>\n",
       "      <th>전경련BSI</th>\n",
       "      <th>주택매매가격</th>\n",
       "      <th>건설BSI(전망)</th>\n",
       "      <th>실업률(계절조정,%)</th>\n",
       "      <th>어음부도율</th>\n",
       "      <th>일별수출액YoY</th>\n",
       "      <th>내국인출국자수YoY</th>\n",
       "      <th>코스피 200 변동성지수</th>\n",
       "      <th>통안채 364일</th>\n",
       "      <th>공사채 AAA 3년</th>\n",
       "      <th>...</th>\n",
       "      <th>재화수출</th>\n",
       "      <th>내수</th>\n",
       "      <th>GDP디플레이터</th>\n",
       "      <th>총저축률</th>\n",
       "      <th>총투자율</th>\n",
       "      <th>Reuter CRB(EW)상품선물지수</th>\n",
       "      <th>Reuter CRB(EW)에너지지수</th>\n",
       "      <th>Reuter CRB(EW)산업지수</th>\n",
       "      <th>Reuter CRB(EW)귀금속지수</th>\n",
       "      <th>코스피지수</th>\n",
       "    </tr>\n",
       "  </thead>\n",
       "  <tbody>\n",
       "    <tr>\n",
       "      <th>0</th>\n",
       "      <td>96.4</td>\n",
       "      <td>70.13</td>\n",
       "      <td>83.3</td>\n",
       "      <td>3.7</td>\n",
       "      <td>0.09</td>\n",
       "      <td>14.50</td>\n",
       "      <td>-37.03</td>\n",
       "      <td>25.50</td>\n",
       "      <td>4.06</td>\n",
       "      <td>4.97</td>\n",
       "      <td>...</td>\n",
       "      <td>1.6</td>\n",
       "      <td>-0.4</td>\n",
       "      <td>3.1</td>\n",
       "      <td>32.8</td>\n",
       "      <td>32.3</td>\n",
       "      <td>243.7</td>\n",
       "      <td>247.7</td>\n",
       "      <td>217.5</td>\n",
       "      <td>322.4</td>\n",
       "      <td>633.4</td>\n",
       "    </tr>\n",
       "    <tr>\n",
       "      <th>1</th>\n",
       "      <td>90.3</td>\n",
       "      <td>70.83</td>\n",
       "      <td>86.7</td>\n",
       "      <td>3.7</td>\n",
       "      <td>0.08</td>\n",
       "      <td>10.56</td>\n",
       "      <td>-9.67</td>\n",
       "      <td>20.83</td>\n",
       "      <td>4.24</td>\n",
       "      <td>4.83</td>\n",
       "      <td>...</td>\n",
       "      <td>7.8</td>\n",
       "      <td>-0.4</td>\n",
       "      <td>4.0</td>\n",
       "      <td>33.3</td>\n",
       "      <td>32.3</td>\n",
       "      <td>247.6</td>\n",
       "      <td>255.7</td>\n",
       "      <td>247.3</td>\n",
       "      <td>326.4</td>\n",
       "      <td>669.9</td>\n",
       "    </tr>\n",
       "    <tr>\n",
       "      <th>2</th>\n",
       "      <td>91.4</td>\n",
       "      <td>70.57</td>\n",
       "      <td>86.7</td>\n",
       "      <td>3.8</td>\n",
       "      <td>0.06</td>\n",
       "      <td>14.83</td>\n",
       "      <td>0.93</td>\n",
       "      <td>26.98</td>\n",
       "      <td>4.60</td>\n",
       "      <td>4.43</td>\n",
       "      <td>...</td>\n",
       "      <td>7.8</td>\n",
       "      <td>0.3</td>\n",
       "      <td>4.0</td>\n",
       "      <td>33.3</td>\n",
       "      <td>31.8</td>\n",
       "      <td>249.9</td>\n",
       "      <td>268.7</td>\n",
       "      <td>232.3</td>\n",
       "      <td>340.1</td>\n",
       "      <td>713.5</td>\n",
       "    </tr>\n",
       "    <tr>\n",
       "      <th>3</th>\n",
       "      <td>109.6</td>\n",
       "      <td>69.99</td>\n",
       "      <td>92.4</td>\n",
       "      <td>3.9</td>\n",
       "      <td>0.06</td>\n",
       "      <td>24.13</td>\n",
       "      <td>2.85</td>\n",
       "      <td>28.33</td>\n",
       "      <td>4.66</td>\n",
       "      <td>4.74</td>\n",
       "      <td>...</td>\n",
       "      <td>7.8</td>\n",
       "      <td>0.3</td>\n",
       "      <td>4.0</td>\n",
       "      <td>33.3</td>\n",
       "      <td>31.8</td>\n",
       "      <td>255.3</td>\n",
       "      <td>283.3</td>\n",
       "      <td>256.6</td>\n",
       "      <td>364.1</td>\n",
       "      <td>759.5</td>\n",
       "    </tr>\n",
       "    <tr>\n",
       "      <th>4</th>\n",
       "      <td>110.3</td>\n",
       "      <td>69.70</td>\n",
       "      <td>64.1</td>\n",
       "      <td>3.8</td>\n",
       "      <td>0.08</td>\n",
       "      <td>25.49</td>\n",
       "      <td>14.34</td>\n",
       "      <td>25.35</td>\n",
       "      <td>4.51</td>\n",
       "      <td>5.21</td>\n",
       "      <td>...</td>\n",
       "      <td>10.9</td>\n",
       "      <td>0.3</td>\n",
       "      <td>3.3</td>\n",
       "      <td>34.7</td>\n",
       "      <td>31.8</td>\n",
       "      <td>262.6</td>\n",
       "      <td>292.7</td>\n",
       "      <td>262.0</td>\n",
       "      <td>368.3</td>\n",
       "      <td>697.5</td>\n",
       "    </tr>\n",
       "  </tbody>\n",
       "</table>\n",
       "<p>5 rows × 30 columns</p>\n",
       "</div>"
      ],
      "text/plain": [
       "   전경련BSI  주택매매가격  건설BSI(전망)  실업률(계절조정,%)  어음부도율  일별수출액YoY  내국인출국자수YoY  \\\n",
       "0    96.4   70.13       83.3          3.7   0.09     14.50      -37.03   \n",
       "1    90.3   70.83       86.7          3.7   0.08     10.56       -9.67   \n",
       "2    91.4   70.57       86.7          3.8   0.06     14.83        0.93   \n",
       "3   109.6   69.99       92.4          3.9   0.06     24.13        2.85   \n",
       "4   110.3   69.70       64.1          3.8   0.08     25.49       14.34   \n",
       "\n",
       "   코스피 200 변동성지수  통안채 364일  공사채 AAA 3년  ...  재화수출   내수  GDP디플레이터  총저축률  총투자율  \\\n",
       "0          25.50      4.06        4.97  ...   1.6 -0.4       3.1  32.8  32.3   \n",
       "1          20.83      4.24        4.83  ...   7.8 -0.4       4.0  33.3  32.3   \n",
       "2          26.98      4.60        4.43  ...   7.8  0.3       4.0  33.3  31.8   \n",
       "3          28.33      4.66        4.74  ...   7.8  0.3       4.0  33.3  31.8   \n",
       "4          25.35      4.51        5.21  ...  10.9  0.3       3.3  34.7  31.8   \n",
       "\n",
       "   Reuter CRB(EW)상품선물지수  Reuter CRB(EW)에너지지수  Reuter CRB(EW)산업지수  \\\n",
       "0                 243.7                247.7               217.5   \n",
       "1                 247.6                255.7               247.3   \n",
       "2                 249.9                268.7               232.3   \n",
       "3                 255.3                283.3               256.6   \n",
       "4                 262.6                292.7               262.0   \n",
       "\n",
       "   Reuter CRB(EW)귀금속지수  코스피지수  \n",
       "0                322.4  633.4  \n",
       "1                326.4  669.9  \n",
       "2                340.1  713.5  \n",
       "3                364.1  759.5  \n",
       "4                368.3  697.5  \n",
       "\n",
       "[5 rows x 30 columns]"
      ]
     },
     "execution_count": 8,
     "metadata": {},
     "output_type": "execute_result"
    }
   ],
   "source": [
    "# 데이터 불러오기\n",
    "df = pd.read_csv('./data/kospi.csv', encoding='cp949', engine='python')\n",
    "df.head()"
   ]
  },
  {
   "cell_type": "code",
   "execution_count": 28,
   "metadata": {
    "ExecuteTime": {
     "end_time": "2021-07-30T19:08:15.481261Z",
     "start_time": "2021-07-30T19:08:15.477077Z"
    }
   },
   "outputs": [],
   "source": [
    "# 데이터 분할\n",
    "X = df.drop('코스피지수', axis = 1)\n",
    "y = df['코스피지수']"
   ]
  },
  {
   "cell_type": "code",
   "execution_count": 30,
   "metadata": {
    "ExecuteTime": {
     "end_time": "2021-07-30T19:08:17.353842Z",
     "start_time": "2021-07-30T19:08:17.348587Z"
    }
   },
   "outputs": [],
   "source": [
    "# 테스트 데이터 분할\n",
    "from sklearn.model_selection import train_test_split\n",
    "X_train, X_test, y_train, y_test = train_test_split(X, y)"
   ]
  },
  {
   "cell_type": "code",
   "execution_count": 14,
   "metadata": {
    "ExecuteTime": {
     "end_time": "2021-07-30T19:02:40.643682Z",
     "start_time": "2021-07-30T19:02:40.640973Z"
    }
   },
   "outputs": [],
   "source": [
    "# 모델 import\n",
    "from sklearn.neural_network import MLPRegressor"
   ]
  },
  {
   "cell_type": "code",
   "execution_count": 65,
   "metadata": {
    "ExecuteTime": {
     "end_time": "2021-07-30T19:17:31.375947Z",
     "start_time": "2021-07-30T19:17:31.371256Z"
    }
   },
   "outputs": [
    {
     "data": {
      "text/plain": [
       "\"\\nhidden_layer_sizes=(100,) : 히든레이어 구조(40, 40, 60) 튜플로 전달\\nactivation='relu': 활성함수\\nlearning_rate_init=0.001: 학습률\\nmax_iter=200 : 학습 반복 횟수\\n\\n데이터에 맞는 히든레이어 구조는 다 다릅니다. \\n큰 데이터라도 깊이가 얕은 모델의 성능이 좋을 수 있어 파라메터 서칭이 필요합니다.\\n일반적으로는 구조가 복잡해질수록 학습률을 줄이면서 반복횟수를 많이 가져가게 됩니다.\\n\\n이 외 파라메터는 최적화 관련 파라메터인데 현재 가장 좋은 알고리즘이 기본적으로 탑재되어 있으니 그냥 쓰시면 됩니다.\\n수업시간에 모두 다루기 어렵습니다.\\n\""
      ]
     },
     "execution_count": 65,
     "metadata": {},
     "output_type": "execute_result"
    }
   ],
   "source": [
    "# 모델 생성\n",
    "model = MLPRegressor(hidden_layer_sizes=(128, 128, 4), activation='relu', max_iter=4000)\n",
    "'''\n",
    "hidden_layer_sizes=(100,) : 히든레이어 구조(40, 40, 60) 튜플로 전달\n",
    "activation='relu': 활성함수\n",
    "learning_rate_init=0.001: 학습률\n",
    "max_iter=200 : 학습 반복 횟수\n",
    "\n",
    "데이터에 맞는 히든레이어 구조는 다 다릅니다. \n",
    "큰 데이터라도 깊이가 얕은 모델의 성능이 좋을 수 있어 파라메터 서칭이 필요합니다.\n",
    "일반적으로는 구조가 복잡해질수록 학습률을 줄이면서 반복횟수를 많이 가져가게 됩니다.\n",
    "\n",
    "이 외 파라메터는 최적화 관련 파라메터인데 현재 가장 좋은 알고리즘이 기본적으로 탑재되어 있으니 그냥 쓰시면 됩니다.\n",
    "수업시간에 모두 다루기 어렵습니다.\n",
    "'''"
   ]
  },
  {
   "cell_type": "code",
   "execution_count": 66,
   "metadata": {
    "ExecuteTime": {
     "end_time": "2021-07-30T19:17:33.455024Z",
     "start_time": "2021-07-30T19:17:32.049576Z"
    }
   },
   "outputs": [
    {
     "data": {
      "text/plain": [
       "MLPRegressor(hidden_layer_sizes=(128, 128, 4), max_iter=4000)"
      ]
     },
     "execution_count": 66,
     "metadata": {},
     "output_type": "execute_result"
    }
   ],
   "source": [
    "# 모델 학습\n",
    "model.fit(X_train, y_train)"
   ]
  },
  {
   "cell_type": "code",
   "execution_count": 67,
   "metadata": {
    "ExecuteTime": {
     "end_time": "2021-07-30T19:17:33.665565Z",
     "start_time": "2021-07-30T19:17:33.658005Z"
    }
   },
   "outputs": [
    {
     "name": "stdout",
     "output_type": "stream",
     "text": [
      "393.4359939270654\n"
     ]
    }
   ],
   "source": [
    "# 모델 평가\n",
    "from sklearn.metrics import mean_squared_error\n",
    "import math\n",
    "\n",
    "predicted = model.predict(X_test)\n",
    "RMSE = math.sqrt(mean_squared_error(y_test, predicted))\n",
    "\n",
    "print(RMSE) # 488.65"
   ]
  },
  {
   "cell_type": "markdown",
   "metadata": {},
   "source": [
    "## grid search 실습"
   ]
  },
  {
   "cell_type": "code",
   "execution_count": 68,
   "metadata": {
    "ExecuteTime": {
     "end_time": "2021-07-30T19:26:58.520827Z",
     "start_time": "2021-07-30T19:26:58.518119Z"
    }
   },
   "outputs": [],
   "source": [
    "from sklearn.model_selection import GridSearchCV"
   ]
  },
  {
   "cell_type": "code",
   "execution_count": 69,
   "metadata": {
    "ExecuteTime": {
     "end_time": "2021-07-30T19:30:00.581954Z",
     "start_time": "2021-07-30T19:30:00.578118Z"
    }
   },
   "outputs": [],
   "source": [
    "# grid 파라메터 설정\n",
    "model = MLPRegressor()\n",
    "parameter = {'hidden_layer_sizes': [(64, 64, 4), (128, 64, 4), (128, 128, 4), (256, 256, 4)], \n",
    "             'max_iter': [1000, 2000, 3000, 4000]}"
   ]
  },
  {
   "cell_type": "code",
   "execution_count": 91,
   "metadata": {
    "ExecuteTime": {
     "end_time": "2021-07-30T19:52:36.259288Z",
     "start_time": "2021-07-30T19:52:36.254618Z"
    }
   },
   "outputs": [
    {
     "data": {
      "text/plain": [
       "'\\nestimator : 모델 딕셔너리\\nparam_grid : 파라메터 딕셔너리\\nscoring=None : 평가방법\\nn_jobs=None : 학습에 사용할 컴퓨터 코어 갯수\\nverbose=0 : 리포트 형식 0, 1, 2\\n\\nscoring 참고\\nhttps://scikit-learn.org/stable/modules/model_evaluation.html\\n'"
      ]
     },
     "execution_count": 91,
     "metadata": {},
     "output_type": "execute_result"
    }
   ],
   "source": [
    "# grid 인스턴스 설정\n",
    "grid = GridSearchCV(model, parameter, cv=3, verbose=2, scoring='neg_root_mean_squared_error')\n",
    "'''\n",
    "estimator : 모델 딕셔너리\n",
    "param_grid : 파라메터 딕셔너리\n",
    "scoring=None : 평가방법\n",
    "n_jobs=None : 학습에 사용할 컴퓨터 코어 갯수\n",
    "verbose=0 : 리포트 형식 0, 1, 2\n",
    "\n",
    "scoring 참고\n",
    "https://scikit-learn.org/stable/modules/model_evaluation.html\n",
    "'''"
   ]
  },
  {
   "cell_type": "code",
   "execution_count": 92,
   "metadata": {
    "ExecuteTime": {
     "end_time": "2021-07-30T19:53:10.394092Z",
     "start_time": "2021-07-30T19:52:37.294090Z"
    }
   },
   "outputs": [
    {
     "name": "stdout",
     "output_type": "stream",
     "text": [
      "Fitting 3 folds for each of 16 candidates, totalling 48 fits\n",
      "[CV] hidden_layer_sizes=(64, 64, 4), max_iter=1000 ...................\n"
     ]
    },
    {
     "name": "stderr",
     "output_type": "stream",
     "text": [
      "[Parallel(n_jobs=1)]: Using backend SequentialBackend with 1 concurrent workers.\n",
      "/Library/Frameworks/Python.framework/Versions/3.7/lib/python3.7/site-packages/sklearn/neural_network/_multilayer_perceptron.py:585: ConvergenceWarning: Stochastic Optimizer: Maximum iterations (1000) reached and the optimization hasn't converged yet.\n",
      "  % self.max_iter, ConvergenceWarning)\n",
      "[Parallel(n_jobs=1)]: Done   1 out of   1 | elapsed:    0.9s remaining:    0.0s\n"
     ]
    },
    {
     "name": "stdout",
     "output_type": "stream",
     "text": [
      "[CV] .... hidden_layer_sizes=(64, 64, 4), max_iter=1000, total=   0.9s\n",
      "[CV] hidden_layer_sizes=(64, 64, 4), max_iter=1000 ...................\n",
      "[CV] .... hidden_layer_sizes=(64, 64, 4), max_iter=1000, total=   0.0s\n",
      "[CV] hidden_layer_sizes=(64, 64, 4), max_iter=1000 ...................\n",
      "[CV] .... hidden_layer_sizes=(64, 64, 4), max_iter=1000, total=   0.0s\n",
      "[CV] hidden_layer_sizes=(64, 64, 4), max_iter=2000 ...................\n",
      "[CV] .... hidden_layer_sizes=(64, 64, 4), max_iter=2000, total=   0.0s\n",
      "[CV] hidden_layer_sizes=(64, 64, 4), max_iter=2000 ...................\n",
      "[CV] .... hidden_layer_sizes=(64, 64, 4), max_iter=2000, total=   0.0s\n",
      "[CV] hidden_layer_sizes=(64, 64, 4), max_iter=2000 ...................\n",
      "[CV] .... hidden_layer_sizes=(64, 64, 4), max_iter=2000, total=   1.1s\n",
      "[CV] hidden_layer_sizes=(64, 64, 4), max_iter=3000 ...................\n",
      "[CV] .... hidden_layer_sizes=(64, 64, 4), max_iter=3000, total=   0.0s\n",
      "[CV] hidden_layer_sizes=(64, 64, 4), max_iter=3000 ...................\n",
      "[CV] .... hidden_layer_sizes=(64, 64, 4), max_iter=3000, total=   0.1s\n",
      "[CV] hidden_layer_sizes=(64, 64, 4), max_iter=3000 ...................\n",
      "[CV] .... hidden_layer_sizes=(64, 64, 4), max_iter=3000, total=   0.0s\n",
      "[CV] hidden_layer_sizes=(64, 64, 4), max_iter=4000 ...................\n",
      "[CV] .... hidden_layer_sizes=(64, 64, 4), max_iter=4000, total=   0.0s\n",
      "[CV] hidden_layer_sizes=(64, 64, 4), max_iter=4000 ...................\n",
      "[CV] .... hidden_layer_sizes=(64, 64, 4), max_iter=4000, total=   1.2s\n",
      "[CV] hidden_layer_sizes=(64, 64, 4), max_iter=4000 ...................\n",
      "[CV] .... hidden_layer_sizes=(64, 64, 4), max_iter=4000, total=   0.0s\n",
      "[CV] hidden_layer_sizes=(128, 64, 4), max_iter=1000 ..................\n",
      "[CV] ... hidden_layer_sizes=(128, 64, 4), max_iter=1000, total=   0.0s\n",
      "[CV] hidden_layer_sizes=(128, 64, 4), max_iter=1000 ..................\n"
     ]
    },
    {
     "name": "stderr",
     "output_type": "stream",
     "text": [
      "/Library/Frameworks/Python.framework/Versions/3.7/lib/python3.7/site-packages/sklearn/neural_network/_multilayer_perceptron.py:585: ConvergenceWarning: Stochastic Optimizer: Maximum iterations (1000) reached and the optimization hasn't converged yet.\n",
      "  % self.max_iter, ConvergenceWarning)\n"
     ]
    },
    {
     "name": "stdout",
     "output_type": "stream",
     "text": [
      "[CV] ... hidden_layer_sizes=(128, 64, 4), max_iter=1000, total=   1.1s\n",
      "[CV] hidden_layer_sizes=(128, 64, 4), max_iter=1000 ..................\n",
      "[CV] ... hidden_layer_sizes=(128, 64, 4), max_iter=1000, total=   0.0s\n",
      "[CV] hidden_layer_sizes=(128, 64, 4), max_iter=2000 ..................\n",
      "[CV] ... hidden_layer_sizes=(128, 64, 4), max_iter=2000, total=   0.3s\n",
      "[CV] hidden_layer_sizes=(128, 64, 4), max_iter=2000 ..................\n",
      "[CV] ... hidden_layer_sizes=(128, 64, 4), max_iter=2000, total=   0.0s\n",
      "[CV] hidden_layer_sizes=(128, 64, 4), max_iter=2000 ..................\n",
      "[CV] ... hidden_layer_sizes=(128, 64, 4), max_iter=2000, total=   0.0s\n",
      "[CV] hidden_layer_sizes=(128, 64, 4), max_iter=3000 ..................\n",
      "[CV] ... hidden_layer_sizes=(128, 64, 4), max_iter=3000, total=   0.1s\n",
      "[CV] hidden_layer_sizes=(128, 64, 4), max_iter=3000 ..................\n",
      "[CV] ... hidden_layer_sizes=(128, 64, 4), max_iter=3000, total=   0.3s\n",
      "[CV] hidden_layer_sizes=(128, 64, 4), max_iter=3000 ..................\n",
      "[CV] ... hidden_layer_sizes=(128, 64, 4), max_iter=3000, total=   0.0s\n",
      "[CV] hidden_layer_sizes=(128, 64, 4), max_iter=4000 ..................\n",
      "[CV] ... hidden_layer_sizes=(128, 64, 4), max_iter=4000, total=   0.0s\n",
      "[CV] hidden_layer_sizes=(128, 64, 4), max_iter=4000 ..................\n",
      "[CV] ... hidden_layer_sizes=(128, 64, 4), max_iter=4000, total=   0.6s\n",
      "[CV] hidden_layer_sizes=(128, 64, 4), max_iter=4000 ..................\n",
      "[CV] ... hidden_layer_sizes=(128, 64, 4), max_iter=4000, total=   0.0s\n",
      "[CV] hidden_layer_sizes=(128, 128, 4), max_iter=1000 .................\n",
      "[CV] .. hidden_layer_sizes=(128, 128, 4), max_iter=1000, total=   0.2s\n",
      "[CV] hidden_layer_sizes=(128, 128, 4), max_iter=1000 .................\n",
      "[CV] .. hidden_layer_sizes=(128, 128, 4), max_iter=1000, total=   0.0s\n",
      "[CV] hidden_layer_sizes=(128, 128, 4), max_iter=1000 .................\n",
      "[CV] .. hidden_layer_sizes=(128, 128, 4), max_iter=1000, total=   0.0s\n",
      "[CV] hidden_layer_sizes=(128, 128, 4), max_iter=2000 .................\n",
      "[CV] .. hidden_layer_sizes=(128, 128, 4), max_iter=2000, total=   0.1s\n",
      "[CV] hidden_layer_sizes=(128, 128, 4), max_iter=2000 .................\n",
      "[CV] .. hidden_layer_sizes=(128, 128, 4), max_iter=2000, total=   0.0s\n",
      "[CV] hidden_layer_sizes=(128, 128, 4), max_iter=2000 .................\n",
      "[CV] .. hidden_layer_sizes=(128, 128, 4), max_iter=2000, total=   0.1s\n",
      "[CV] hidden_layer_sizes=(128, 128, 4), max_iter=3000 .................\n",
      "[CV] .. hidden_layer_sizes=(128, 128, 4), max_iter=3000, total=   0.2s\n",
      "[CV] hidden_layer_sizes=(128, 128, 4), max_iter=3000 .................\n",
      "[CV] .. hidden_layer_sizes=(128, 128, 4), max_iter=3000, total=   0.0s\n",
      "[CV] hidden_layer_sizes=(128, 128, 4), max_iter=3000 .................\n"
     ]
    },
    {
     "name": "stderr",
     "output_type": "stream",
     "text": [
      "/Library/Frameworks/Python.framework/Versions/3.7/lib/python3.7/site-packages/sklearn/neural_network/_multilayer_perceptron.py:585: ConvergenceWarning: Stochastic Optimizer: Maximum iterations (3000) reached and the optimization hasn't converged yet.\n",
      "  % self.max_iter, ConvergenceWarning)\n"
     ]
    },
    {
     "name": "stdout",
     "output_type": "stream",
     "text": [
      "[CV] .. hidden_layer_sizes=(128, 128, 4), max_iter=3000, total=   4.5s\n",
      "[CV] hidden_layer_sizes=(128, 128, 4), max_iter=4000 .................\n",
      "[CV] .. hidden_layer_sizes=(128, 128, 4), max_iter=4000, total=   0.0s\n",
      "[CV] hidden_layer_sizes=(128, 128, 4), max_iter=4000 .................\n",
      "[CV] .. hidden_layer_sizes=(128, 128, 4), max_iter=4000, total=   0.1s\n",
      "[CV] hidden_layer_sizes=(128, 128, 4), max_iter=4000 .................\n",
      "[CV] .. hidden_layer_sizes=(128, 128, 4), max_iter=4000, total=   0.0s\n",
      "[CV] hidden_layer_sizes=(256, 256, 4), max_iter=1000 .................\n"
     ]
    },
    {
     "name": "stderr",
     "output_type": "stream",
     "text": [
      "/Library/Frameworks/Python.framework/Versions/3.7/lib/python3.7/site-packages/sklearn/neural_network/_multilayer_perceptron.py:585: ConvergenceWarning: Stochastic Optimizer: Maximum iterations (1000) reached and the optimization hasn't converged yet.\n",
      "  % self.max_iter, ConvergenceWarning)\n"
     ]
    },
    {
     "name": "stdout",
     "output_type": "stream",
     "text": [
      "[CV] .. hidden_layer_sizes=(256, 256, 4), max_iter=1000, total=   3.1s\n",
      "[CV] hidden_layer_sizes=(256, 256, 4), max_iter=1000 .................\n"
     ]
    },
    {
     "name": "stderr",
     "output_type": "stream",
     "text": [
      "/Library/Frameworks/Python.framework/Versions/3.7/lib/python3.7/site-packages/sklearn/neural_network/_multilayer_perceptron.py:585: ConvergenceWarning: Stochastic Optimizer: Maximum iterations (1000) reached and the optimization hasn't converged yet.\n",
      "  % self.max_iter, ConvergenceWarning)\n"
     ]
    },
    {
     "name": "stdout",
     "output_type": "stream",
     "text": [
      "[CV] .. hidden_layer_sizes=(256, 256, 4), max_iter=1000, total=   3.1s\n",
      "[CV] hidden_layer_sizes=(256, 256, 4), max_iter=1000 .................\n",
      "[CV] .. hidden_layer_sizes=(256, 256, 4), max_iter=1000, total=   0.1s\n",
      "[CV] hidden_layer_sizes=(256, 256, 4), max_iter=2000 .................\n",
      "[CV] .. hidden_layer_sizes=(256, 256, 4), max_iter=2000, total=   0.0s\n",
      "[CV] hidden_layer_sizes=(256, 256, 4), max_iter=2000 .................\n",
      "[CV] .. hidden_layer_sizes=(256, 256, 4), max_iter=2000, total=   0.1s\n",
      "[CV] hidden_layer_sizes=(256, 256, 4), max_iter=2000 .................\n",
      "[CV] .. hidden_layer_sizes=(256, 256, 4), max_iter=2000, total=   0.1s\n",
      "[CV] hidden_layer_sizes=(256, 256, 4), max_iter=3000 .................\n",
      "[CV] .. hidden_layer_sizes=(256, 256, 4), max_iter=3000, total=   0.1s\n",
      "[CV] hidden_layer_sizes=(256, 256, 4), max_iter=3000 .................\n",
      "[CV] .. hidden_layer_sizes=(256, 256, 4), max_iter=3000, total=   0.0s\n",
      "[CV] hidden_layer_sizes=(256, 256, 4), max_iter=3000 .................\n",
      "[CV] .. hidden_layer_sizes=(256, 256, 4), max_iter=3000, total=   2.3s\n",
      "[CV] hidden_layer_sizes=(256, 256, 4), max_iter=4000 .................\n",
      "[CV] .. hidden_layer_sizes=(256, 256, 4), max_iter=4000, total=   0.1s\n",
      "[CV] hidden_layer_sizes=(256, 256, 4), max_iter=4000 .................\n",
      "[CV] .. hidden_layer_sizes=(256, 256, 4), max_iter=4000, total=  12.8s\n",
      "[CV] hidden_layer_sizes=(256, 256, 4), max_iter=4000 .................\n",
      "[CV] .. hidden_layer_sizes=(256, 256, 4), max_iter=4000, total=   0.1s\n"
     ]
    },
    {
     "name": "stderr",
     "output_type": "stream",
     "text": [
      "/Library/Frameworks/Python.framework/Versions/3.7/lib/python3.7/site-packages/sklearn/neural_network/_multilayer_perceptron.py:585: ConvergenceWarning: Stochastic Optimizer: Maximum iterations (4000) reached and the optimization hasn't converged yet.\n",
      "  % self.max_iter, ConvergenceWarning)\n",
      "[Parallel(n_jobs=1)]: Done  48 out of  48 | elapsed:   33.1s finished\n"
     ]
    },
    {
     "data": {
      "text/plain": [
       "GridSearchCV(cv=3, estimator=MLPRegressor(),\n",
       "             param_grid={'hidden_layer_sizes': [(64, 64, 4), (128, 64, 4),\n",
       "                                                (128, 128, 4), (256, 256, 4)],\n",
       "                         'max_iter': [1000, 2000, 3000, 4000]},\n",
       "             scoring='neg_root_mean_squared_error', verbose=2)"
      ]
     },
     "execution_count": 92,
     "metadata": {},
     "output_type": "execute_result"
    }
   ],
   "source": [
    "# grid 학습\n",
    "grid.fit(X_train, y_train)"
   ]
  },
  {
   "cell_type": "code",
   "execution_count": 88,
   "metadata": {
    "ExecuteTime": {
     "end_time": "2021-07-30T19:51:33.653311Z",
     "start_time": "2021-07-30T19:51:33.648945Z"
    }
   },
   "outputs": [
    {
     "data": {
      "text/plain": [
       "(MLPRegressor(hidden_layer_sizes=(256, 256, 4), max_iter=2000),\n",
       " -802.9495713573738)"
      ]
     },
     "execution_count": 88,
     "metadata": {},
     "output_type": "execute_result"
    }
   ],
   "source": [
    "# 최고 결과 확인\n",
    "grid.best_estimator_, grid.best_score_"
   ]
  },
  {
   "cell_type": "code",
   "execution_count": null,
   "metadata": {},
   "outputs": [],
   "source": [
    "for (model, parameter_dic) in zip([SVM_model, tree_model, NB_model, NN_model], [SVM_parameter, tree_parameter, NB_parameter, NN_parameter]):\n",
    "    grid = GridSearchCV(estimator = model, param_grid = parameter_dic, cv = 5, scoring = 'accuracy')\n",
    "    grid.fit(X, Y)\n",
    "    print(best_score)\n",
    "    if best_score < grid.best_score_:\n",
    "        best_score = grid.best_score_              \n",
    "        best_model = grid.best_estimator_\n",
    "\n",
    "print(best_model)\n",
    "print(best_score)"
   ]
  }
 ],
 "metadata": {
  "kernelspec": {
   "display_name": "Python 3",
   "language": "python",
   "name": "python3"
  },
  "language_info": {
   "codemirror_mode": {
    "name": "ipython",
    "version": 3
   },
   "file_extension": ".py",
   "mimetype": "text/x-python",
   "name": "python",
   "nbconvert_exporter": "python",
   "pygments_lexer": "ipython3",
   "version": "3.7.3"
  },
  "toc": {
   "base_numbering": 1,
   "nav_menu": {},
   "number_sections": true,
   "sideBar": true,
   "skip_h1_title": true,
   "title_cell": "Table of Contents",
   "title_sidebar": "Contents",
   "toc_cell": false,
   "toc_position": {},
   "toc_section_display": true,
   "toc_window_display": true
  },
  "varInspector": {
   "cols": {
    "lenName": 16,
    "lenType": 16,
    "lenVar": 40
   },
   "kernels_config": {
    "python": {
     "delete_cmd_postfix": "",
     "delete_cmd_prefix": "del ",
     "library": "var_list.py",
     "varRefreshCmd": "print(var_dic_list())"
    },
    "r": {
     "delete_cmd_postfix": ") ",
     "delete_cmd_prefix": "rm(",
     "library": "var_list.r",
     "varRefreshCmd": "cat(var_dic_list()) "
    }
   },
   "types_to_exclude": [
    "module",
    "function",
    "builtin_function_or_method",
    "instance",
    "_Feature"
   ],
   "window_display": false
  }
 },
 "nbformat": 4,
 "nbformat_minor": 2
}
