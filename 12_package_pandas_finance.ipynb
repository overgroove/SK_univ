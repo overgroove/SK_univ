{
 "cells": [
  {
   "cell_type": "markdown",
   "metadata": {
    "slideshow": {
     "slide_type": "slide"
    }
   },
   "source": [
    "# Pandas\n",
    "> - 데이터 과학자를 위해 **테이블형태**로 데이터를 다룰 수 있게 해주는 패키지(python용 엑셀)\n",
    "- 기존 데이터처리 라이브러리인 numpy 대신 주로 사용\n",
    "- 일반인이 데이터분석을 접하기 쉽게 만들어준 결정적인 라이브러리\n",
    "- pandas만으로도 충분히 데이터 분석이 가능할 정도로 고수준의 함수들을 내장\n",
    "- 앞으로 진행하는 데이터분석 과정에서 주로 사용하게 될 데이터구조"
   ]
  },
  {
   "cell_type": "markdown",
   "metadata": {
    "slideshow": {
     "slide_type": "slide"
    }
   },
   "source": [
    "## pandas 설치 및 import\n",
    "    \n",
    "> 콘솔창에서 실행 시  \n",
    "**`pip install pandas`**  \n",
    "**`conda install pandas`**\n",
    "    \n",
    "> 주피터 노트북으로 실행 시  \n",
    "**`!pip install pandas`**\n",
    "    \n",
    "아나콘다 환경으로 python 환경설정 시 기본적으로 설치가 되어있음"
   ]
  },
  {
   "cell_type": "code",
   "execution_count": null,
   "metadata": {
    "slideshow": {
     "slide_type": "fragment"
    }
   },
   "outputs": [],
   "source": [
    "# pandas 설치\n",
    "# !pip install pandas"
   ]
  },
  {
   "cell_type": "code",
   "execution_count": 1,
   "metadata": {
    "ExecuteTime": {
     "end_time": "2021-06-04T01:47:12.637507Z",
     "start_time": "2021-06-04T01:47:12.356324Z"
    },
    "slideshow": {
     "slide_type": "subslide"
    }
   },
   "outputs": [],
   "source": [
    "# numpy import\n",
    "import numpy as np\n",
    "\n",
    "# pandas import\n",
    "import pandas as pd\n",
    "# pd라는 닉네임은 많은 파이썬 유저들이 사용하고 있는 닉네임, 분석을 위한 필수는 아니지만 되도록이면 위와 같이 사용을 해줍시다.\n",
    "\n",
    "# pd.options.display.max_columns = 200\n",
    "# 불러들이는 데이터에 맞춰 모든 컬럼을 확인 가능하도록 옵션값을 주었습니다.\n",
    "# pd.options.display.max_info_columns =200\n",
    "# 그냥 실행 시키시고 지금 이해 못하셔도 좋습니다.\n"
   ]
  },
  {
   "cell_type": "markdown",
   "metadata": {
    "slideshow": {
     "slide_type": "slide"
    }
   },
   "source": [
    "## DataFrame\n",
    "> - 엑셀에 익숙한 사용자를 위해 제작 된 **테이블형태의 데이터 구조**  \n",
    "- 다양한 형태의 데이터를 받아 사용할 수 있으며 다양한 **통계, 시각화 함수를 제공**한다.  \n",
    "\n",
    "실제 데이터를 불러들이고 값을 확인 해 보며 기본적인 pandas 사용법을 익혀보도록 하겠습니다."
   ]
  },
  {
   "cell_type": "markdown",
   "metadata": {
    "slideshow": {
     "slide_type": "slide"
    }
   },
   "source": [
    "### 데이터 불러오기\n",
    "pandas는 다양한 데이터 파일 형태를 지원하며 주로 csv, xlsx, sql, json을 사용합니다.\n",
    "    \n",
    "> **`read_csv()`**  \n",
    "**`read_excel()`**  \n",
    "**`read_sql()`**  \n",
    "**`read_json()`**  \n",
    "**`json_normalize()`**"
   ]
  },
  {
   "cell_type": "code",
   "execution_count": null,
   "metadata": {
    "ExecuteTime": {
     "end_time": "2021-08-03T05:32:17.656986Z",
     "start_time": "2021-08-03T05:32:17.278117Z"
    },
    "slideshow": {
     "slide_type": "subslide"
    }
   },
   "outputs": [],
   "source": [
    "%%time\n",
    "# DataFrame 의 약자로서 형식적으로 df 변수명을 사용한다.\n",
    "# pandas패키지의 read_csv() 함수를 사용하여 loan.csv 파일을 불러들여 데이터프레임을 만들고 df 이름의 변수로 저장\n"
   ]
  },
  {
   "cell_type": "code",
   "execution_count": null,
   "metadata": {
    "ExecuteTime": {
     "end_time": "2021-06-04T01:48:17.516423Z",
     "start_time": "2021-06-04T01:47:20.787808Z"
    },
    "slideshow": {
     "slide_type": "fragment"
    }
   },
   "outputs": [],
   "source": [
    "%%time\n",
    "# 만약 모듈을 찾을 수 없는 오류가 발생한다면 추가 모듈 설치\n",
    "# !pip install xlrd\n"
   ]
  },
  {
   "cell_type": "code",
   "execution_count": null,
   "metadata": {
    "ExecuteTime": {
     "end_time": "2021-06-04T01:49:16.175672Z",
     "start_time": "2021-06-04T01:49:16.128161Z"
    },
    "slideshow": {
     "slide_type": "subslide"
    }
   },
   "outputs": [],
   "source": [
    "# 데이터프레임 확인\n"
   ]
  },
  {
   "cell_type": "code",
   "execution_count": null,
   "metadata": {
    "slideshow": {
     "slide_type": "subslide"
    }
   },
   "outputs": [],
   "source": [
    "# 참고! 실습은 하지 않습니다만 쿼리를 사용하여 데이터베이스로부터 데이터프레임을 만드는 것도 가능합니다.\n",
    "# 데이터베이스로 부터 자료 읽기\n",
    "\n",
    "# 필요한 모듈 추가 설치 - 각 데이터베이스 별로 다릅니다.\n",
    "# !pip install pymysql\n",
    "\n",
    "# sql 모듈 로드하기\n",
    "# import pymysql\n",
    "# mysql, mariadb, sqlite, postgresql, ms-sql, oracle, mongodb\n",
    "\n",
    "# 접속하기\n",
    "# 접속방법 또한 DB 종류에 따라 다릅니다.\n",
    "# con = pymysql.connect(host='db서버주소', port=3306, user='id', passwd='pwd', db='dbname')\n",
    "\n",
    "# query 만들기\n",
    "# query = 'select * from samples'\n",
    "\n",
    "# 자료 불러오기\n",
    "# data = pd.read_sql(query, con=con)"
   ]
  },
  {
   "cell_type": "markdown",
   "metadata": {
    "slideshow": {
     "slide_type": "slide"
    }
   },
   "source": [
    "### 데이터 저장하기\n",
    "불러들인 혹은 작업을 마친 데이터프레임을 다양한 파일형태로 저장이 가능합니다.\n",
    "    \n",
    "> **`to_csv()`**  \n",
    "**`to_excel()`**  \n",
    "**`to_sql()`**"
   ]
  },
  {
   "cell_type": "code",
   "execution_count": null,
   "metadata": {
    "slideshow": {
     "slide_type": "fragment"
    }
   },
   "outputs": [],
   "source": [
    "%%time\n"
   ]
  },
  {
   "cell_type": "code",
   "execution_count": null,
   "metadata": {
    "slideshow": {
     "slide_type": "fragment"
    }
   },
   "outputs": [],
   "source": [
    "%%time\n"
   ]
  },
  {
   "cell_type": "markdown",
   "metadata": {
    "slideshow": {
     "slide_type": "slide"
    }
   },
   "source": [
    "### 사용 데이터 간략 설명\n",
    "> 미국 핀테크 회사인 lending club의 대출 데이터베이스  \n",
    "클라우드펀딩과 대출을 결합한 핀테크의 시초라고 부를 수 있는 회사  \n",
    "방대한 양의 대출정보를 공개하면서 금융정보분석에도 기여한 공이 큰 데이터  \n",
    "2007 ~ 2015 년 대출정보 및 개인정보를 담고 있음  \n",
    "226만건, 145항목 정보를 담고있음  \n",
    "실습데이터는 이 중 4만건을 추출한 데이터를 사용합니다.  \n",
    "\n",
    "데이터출처: https://www.kaggle.com/wordsforthewise/lending-club"
   ]
  },
  {
   "cell_type": "markdown",
   "metadata": {
    "slideshow": {
     "slide_type": "slide"
    }
   },
   "source": [
    "### 데이터 살펴보기"
   ]
  },
  {
   "cell_type": "code",
   "execution_count": null,
   "metadata": {
    "ExecuteTime": {
     "end_time": "2021-06-04T01:50:04.887542Z",
     "start_time": "2021-06-04T01:50:04.864393Z"
    },
    "slideshow": {
     "slide_type": "fragment"
    }
   },
   "outputs": [],
   "source": [
    "# 데이터를 불러들인 후 가장 처음 하는 작업\n",
    "# 데이터의 구조, 형태 파악하기\n",
    "# 데이터의 첫 5개 샘플 확인하기\n",
    "\n",
    "# 10개를 확인하려면?"
   ]
  },
  {
   "cell_type": "code",
   "execution_count": null,
   "metadata": {
    "ExecuteTime": {
     "end_time": "2021-06-04T01:50:09.825164Z",
     "start_time": "2021-06-04T01:50:09.801663Z"
    },
    "slideshow": {
     "slide_type": "subslide"
    }
   },
   "outputs": [],
   "source": [
    "# 데이터의 마지막 5개 샘플 확인하기\n",
    "# 데이터가 잘 가져왔는지 확인 할 때 보통 씁니다.\n"
   ]
  },
  {
   "cell_type": "code",
   "execution_count": null,
   "metadata": {
    "ExecuteTime": {
     "end_time": "2021-06-04T01:50:13.191334Z",
     "start_time": "2021-06-04T01:50:13.187901Z"
    },
    "slideshow": {
     "slide_type": "fragment"
    }
   },
   "outputs": [],
   "source": [
    "# 데이터의 갯수를 살펴봅니다\n"
   ]
  },
  {
   "cell_type": "code",
   "execution_count": null,
   "metadata": {
    "ExecuteTime": {
     "end_time": "2021-06-04T01:50:47.499565Z",
     "start_time": "2021-06-04T01:50:47.467289Z"
    },
    "slideshow": {
     "slide_type": "subslide"
    }
   },
   "outputs": [],
   "source": [
    "# 데이터의 전반적인 정보를 확인합니다.\n",
    "\n",
    "# dtype 정보에서는 각 컬럼별 데이터 타입을 확인 할 수 있습니다.\n",
    "# object == str 이라고 생각하셔도 무방합니다.\n",
    "# verbose, null_counts"
   ]
  },
  {
   "cell_type": "code",
   "execution_count": null,
   "metadata": {
    "ExecuteTime": {
     "end_time": "2021-06-04T01:51:03.751380Z",
     "start_time": "2021-06-04T01:51:03.278041Z"
    },
    "slideshow": {
     "slide_type": "subslide"
    }
   },
   "outputs": [],
   "source": [
    "# 데이터의 기초통계량을 확인합니다.\n"
   ]
  },
  {
   "cell_type": "code",
   "execution_count": null,
   "metadata": {
    "ExecuteTime": {
     "end_time": "2021-06-04T01:51:10.669709Z",
     "start_time": "2021-06-04T01:51:10.666107Z"
    },
    "slideshow": {
     "slide_type": "subslide"
    }
   },
   "outputs": [],
   "source": [
    "# numpy 함수로 데이터 shape 확인\n"
   ]
  },
  {
   "cell_type": "code",
   "execution_count": null,
   "metadata": {
    "ExecuteTime": {
     "end_time": "2021-06-04T01:51:11.429314Z",
     "start_time": "2021-06-04T01:51:11.425684Z"
    },
    "slideshow": {
     "slide_type": "subslide"
    }
   },
   "outputs": [],
   "source": [
    "# 인덱스\n"
   ]
  },
  {
   "cell_type": "code",
   "execution_count": null,
   "metadata": {
    "ExecuteTime": {
     "end_time": "2021-06-04T01:51:11.865039Z",
     "start_time": "2021-06-04T01:51:11.859786Z"
    },
    "slideshow": {
     "slide_type": "subslide"
    }
   },
   "outputs": [],
   "source": [
    "# 컬럼\n"
   ]
  },
  {
   "cell_type": "markdown",
   "metadata": {
    "slideshow": {
     "slide_type": "slide"
    }
   },
   "source": [
    "데이터셋을 살펴 본 결과 정체를 알 수 없는 많은 컬럼이 있는 걸 확인했고, \n",
    "\n",
    "50000개의 샘플이 불러들여진 것을 확인 할 수 있었습니다.\n",
    "\n",
    "추가로 데이터 중간 중간 비어있는 값도 있는 것을 확인했습니다."
   ]
  },
  {
   "cell_type": "markdown",
   "metadata": {
    "slideshow": {
     "slide_type": "slide"
    }
   },
   "source": [
    "### 데이터접근 (인덱싱, 슬라이싱, 샘플링)"
   ]
  },
  {
   "cell_type": "code",
   "execution_count": null,
   "metadata": {
    "slideshow": {
     "slide_type": "subslide"
    }
   },
   "outputs": [],
   "source": [
    "# 첫 샘플 혹은 레코드(대출건)에 대한 데이터를 살펴보겠습니다.\n",
    "# 인덱스넘버로 데이터에 접근하는 .iloc[색인]\n"
   ]
  },
  {
   "cell_type": "code",
   "execution_count": null,
   "metadata": {
    "slideshow": {
     "slide_type": "subslide"
    }
   },
   "outputs": [],
   "source": [
    "# 10번 인덱스 부터 20번 인덱스 샘플 접근\n"
   ]
  },
  {
   "cell_type": "code",
   "execution_count": null,
   "metadata": {
    "slideshow": {
     "slide_type": "subslide"
    }
   },
   "outputs": [],
   "source": [
    "# 첫번째 0, 10, 20 인덱스 샘플 접근\n"
   ]
  },
  {
   "cell_type": "code",
   "execution_count": null,
   "metadata": {
    "slideshow": {
     "slide_type": "subslide"
    }
   },
   "outputs": [],
   "source": [
    "# 컬럼 단위 샘플 접근\n",
    "\n",
    "# df[텍스트형태의 컬럼명]\n",
    "\n",
    "# 인덱싱이나 슬라이싱으로 데이터에 접근을 할 때 큰 단위를 선택하고 그 결과에서 인덱싱 혹은 슬라이싱을 하면\n",
    "# 조금 더 편하게, 쉽게 데이터 접근이 가능하다."
   ]
  },
  {
   "cell_type": "code",
   "execution_count": null,
   "metadata": {
    "slideshow": {
     "slide_type": "subslide"
    }
   },
   "outputs": [],
   "source": [
    "# 여러 컬럼 동시 접근\n"
   ]
  },
  {
   "cell_type": "code",
   "execution_count": null,
   "metadata": {
    "slideshow": {
     "slide_type": "subslide"
    }
   },
   "outputs": [],
   "source": [
    "# row와 columns을 동시에 슬라이싱 하는 속성\n",
    "# df.loc[인덱스, 컬럼명]\n"
   ]
  },
  {
   "cell_type": "markdown",
   "metadata": {
    "slideshow": {
     "slide_type": "slide"
    }
   },
   "source": [
    "### 팬시인덱싱\n",
    "> **`bool`** 형태의 array를 조건을 전달하여 다차원 배열을 인덱싱하는 방법.  \n",
    "조건식을 사용하여 분석에 필요한 데이터샘플을 추출하기 용이합니다."
   ]
  },
  {
   "cell_type": "code",
   "execution_count": null,
   "metadata": {},
   "outputs": [],
   "source": [
    "# 신용등급이 A인 샘플의 emp_title 확인\n"
   ]
  },
  {
   "cell_type": "code",
   "execution_count": null,
   "metadata": {},
   "outputs": [],
   "source": [
    "# 대출금액평균\n"
   ]
  },
  {
   "cell_type": "code",
   "execution_count": null,
   "metadata": {
    "slideshow": {
     "slide_type": "subslide"
    }
   },
   "outputs": [],
   "source": [
    "# 조건식 샘플링 emp_title 이 ceo인 샘플들\n"
   ]
  },
  {
   "cell_type": "code",
   "execution_count": null,
   "metadata": {
    "slideshow": {
     "slide_type": "subslide"
    }
   },
   "outputs": [],
   "source": [
    "# 신용등급 A와 B인 샘플접근\n",
    "\n",
    "# 조건식을 여러개 써야 한다면 조건마다 ()로 감싸주시는 것이 좋습니다."
   ]
  },
  {
   "cell_type": "code",
   "execution_count": null,
   "metadata": {},
   "outputs": [],
   "source": [
    "# df loan_amnt 컬럼값이 10000이상인 채권샘플의 grade\n"
   ]
  },
  {
   "cell_type": "code",
   "execution_count": null,
   "metadata": {},
   "outputs": [],
   "source": [
    "# df grade C 와 D 인 채권샘플 emp_title, annual_inc\n",
    "# 옵션 annual_inc 최대값인 인덱스 빼오기\n"
   ]
  },
  {
   "cell_type": "markdown",
   "metadata": {
    "slideshow": {
     "slide_type": "slide"
    }
   },
   "source": [
    "## 데이터프레임 병합\n",
    "> 실제 분석업무를 진행하다보면 데이터가 여기저기 분산되어 있을 경우가 더 많습니다.  \n",
    "조각난 데이터를 분석에 필요한 데이터셋으로 만들기 위해 데이터프레임 병합을 많이 사용합니다.  \n",
    "한개 이상의 데이터프레임을 병합 할 때 주로 사용하는 함수 2가지를 알아보겠습니다.    "
   ]
  },
  {
   "cell_type": "markdown",
   "metadata": {
    "slideshow": {
     "slide_type": "subslide"
    }
   },
   "source": [
    "### 데이터 병합에 사용가능한 key(병합할 기준이 되는 행 or 열)값이 있는경우\n",
    "**`pd.merge`**(베이스데이터프레임, 병합할데이터프레임)  \n",
    "> 사용 가능 한 파라메터\n",
    "- `how` : 'left', 'right', 'inner', 'outer'\n",
    "- `left_on` : key값이 다를 경우 베이스데이터프레임의 key 설정\n",
    "- `right_on` : key값이 다를 경우 병합데이터프레임의 key 설정\n",
    "    \n",
    "### 단순 데이터 연결\n",
    "**`pd.concat`**([베이스데이터프레임, 병합할데이터프레임], axis=0 or 1)\n",
    "> 사용 가능 한 파라메터  \n",
    "- `axis` : 축 방향 설정"
   ]
  },
  {
   "cell_type": "markdown",
   "metadata": {
    "slideshow": {
     "slide_type": "slide"
    }
   },
   "source": [
    "### merge 예시"
   ]
  },
  {
   "cell_type": "code",
   "execution_count": 77,
   "metadata": {
    "slideshow": {
     "slide_type": "fragment"
    }
   },
   "outputs": [],
   "source": [
    "merge_df1 = pd.DataFrame({\n",
    "    '이름': ['원영', '사쿠라', '유리', '예나', '유진', '나코', '은비', '혜원', '히토미', '채원', '민주', '째욘'],\n",
    "    '국어': [100, 70, 70, 70, 60, 90, 90, 70, 70, 80, 100, 100],\n",
    "    '영어': [100, 90, 80, 50, 70, 100, 70, 90, 100, 100, 80, 100]\n",
    "    }, columns=['이름', '국어', '영어']) \n",
    "\n",
    "merge_df2 = pd.DataFrame({\n",
    "    '일어': [80, 100, 100, 90, 70, 50, 100],\n",
    "    '수학': [90, 70, 100, 80, 70, 80, 90],\n",
    "    '이름': ['원영', '사쿠라', '나코', '히토미', '예나', '은비', '째욘'],\n",
    "    }, columns=['일어', '수학', '이름'])"
   ]
  },
  {
   "cell_type": "code",
   "execution_count": null,
   "metadata": {},
   "outputs": [],
   "source": [
    "# merge\n"
   ]
  },
  {
   "cell_type": "markdown",
   "metadata": {
    "slideshow": {
     "slide_type": "slide"
    }
   },
   "source": [
    "### concat 예시\n",
    "현재 df에 저장되어있는 데이터에 추가로 2만개의 데이터를 이어붙여보겠습니다. df1이라는 변수에 이어붙일 데이터를 불러들여 병합을 진행해보겠습니다."
   ]
  },
  {
   "cell_type": "code",
   "execution_count": null,
   "metadata": {
    "slideshow": {
     "slide_type": "fragment"
    }
   },
   "outputs": [],
   "source": [
    "# df1 변수에 loan2.csv 파일을 읽어들입니다.\n"
   ]
  },
  {
   "cell_type": "code",
   "execution_count": null,
   "metadata": {},
   "outputs": [],
   "source": [
    "# 데이터프레임 확인\n"
   ]
  },
  {
   "cell_type": "code",
   "execution_count": null,
   "metadata": {
    "slideshow": {
     "slide_type": "fragment"
    }
   },
   "outputs": [],
   "source": [
    "# df 와 df1 shape 확인\n"
   ]
  },
  {
   "cell_type": "code",
   "execution_count": null,
   "metadata": {
    "slideshow": {
     "slide_type": "subslide"
    }
   },
   "outputs": [],
   "source": [
    "# 데이터프레임 행단위 병합\n"
   ]
  },
  {
   "cell_type": "code",
   "execution_count": null,
   "metadata": {},
   "outputs": [],
   "source": [
    "# 데이터인덱스 확인\n"
   ]
  },
  {
   "cell_type": "code",
   "execution_count": null,
   "metadata": {
    "slideshow": {
     "slide_type": "fragment"
    }
   },
   "outputs": [],
   "source": [
    "# 병합 데이터프레임 shape 확인\n"
   ]
  },
  {
   "cell_type": "markdown",
   "metadata": {
    "slideshow": {
     "slide_type": "slide"
    }
   },
   "source": [
    "## 인덱스 편집\n",
    "방금 전 concat으로 병합한 데이터프레임의 이상한 점을 찾으셨나요?  \n",
    "데이터 자체는 잘 붙였지만 인덱스가 꼬여있습니다. 인덱스 편집은 데이터분석을 위해 필요한 인덱스를 설정하기 위해 필요합니다."
   ]
  },
  {
   "cell_type": "code",
   "execution_count": 102,
   "metadata": {},
   "outputs": [],
   "source": [
    "# 인덱스리셋\n",
    "\n",
    "# drop - 현재 인덱스의 원본값을 버림\n",
    "# inplace - 원본값 변경"
   ]
  },
  {
   "cell_type": "code",
   "execution_count": 106,
   "metadata": {
    "slideshow": {
     "slide_type": "subslide"
    }
   },
   "outputs": [],
   "source": [
    "# 인덱스 초기화\n"
   ]
  },
  {
   "cell_type": "code",
   "execution_count": 109,
   "metadata": {
    "slideshow": {
     "slide_type": "subslide"
    }
   },
   "outputs": [],
   "source": [
    "# 기존 컬럼값을 취해 index로 사용\n"
   ]
  },
  {
   "cell_type": "code",
   "execution_count": null,
   "metadata": {
    "slideshow": {
     "slide_type": "subslide"
    }
   },
   "outputs": [],
   "source": [
    "# 기존 인덱스값을 날리면서 인덱스 초기화\n"
   ]
  },
  {
   "cell_type": "markdown",
   "metadata": {
    "slideshow": {
     "slide_type": "slide"
    }
   },
   "source": [
    "## 컬럼편집\n",
    "인덱스편집과 마찬가지로 데이터프레임의 컬럼을 변경해야 할 경우도 있습니다. 데이터프레임은 컬럼단위 샘플링 및 인덱싱, 이름변경이 가능합니다."
   ]
  },
  {
   "cell_type": "markdown",
   "metadata": {
    "slideshow": {
     "slide_type": "subslide"
    }
   },
   "source": [
    "### 컬럼선택"
   ]
  },
  {
   "cell_type": "code",
   "execution_count": 112,
   "metadata": {
    "slideshow": {
     "slide_type": "fragment"
    }
   },
   "outputs": [
    {
     "data": {
      "text/plain": [
       "'id'"
      ]
     },
     "execution_count": 112,
     "metadata": {},
     "output_type": "execute_result"
    }
   ],
   "source": [
    "# df 컬럼명 접근\n"
   ]
  },
  {
   "cell_type": "code",
   "execution_count": null,
   "metadata": {
    "slideshow": {
     "slide_type": "fragment"
    }
   },
   "outputs": [],
   "source": [
    "# columns 속성도 인덱싱 및 슬라이싱이 가능합니다.\n"
   ]
  },
  {
   "cell_type": "markdown",
   "metadata": {
    "slideshow": {
     "slide_type": "subslide"
    }
   },
   "source": [
    "저는 개인정보에 관한 부분에 관심이 많습니다. 데이터셋 중 필요한 부분만을 컬럼단위로 추려보겠습니다."
   ]
  },
  {
   "cell_type": "code",
   "execution_count": null,
   "metadata": {
    "scrolled": true,
    "slideshow": {
     "slide_type": "fragment"
    }
   },
   "outputs": [],
   "source": [
    "# df의 개인정보에 관한 컬럼만을 색인으로 df를 슬라이싱하고 person_df 변수에 할당\n"
   ]
  },
  {
   "cell_type": "markdown",
   "metadata": {
    "slideshow": {
     "slide_type": "slide"
    }
   },
   "source": [
    "### 컬럼삭제\n",
    "현재 데이터셋에는 개인식별정보가 지워져서 데이터가 존재하지 않습니다. 불필요한 데이터 column을 지우도록 하겠습니다."
   ]
  },
  {
   "cell_type": "code",
   "execution_count": null,
   "metadata": {
    "slideshow": {
     "slide_type": "fragment"
    }
   },
   "outputs": [],
   "source": [
    "# 지울 column의 데이터값이 모두 NaN인지 확인\n"
   ]
  },
  {
   "cell_type": "markdown",
   "metadata": {
    "slideshow": {
     "slide_type": "fragment"
    }
   },
   "source": [
    "삭제할 컬럼 모두 데이터가 없는 것을 확인했습니다."
   ]
  },
  {
   "cell_type": "code",
   "execution_count": 116,
   "metadata": {
    "slideshow": {
     "slide_type": "subslide"
    }
   },
   "outputs": [],
   "source": [
    "# 컬럼삭제 drop('컬럼명', axis=1)\n",
    "# del (df['컬럼명'])\n",
    "# 실제로는 컬럼 및 행도 삭제 가능합니다. axis=0(기본값)\n",
    "# inplace=True 파라메터를 사용해서 원본값을 변경가능합니다.\n",
    "\n",
    "# person_df = person_df.drop('id', axis=1)"
   ]
  },
  {
   "cell_type": "code",
   "execution_count": 118,
   "metadata": {
    "slideshow": {
     "slide_type": "subslide"
    }
   },
   "outputs": [],
   "source": [
    "# inplace 파라메터 사용\n"
   ]
  },
  {
   "cell_type": "code",
   "execution_count": 120,
   "metadata": {
    "slideshow": {
     "slide_type": "subslide"
    }
   },
   "outputs": [],
   "source": [
    "# del 메모리 삭제 키워드 사용\n"
   ]
  },
  {
   "cell_type": "markdown",
   "metadata": {
    "slideshow": {
     "slide_type": "slide"
    }
   },
   "source": [
    "### 컬럼명 변경\n",
    "    경우에 따라서는 데이터셋 제작 중 컬럼명을 변경해야 할 경우도 있습니다.\n",
    "    국내 수집 데이터 사용 시 컬럼이 한글일 경우 영어로 변경을 많이 합니다."
   ]
  },
  {
   "cell_type": "code",
   "execution_count": 122,
   "metadata": {
    "slideshow": {
     "slide_type": "fragment"
    }
   },
   "outputs": [],
   "source": [
    "# home_ownership을 간략하게 home으로 변경\n",
    "# 한글도 가능합니다만 권장하지는 않습니다.\n"
   ]
  },
  {
   "cell_type": "markdown",
   "metadata": {
    "slideshow": {
     "slide_type": "slide"
    }
   },
   "source": [
    "## 데이터 샘플링 및 분석\n",
    "> 데이터병합, 인덱스편집, 컬럼선택만으로도 불필요한 정보를 삭제하고 새롭게 데이터셋을 만들 수 있는것을 확인했습니다.  \n",
    "위에 학습한 내용도 데이터 샘플링에 속한 내용이지만 지금부터는 데이터셋의 데이터를 살펴보면서 의미있는 데이터를 추려보도록 하겠습니다.  \n",
    "    \n",
    "**데이터프레임의 기본적인 인덱싱, 슬라이싱, 조건부 샘플링을 조합하면 데이터의 샘플을 확인 하는 과정만으로도 데이터분석이 가능해집니다.**"
   ]
  },
  {
   "cell_type": "code",
   "execution_count": null,
   "metadata": {
    "ExecuteTime": {
     "end_time": "2021-06-05T06:33:46.028617Z",
     "start_time": "2021-06-05T06:33:45.930571Z"
    },
    "slideshow": {
     "slide_type": "fragment"
    }
   },
   "outputs": [],
   "source": [
    "# 분석에 필요한 데이터프레임을 만들었으니 원본값을 사용하겠습니다. 기존 df에 person_df 값을 덮어 씌웁니다.\n"
   ]
  },
  {
   "cell_type": "code",
   "execution_count": 125,
   "metadata": {},
   "outputs": [],
   "source": [
    "# 분석에 필요한 데이터셋을 생성했다면 파일로도 저장 해둡시다.\n"
   ]
  },
  {
   "cell_type": "code",
   "execution_count": null,
   "metadata": {},
   "outputs": [],
   "source": [
    "# 저장한 loan_df.csv 파일을 fianl_df 변수에 불러들여서 저장하고 \n",
    "# 데이터를 확인해보겠습니다.\n"
   ]
  },
  {
   "cell_type": "markdown",
   "metadata": {
    "slideshow": {
     "slide_type": "subslide"
    }
   },
   "source": [
    "### 저는 채권자의 개인정보에 관심이 많습니다. 고객의 직업을 살펴보겠습니다."
   ]
  },
  {
   "cell_type": "code",
   "execution_count": null,
   "metadata": {
    "slideshow": {
     "slide_type": "-"
    }
   },
   "outputs": [],
   "source": [
    "# emp_title 접근\n"
   ]
  },
  {
   "cell_type": "code",
   "execution_count": null,
   "metadata": {
    "slideshow": {
     "slide_type": "-"
    }
   },
   "outputs": [],
   "source": [
    "# 값을 카운트 하는 함수 value_counts()\n"
   ]
  },
  {
   "cell_type": "markdown",
   "metadata": {},
   "source": [
    "### 데이터프레임 형변환"
   ]
  },
  {
   "cell_type": "code",
   "execution_count": null,
   "metadata": {
    "slideshow": {
     "slide_type": "-"
    }
   },
   "outputs": [],
   "source": [
    "# Owner, owner 같은 직업이지만 대소문자 구분에 따라 다른 값으로 취급되는 문제가 있네요.\n",
    "# 대소문자 구분을 없애기 위해 모두 소문자로 데이터값을 변경하겠습니다.\n",
    "# 소문자 변환 전 혹시모를 int, float 데이터가 있을지 모를 상황에 대비해서 모두 문자열로 변경해주겠습니다.\n",
    "# 형변환 함수 astype(데이터타입)\n"
   ]
  },
  {
   "cell_type": "code",
   "execution_count": null,
   "metadata": {
    "slideshow": {
     "slide_type": "-"
    }
   },
   "outputs": [],
   "source": [
    "%%time\n",
    "# 반복문을 사용한 데이터 변경도 가능\n",
    "# 하지만 파이썬의 강점을 살리지 못한 코드\n"
   ]
  },
  {
   "cell_type": "markdown",
   "metadata": {
    "slideshow": {
     "slide_type": "slide"
    }
   },
   "source": [
    "### 배운사람들의 코드, 고오급 python 스킬\n",
    "numpy를 학습하면서 브로드캐스팅에 관하여 잠깐 언급했었습니다. 그렇다면 그 파워풀하다던 브로드캐스팅은 어떻게 사용해야할까요?\n",
    "    \n",
    ">기타 언어에서는 지원하지 않는 기능이니만큼 파이썬의 특징을 가장 잘 살리는 코드  \n",
    "**`apply`** 함수를 사용하여 인자로 받는 모든 데이터에 함수를 적용"
   ]
  },
  {
   "cell_type": "markdown",
   "metadata": {
    "slideshow": {
     "slide_type": "subslide"
    }
   },
   "source": [
    "#### apply 함수로 컬럼에 적용시키는 코드 구조\n",
    "    df['컬럼명'] = df['컬럼명'].apply(lambda x: func(x) if 조건문)"
   ]
  },
  {
   "cell_type": "code",
   "execution_count": null,
   "metadata": {
    "slideshow": {
     "slide_type": "fragment"
    }
   },
   "outputs": [],
   "source": [
    "%%time\n",
    "# apply() 함수사용 반복이 가능한 데이터구조의 모든 인자에 적용\n",
    "# lambda 각 인자에 적용할 함수 혹은 연산\n"
   ]
  },
  {
   "cell_type": "code",
   "execution_count": null,
   "metadata": {
    "slideshow": {
     "slide_type": "subslide"
    }
   },
   "outputs": [],
   "source": [
    "# 대소문자 구분을 처리한 값 확인\n",
    "\n",
    "# 기존 value_count 값과 차이가 있음을 확인 할 수 있습니다.\n",
    "# 제공 된 데이터셋이라도 이와 같은 작은 차이가 있을 수 있습니다.\n",
    "# 데이터를 꼼꼼하게 살펴볼 수록 디테일한 차이를 만들 수 있습니다."
   ]
  },
  {
   "cell_type": "code",
   "execution_count": null,
   "metadata": {
    "slideshow": {
     "slide_type": "subslide"
    }
   },
   "outputs": [],
   "source": [
    "# owner인 사람들 샘플링\n"
   ]
  },
  {
   "cell_type": "code",
   "execution_count": null,
   "metadata": {
    "slideshow": {
     "slide_type": "subslide"
    }
   },
   "outputs": [],
   "source": [
    "# 샘플링 된 데이터프레임의 단일 컬럼 접근\n"
   ]
  },
  {
   "cell_type": "code",
   "execution_count": null,
   "metadata": {
    "slideshow": {
     "slide_type": "subslide"
    }
   },
   "outputs": [],
   "source": [
    "# 컬럼 평균값 계산\n"
   ]
  },
  {
   "cell_type": "code",
   "execution_count": null,
   "metadata": {
    "slideshow": {
     "slide_type": "subslide"
    }
   },
   "outputs": [],
   "source": [
    "# 코드 하나 변경으로 간단한 분석 가능\n",
    "# owner가 아닌 사람들의 평균\n"
   ]
  },
  {
   "cell_type": "code",
   "execution_count": null,
   "metadata": {
    "slideshow": {
     "slide_type": "subslide"
    }
   },
   "outputs": [],
   "source": [
    "# 각 직업별 평균연봉이 궁금하다 groupby\n",
    "# 엑셀의 pivol table 과 비슷한 기능\n"
   ]
  },
  {
   "cell_type": "code",
   "execution_count": null,
   "metadata": {
    "slideshow": {
     "slide_type": "subslide"
    }
   },
   "outputs": [],
   "source": [
    "# 위 테이블에서 연간수입 접근\n"
   ]
  },
  {
   "cell_type": "code",
   "execution_count": null,
   "metadata": {
    "slideshow": {
     "slide_type": "subslide"
    }
   },
   "outputs": [],
   "source": [
    "# 데이터정렬\n"
   ]
  },
  {
   "cell_type": "markdown",
   "metadata": {
    "slideshow": {
     "slide_type": "slide"
    }
   },
   "source": [
    "## 결측치 처리\n",
    "> 데이터 분석을 위해서는 데이터셋 내에 빈 값이 있는 경우 분석에 방해가 될 수 있는 여지가 많습니다.  \n",
    "모든 결측치를 없애야 하는 것은 아니지만 되도록이면 결측치를 채우는 방법, 혹은 없애는 방법등으로 결측치를 처리합니다.  \n",
    "몇가지 예시를 살펴보면서 결측치 처리에 대해 알아봅시다."
   ]
  },
  {
   "cell_type": "code",
   "execution_count": 151,
   "metadata": {
    "slideshow": {
     "slide_type": "subslide"
    }
   },
   "outputs": [
    {
     "name": "stdout",
     "output_type": "stream",
     "text": [
      "<class 'pandas.core.frame.DataFrame'>\n",
      "RangeIndex: 50000 entries, 0 to 49999\n",
      "Data columns (total 22 columns):\n",
      "loan_amnt              50000 non-null int64\n",
      "funded_amnt            50000 non-null int64\n",
      "funded_amnt_inv        50000 non-null float64\n",
      "term                   50000 non-null object\n",
      "int_rate               50000 non-null float64\n",
      "installment            50000 non-null float64\n",
      "grade                  50000 non-null object\n",
      "sub_grade              50000 non-null object\n",
      "emp_title              50000 non-null object\n",
      "emp_length             45820 non-null object\n",
      "home                   50000 non-null object\n",
      "annual_inc             50000 non-null float64\n",
      "verification_status    50000 non-null object\n",
      "issue_d                50000 non-null object\n",
      "loan_status            50000 non-null object\n",
      "pymnt_plan             50000 non-null object\n",
      "purpose                50000 non-null object\n",
      "title                  50000 non-null object\n",
      "zip_code               50000 non-null object\n",
      "addr_state             50000 non-null object\n",
      "dti                    49898 non-null float64\n",
      "delinq_2yrs            50000 non-null float64\n",
      "dtypes: float64(6), int64(2), object(14)\n",
      "memory usage: 8.4+ MB\n"
     ]
    }
   ],
   "source": [
    "# info() 함수는 결측치에 대한 정보도 보여줍니다.\n",
    "# 컬럼별 isnull() 함수를 사용해도 무방합니다.\n"
   ]
  },
  {
   "cell_type": "markdown",
   "metadata": {
    "slideshow": {
     "slide_type": "subslide"
    }
   },
   "source": [
    "    확인결과 emp_title, emp_length, dti에 결측치가 존재합니다.\n",
    "    해당 컬럼의 결측치 샘플들을 살펴보고 결측치를 처리해 보겠습니다."
   ]
  },
  {
   "cell_type": "code",
   "execution_count": 153,
   "metadata": {
    "slideshow": {
     "slide_type": "subslide"
    }
   },
   "outputs": [
    {
     "data": {
      "text/plain": [
       "0"
      ]
     },
     "execution_count": 153,
     "metadata": {},
     "output_type": "execute_result"
    }
   ],
   "source": [
    "# 컬럼별 결측치 확인을 위한 isnull()함수 리턴값이 bool 형태로 반환되어 조건부 샘플링이 가능합니다.\n"
   ]
  },
  {
   "cell_type": "code",
   "execution_count": 156,
   "metadata": {
    "slideshow": {
     "slide_type": "subslide"
    }
   },
   "outputs": [
    {
     "data": {
      "text/html": [
       "<div>\n",
       "<style scoped>\n",
       "    .dataframe tbody tr th:only-of-type {\n",
       "        vertical-align: middle;\n",
       "    }\n",
       "\n",
       "    .dataframe tbody tr th {\n",
       "        vertical-align: top;\n",
       "    }\n",
       "\n",
       "    .dataframe thead th {\n",
       "        text-align: right;\n",
       "    }\n",
       "</style>\n",
       "<table border=\"1\" class=\"dataframe\">\n",
       "  <thead>\n",
       "    <tr style=\"text-align: right;\">\n",
       "      <th></th>\n",
       "      <th>loan_amnt</th>\n",
       "      <th>funded_amnt</th>\n",
       "      <th>funded_amnt_inv</th>\n",
       "      <th>term</th>\n",
       "      <th>int_rate</th>\n",
       "      <th>installment</th>\n",
       "      <th>grade</th>\n",
       "      <th>sub_grade</th>\n",
       "      <th>emp_title</th>\n",
       "      <th>emp_length</th>\n",
       "      <th>home</th>\n",
       "      <th>annual_inc</th>\n",
       "      <th>verification_status</th>\n",
       "      <th>issue_d</th>\n",
       "      <th>loan_status</th>\n",
       "      <th>pymnt_plan</th>\n",
       "      <th>purpose</th>\n",
       "      <th>title</th>\n",
       "      <th>zip_code</th>\n",
       "      <th>addr_state</th>\n",
       "      <th>dti</th>\n",
       "      <th>delinq_2yrs</th>\n",
       "    </tr>\n",
       "  </thead>\n",
       "  <tbody>\n",
       "    <tr>\n",
       "      <th>1020</th>\n",
       "      <td>30000</td>\n",
       "      <td>30000</td>\n",
       "      <td>30000.0</td>\n",
       "      <td>60 months</td>\n",
       "      <td>17.09</td>\n",
       "      <td>747.03</td>\n",
       "      <td>D</td>\n",
       "      <td>D1</td>\n",
       "      <td>nan</td>\n",
       "      <td>NaN</td>\n",
       "      <td>MORTGAGE</td>\n",
       "      <td>0.0</td>\n",
       "      <td>Not Verified</td>\n",
       "      <td>Dec-2017</td>\n",
       "      <td>Current</td>\n",
       "      <td>n</td>\n",
       "      <td>debt_consolidation</td>\n",
       "      <td>Debt consolidation</td>\n",
       "      <td>347xx</td>\n",
       "      <td>FL</td>\n",
       "      <td>NaN</td>\n",
       "      <td>1.0</td>\n",
       "    </tr>\n",
       "    <tr>\n",
       "      <th>1076</th>\n",
       "      <td>25200</td>\n",
       "      <td>25200</td>\n",
       "      <td>25200.0</td>\n",
       "      <td>60 months</td>\n",
       "      <td>12.62</td>\n",
       "      <td>568.49</td>\n",
       "      <td>C</td>\n",
       "      <td>C1</td>\n",
       "      <td>nan</td>\n",
       "      <td>NaN</td>\n",
       "      <td>MORTGAGE</td>\n",
       "      <td>0.0</td>\n",
       "      <td>Not Verified</td>\n",
       "      <td>Dec-2017</td>\n",
       "      <td>Current</td>\n",
       "      <td>n</td>\n",
       "      <td>debt_consolidation</td>\n",
       "      <td>Debt consolidation</td>\n",
       "      <td>450xx</td>\n",
       "      <td>OH</td>\n",
       "      <td>NaN</td>\n",
       "      <td>0.0</td>\n",
       "    </tr>\n",
       "    <tr>\n",
       "      <th>1193</th>\n",
       "      <td>22000</td>\n",
       "      <td>22000</td>\n",
       "      <td>22000.0</td>\n",
       "      <td>36 months</td>\n",
       "      <td>16.02</td>\n",
       "      <td>773.68</td>\n",
       "      <td>C</td>\n",
       "      <td>C5</td>\n",
       "      <td>nan</td>\n",
       "      <td>NaN</td>\n",
       "      <td>MORTGAGE</td>\n",
       "      <td>0.0</td>\n",
       "      <td>Not Verified</td>\n",
       "      <td>Dec-2017</td>\n",
       "      <td>Late (31-120 days)</td>\n",
       "      <td>y</td>\n",
       "      <td>credit_card</td>\n",
       "      <td>Credit card refinancing</td>\n",
       "      <td>935xx</td>\n",
       "      <td>CA</td>\n",
       "      <td>NaN</td>\n",
       "      <td>0.0</td>\n",
       "    </tr>\n",
       "    <tr>\n",
       "      <th>1194</th>\n",
       "      <td>19000</td>\n",
       "      <td>19000</td>\n",
       "      <td>19000.0</td>\n",
       "      <td>60 months</td>\n",
       "      <td>16.02</td>\n",
       "      <td>462.25</td>\n",
       "      <td>C</td>\n",
       "      <td>C5</td>\n",
       "      <td>secretary</td>\n",
       "      <td>&lt; 1 year</td>\n",
       "      <td>MORTGAGE</td>\n",
       "      <td>0.0</td>\n",
       "      <td>Not Verified</td>\n",
       "      <td>Dec-2017</td>\n",
       "      <td>Current</td>\n",
       "      <td>n</td>\n",
       "      <td>debt_consolidation</td>\n",
       "      <td>Debt consolidation</td>\n",
       "      <td>827xx</td>\n",
       "      <td>WY</td>\n",
       "      <td>NaN</td>\n",
       "      <td>0.0</td>\n",
       "    </tr>\n",
       "    <tr>\n",
       "      <th>1902</th>\n",
       "      <td>20000</td>\n",
       "      <td>20000</td>\n",
       "      <td>20000.0</td>\n",
       "      <td>36 months</td>\n",
       "      <td>15.05</td>\n",
       "      <td>693.80</td>\n",
       "      <td>C</td>\n",
       "      <td>C4</td>\n",
       "      <td>nan</td>\n",
       "      <td>NaN</td>\n",
       "      <td>RENT</td>\n",
       "      <td>0.0</td>\n",
       "      <td>Not Verified</td>\n",
       "      <td>Dec-2017</td>\n",
       "      <td>Current</td>\n",
       "      <td>n</td>\n",
       "      <td>debt_consolidation</td>\n",
       "      <td>Debt consolidation</td>\n",
       "      <td>871xx</td>\n",
       "      <td>NM</td>\n",
       "      <td>NaN</td>\n",
       "      <td>4.0</td>\n",
       "    </tr>\n",
       "    <tr>\n",
       "      <th>2103</th>\n",
       "      <td>8000</td>\n",
       "      <td>8000</td>\n",
       "      <td>8000.0</td>\n",
       "      <td>36 months</td>\n",
       "      <td>7.97</td>\n",
       "      <td>250.59</td>\n",
       "      <td>A</td>\n",
       "      <td>A5</td>\n",
       "      <td>nan</td>\n",
       "      <td>NaN</td>\n",
       "      <td>MORTGAGE</td>\n",
       "      <td>0.0</td>\n",
       "      <td>Not Verified</td>\n",
       "      <td>Dec-2017</td>\n",
       "      <td>Current</td>\n",
       "      <td>n</td>\n",
       "      <td>debt_consolidation</td>\n",
       "      <td>Debt consolidation</td>\n",
       "      <td>762xx</td>\n",
       "      <td>TX</td>\n",
       "      <td>NaN</td>\n",
       "      <td>0.0</td>\n",
       "    </tr>\n",
       "    <tr>\n",
       "      <th>3009</th>\n",
       "      <td>24000</td>\n",
       "      <td>24000</td>\n",
       "      <td>24000.0</td>\n",
       "      <td>60 months</td>\n",
       "      <td>17.09</td>\n",
       "      <td>597.63</td>\n",
       "      <td>D</td>\n",
       "      <td>D1</td>\n",
       "      <td>nan</td>\n",
       "      <td>NaN</td>\n",
       "      <td>MORTGAGE</td>\n",
       "      <td>0.0</td>\n",
       "      <td>Not Verified</td>\n",
       "      <td>Dec-2017</td>\n",
       "      <td>Fully Paid</td>\n",
       "      <td>n</td>\n",
       "      <td>home_improvement</td>\n",
       "      <td>Home improvement</td>\n",
       "      <td>365xx</td>\n",
       "      <td>AL</td>\n",
       "      <td>NaN</td>\n",
       "      <td>0.0</td>\n",
       "    </tr>\n",
       "    <tr>\n",
       "      <th>3042</th>\n",
       "      <td>9950</td>\n",
       "      <td>9950</td>\n",
       "      <td>9925.0</td>\n",
       "      <td>36 months</td>\n",
       "      <td>5.32</td>\n",
       "      <td>299.65</td>\n",
       "      <td>A</td>\n",
       "      <td>A1</td>\n",
       "      <td>nan</td>\n",
       "      <td>NaN</td>\n",
       "      <td>MORTGAGE</td>\n",
       "      <td>0.0</td>\n",
       "      <td>Not Verified</td>\n",
       "      <td>Dec-2017</td>\n",
       "      <td>Current</td>\n",
       "      <td>n</td>\n",
       "      <td>credit_card</td>\n",
       "      <td>Credit card refinancing</td>\n",
       "      <td>936xx</td>\n",
       "      <td>CA</td>\n",
       "      <td>NaN</td>\n",
       "      <td>0.0</td>\n",
       "    </tr>\n",
       "    <tr>\n",
       "      <th>3712</th>\n",
       "      <td>32000</td>\n",
       "      <td>32000</td>\n",
       "      <td>32000.0</td>\n",
       "      <td>36 months</td>\n",
       "      <td>7.35</td>\n",
       "      <td>993.20</td>\n",
       "      <td>A</td>\n",
       "      <td>A4</td>\n",
       "      <td>nan</td>\n",
       "      <td>NaN</td>\n",
       "      <td>RENT</td>\n",
       "      <td>0.0</td>\n",
       "      <td>Not Verified</td>\n",
       "      <td>Dec-2017</td>\n",
       "      <td>Current</td>\n",
       "      <td>n</td>\n",
       "      <td>moving</td>\n",
       "      <td>Moving and relocation</td>\n",
       "      <td>900xx</td>\n",
       "      <td>CA</td>\n",
       "      <td>NaN</td>\n",
       "      <td>0.0</td>\n",
       "    </tr>\n",
       "    <tr>\n",
       "      <th>4222</th>\n",
       "      <td>9000</td>\n",
       "      <td>9000</td>\n",
       "      <td>9000.0</td>\n",
       "      <td>36 months</td>\n",
       "      <td>9.44</td>\n",
       "      <td>288.05</td>\n",
       "      <td>B</td>\n",
       "      <td>B1</td>\n",
       "      <td>nan</td>\n",
       "      <td>NaN</td>\n",
       "      <td>OWN</td>\n",
       "      <td>0.0</td>\n",
       "      <td>Not Verified</td>\n",
       "      <td>Dec-2017</td>\n",
       "      <td>Current</td>\n",
       "      <td>n</td>\n",
       "      <td>debt_consolidation</td>\n",
       "      <td>Debt consolidation</td>\n",
       "      <td>775xx</td>\n",
       "      <td>TX</td>\n",
       "      <td>NaN</td>\n",
       "      <td>2.0</td>\n",
       "    </tr>\n",
       "    <tr>\n",
       "      <th>5843</th>\n",
       "      <td>12000</td>\n",
       "      <td>12000</td>\n",
       "      <td>11750.0</td>\n",
       "      <td>36 months</td>\n",
       "      <td>10.91</td>\n",
       "      <td>392.36</td>\n",
       "      <td>B</td>\n",
       "      <td>B4</td>\n",
       "      <td>nan</td>\n",
       "      <td>NaN</td>\n",
       "      <td>RENT</td>\n",
       "      <td>0.0</td>\n",
       "      <td>Not Verified</td>\n",
       "      <td>Dec-2017</td>\n",
       "      <td>Late (31-120 days)</td>\n",
       "      <td>n</td>\n",
       "      <td>debt_consolidation</td>\n",
       "      <td>Debt consolidation</td>\n",
       "      <td>809xx</td>\n",
       "      <td>CO</td>\n",
       "      <td>NaN</td>\n",
       "      <td>0.0</td>\n",
       "    </tr>\n",
       "    <tr>\n",
       "      <th>5885</th>\n",
       "      <td>20000</td>\n",
       "      <td>20000</td>\n",
       "      <td>19750.0</td>\n",
       "      <td>36 months</td>\n",
       "      <td>10.91</td>\n",
       "      <td>653.93</td>\n",
       "      <td>B</td>\n",
       "      <td>B4</td>\n",
       "      <td>nan</td>\n",
       "      <td>NaN</td>\n",
       "      <td>MORTGAGE</td>\n",
       "      <td>0.0</td>\n",
       "      <td>Not Verified</td>\n",
       "      <td>Dec-2017</td>\n",
       "      <td>Current</td>\n",
       "      <td>n</td>\n",
       "      <td>debt_consolidation</td>\n",
       "      <td>Debt consolidation</td>\n",
       "      <td>720xx</td>\n",
       "      <td>AR</td>\n",
       "      <td>NaN</td>\n",
       "      <td>0.0</td>\n",
       "    </tr>\n",
       "    <tr>\n",
       "      <th>5937</th>\n",
       "      <td>3500</td>\n",
       "      <td>3500</td>\n",
       "      <td>3500.0</td>\n",
       "      <td>36 months</td>\n",
       "      <td>21.45</td>\n",
       "      <td>132.68</td>\n",
       "      <td>D</td>\n",
       "      <td>D5</td>\n",
       "      <td>nan</td>\n",
       "      <td>NaN</td>\n",
       "      <td>OWN</td>\n",
       "      <td>0.0</td>\n",
       "      <td>Not Verified</td>\n",
       "      <td>Dec-2017</td>\n",
       "      <td>Current</td>\n",
       "      <td>n</td>\n",
       "      <td>other</td>\n",
       "      <td>Other</td>\n",
       "      <td>707xx</td>\n",
       "      <td>LA</td>\n",
       "      <td>NaN</td>\n",
       "      <td>1.0</td>\n",
       "    </tr>\n",
       "    <tr>\n",
       "      <th>6028</th>\n",
       "      <td>16000</td>\n",
       "      <td>16000</td>\n",
       "      <td>15750.0</td>\n",
       "      <td>36 months</td>\n",
       "      <td>9.44</td>\n",
       "      <td>512.08</td>\n",
       "      <td>B</td>\n",
       "      <td>B1</td>\n",
       "      <td>nan</td>\n",
       "      <td>NaN</td>\n",
       "      <td>RENT</td>\n",
       "      <td>0.0</td>\n",
       "      <td>Not Verified</td>\n",
       "      <td>Dec-2017</td>\n",
       "      <td>Fully Paid</td>\n",
       "      <td>n</td>\n",
       "      <td>credit_card</td>\n",
       "      <td>Credit card refinancing</td>\n",
       "      <td>282xx</td>\n",
       "      <td>NC</td>\n",
       "      <td>NaN</td>\n",
       "      <td>0.0</td>\n",
       "    </tr>\n",
       "    <tr>\n",
       "      <th>6516</th>\n",
       "      <td>13500</td>\n",
       "      <td>13500</td>\n",
       "      <td>13500.0</td>\n",
       "      <td>36 months</td>\n",
       "      <td>7.35</td>\n",
       "      <td>419.01</td>\n",
       "      <td>A</td>\n",
       "      <td>A4</td>\n",
       "      <td>nan</td>\n",
       "      <td>NaN</td>\n",
       "      <td>MORTGAGE</td>\n",
       "      <td>0.0</td>\n",
       "      <td>Source Verified</td>\n",
       "      <td>Dec-2017</td>\n",
       "      <td>Current</td>\n",
       "      <td>n</td>\n",
       "      <td>debt_consolidation</td>\n",
       "      <td>Debt consolidation</td>\n",
       "      <td>890xx</td>\n",
       "      <td>NV</td>\n",
       "      <td>NaN</td>\n",
       "      <td>0.0</td>\n",
       "    </tr>\n",
       "    <tr>\n",
       "      <th>7366</th>\n",
       "      <td>40000</td>\n",
       "      <td>40000</td>\n",
       "      <td>40000.0</td>\n",
       "      <td>36 months</td>\n",
       "      <td>18.06</td>\n",
       "      <td>1447.31</td>\n",
       "      <td>D</td>\n",
       "      <td>D2</td>\n",
       "      <td>nan</td>\n",
       "      <td>NaN</td>\n",
       "      <td>MORTGAGE</td>\n",
       "      <td>0.0</td>\n",
       "      <td>Not Verified</td>\n",
       "      <td>Dec-2017</td>\n",
       "      <td>Current</td>\n",
       "      <td>n</td>\n",
       "      <td>debt_consolidation</td>\n",
       "      <td>Debt consolidation</td>\n",
       "      <td>864xx</td>\n",
       "      <td>AZ</td>\n",
       "      <td>NaN</td>\n",
       "      <td>0.0</td>\n",
       "    </tr>\n",
       "    <tr>\n",
       "      <th>7585</th>\n",
       "      <td>40000</td>\n",
       "      <td>40000</td>\n",
       "      <td>40000.0</td>\n",
       "      <td>36 months</td>\n",
       "      <td>7.35</td>\n",
       "      <td>1241.50</td>\n",
       "      <td>A</td>\n",
       "      <td>A4</td>\n",
       "      <td>nan</td>\n",
       "      <td>NaN</td>\n",
       "      <td>MORTGAGE</td>\n",
       "      <td>0.0</td>\n",
       "      <td>Not Verified</td>\n",
       "      <td>Dec-2017</td>\n",
       "      <td>Current</td>\n",
       "      <td>n</td>\n",
       "      <td>vacation</td>\n",
       "      <td>Vacation</td>\n",
       "      <td>152xx</td>\n",
       "      <td>PA</td>\n",
       "      <td>NaN</td>\n",
       "      <td>0.0</td>\n",
       "    </tr>\n",
       "    <tr>\n",
       "      <th>8022</th>\n",
       "      <td>32675</td>\n",
       "      <td>32675</td>\n",
       "      <td>32675.0</td>\n",
       "      <td>60 months</td>\n",
       "      <td>12.62</td>\n",
       "      <td>737.12</td>\n",
       "      <td>C</td>\n",
       "      <td>C1</td>\n",
       "      <td>nan</td>\n",
       "      <td>NaN</td>\n",
       "      <td>MORTGAGE</td>\n",
       "      <td>0.0</td>\n",
       "      <td>Not Verified</td>\n",
       "      <td>Dec-2017</td>\n",
       "      <td>Fully Paid</td>\n",
       "      <td>n</td>\n",
       "      <td>credit_card</td>\n",
       "      <td>Credit card refinancing</td>\n",
       "      <td>366xx</td>\n",
       "      <td>AL</td>\n",
       "      <td>NaN</td>\n",
       "      <td>0.0</td>\n",
       "    </tr>\n",
       "    <tr>\n",
       "      <th>8670</th>\n",
       "      <td>37975</td>\n",
       "      <td>37975</td>\n",
       "      <td>37975.0</td>\n",
       "      <td>36 months</td>\n",
       "      <td>23.88</td>\n",
       "      <td>1487.48</td>\n",
       "      <td>E</td>\n",
       "      <td>E2</td>\n",
       "      <td>nan</td>\n",
       "      <td>NaN</td>\n",
       "      <td>MORTGAGE</td>\n",
       "      <td>0.0</td>\n",
       "      <td>Not Verified</td>\n",
       "      <td>Dec-2017</td>\n",
       "      <td>Current</td>\n",
       "      <td>n</td>\n",
       "      <td>credit_card</td>\n",
       "      <td>Credit card refinancing</td>\n",
       "      <td>680xx</td>\n",
       "      <td>NE</td>\n",
       "      <td>NaN</td>\n",
       "      <td>0.0</td>\n",
       "    </tr>\n",
       "    <tr>\n",
       "      <th>9509</th>\n",
       "      <td>17600</td>\n",
       "      <td>17600</td>\n",
       "      <td>17600.0</td>\n",
       "      <td>36 months</td>\n",
       "      <td>11.99</td>\n",
       "      <td>584.49</td>\n",
       "      <td>B</td>\n",
       "      <td>B5</td>\n",
       "      <td>nan</td>\n",
       "      <td>NaN</td>\n",
       "      <td>OWN</td>\n",
       "      <td>0.0</td>\n",
       "      <td>Not Verified</td>\n",
       "      <td>Dec-2017</td>\n",
       "      <td>Current</td>\n",
       "      <td>n</td>\n",
       "      <td>debt_consolidation</td>\n",
       "      <td>Debt consolidation</td>\n",
       "      <td>083xx</td>\n",
       "      <td>NJ</td>\n",
       "      <td>NaN</td>\n",
       "      <td>0.0</td>\n",
       "    </tr>\n",
       "    <tr>\n",
       "      <th>10328</th>\n",
       "      <td>2200</td>\n",
       "      <td>2200</td>\n",
       "      <td>2200.0</td>\n",
       "      <td>36 months</td>\n",
       "      <td>10.91</td>\n",
       "      <td>71.94</td>\n",
       "      <td>B</td>\n",
       "      <td>B4</td>\n",
       "      <td>nan</td>\n",
       "      <td>NaN</td>\n",
       "      <td>MORTGAGE</td>\n",
       "      <td>0.0</td>\n",
       "      <td>Not Verified</td>\n",
       "      <td>Dec-2017</td>\n",
       "      <td>Fully Paid</td>\n",
       "      <td>n</td>\n",
       "      <td>medical</td>\n",
       "      <td>Medical expenses</td>\n",
       "      <td>208xx</td>\n",
       "      <td>MD</td>\n",
       "      <td>NaN</td>\n",
       "      <td>0.0</td>\n",
       "    </tr>\n",
       "    <tr>\n",
       "      <th>10340</th>\n",
       "      <td>7000</td>\n",
       "      <td>7000</td>\n",
       "      <td>7000.0</td>\n",
       "      <td>36 months</td>\n",
       "      <td>9.93</td>\n",
       "      <td>225.65</td>\n",
       "      <td>B</td>\n",
       "      <td>B2</td>\n",
       "      <td>nan</td>\n",
       "      <td>NaN</td>\n",
       "      <td>RENT</td>\n",
       "      <td>0.0</td>\n",
       "      <td>Not Verified</td>\n",
       "      <td>Dec-2017</td>\n",
       "      <td>Fully Paid</td>\n",
       "      <td>n</td>\n",
       "      <td>other</td>\n",
       "      <td>Other</td>\n",
       "      <td>975xx</td>\n",
       "      <td>OR</td>\n",
       "      <td>NaN</td>\n",
       "      <td>0.0</td>\n",
       "    </tr>\n",
       "    <tr>\n",
       "      <th>10360</th>\n",
       "      <td>40000</td>\n",
       "      <td>40000</td>\n",
       "      <td>39750.0</td>\n",
       "      <td>36 months</td>\n",
       "      <td>7.97</td>\n",
       "      <td>1252.91</td>\n",
       "      <td>A</td>\n",
       "      <td>A5</td>\n",
       "      <td>nan</td>\n",
       "      <td>NaN</td>\n",
       "      <td>MORTGAGE</td>\n",
       "      <td>0.0</td>\n",
       "      <td>Not Verified</td>\n",
       "      <td>Dec-2017</td>\n",
       "      <td>Current</td>\n",
       "      <td>n</td>\n",
       "      <td>debt_consolidation</td>\n",
       "      <td>Debt consolidation</td>\n",
       "      <td>750xx</td>\n",
       "      <td>TX</td>\n",
       "      <td>NaN</td>\n",
       "      <td>0.0</td>\n",
       "    </tr>\n",
       "    <tr>\n",
       "      <th>10407</th>\n",
       "      <td>13325</td>\n",
       "      <td>13325</td>\n",
       "      <td>13325.0</td>\n",
       "      <td>60 months</td>\n",
       "      <td>15.05</td>\n",
       "      <td>317.36</td>\n",
       "      <td>C</td>\n",
       "      <td>C4</td>\n",
       "      <td>nan</td>\n",
       "      <td>NaN</td>\n",
       "      <td>RENT</td>\n",
       "      <td>0.0</td>\n",
       "      <td>Not Verified</td>\n",
       "      <td>Dec-2017</td>\n",
       "      <td>Current</td>\n",
       "      <td>n</td>\n",
       "      <td>debt_consolidation</td>\n",
       "      <td>Debt consolidation</td>\n",
       "      <td>766xx</td>\n",
       "      <td>TX</td>\n",
       "      <td>NaN</td>\n",
       "      <td>1.0</td>\n",
       "    </tr>\n",
       "    <tr>\n",
       "      <th>12745</th>\n",
       "      <td>3000</td>\n",
       "      <td>3000</td>\n",
       "      <td>3000.0</td>\n",
       "      <td>36 months</td>\n",
       "      <td>11.99</td>\n",
       "      <td>99.63</td>\n",
       "      <td>B</td>\n",
       "      <td>B5</td>\n",
       "      <td>nan</td>\n",
       "      <td>NaN</td>\n",
       "      <td>MORTGAGE</td>\n",
       "      <td>0.0</td>\n",
       "      <td>Not Verified</td>\n",
       "      <td>Dec-2017</td>\n",
       "      <td>Current</td>\n",
       "      <td>n</td>\n",
       "      <td>moving</td>\n",
       "      <td>Moving and relocation</td>\n",
       "      <td>547xx</td>\n",
       "      <td>WI</td>\n",
       "      <td>NaN</td>\n",
       "      <td>1.0</td>\n",
       "    </tr>\n",
       "    <tr>\n",
       "      <th>13009</th>\n",
       "      <td>21000</td>\n",
       "      <td>21000</td>\n",
       "      <td>21000.0</td>\n",
       "      <td>60 months</td>\n",
       "      <td>17.09</td>\n",
       "      <td>522.93</td>\n",
       "      <td>D</td>\n",
       "      <td>D1</td>\n",
       "      <td>nan</td>\n",
       "      <td>NaN</td>\n",
       "      <td>MORTGAGE</td>\n",
       "      <td>0.0</td>\n",
       "      <td>Not Verified</td>\n",
       "      <td>Dec-2017</td>\n",
       "      <td>Current</td>\n",
       "      <td>n</td>\n",
       "      <td>debt_consolidation</td>\n",
       "      <td>Debt consolidation</td>\n",
       "      <td>301xx</td>\n",
       "      <td>GA</td>\n",
       "      <td>NaN</td>\n",
       "      <td>0.0</td>\n",
       "    </tr>\n",
       "    <tr>\n",
       "      <th>13488</th>\n",
       "      <td>40000</td>\n",
       "      <td>40000</td>\n",
       "      <td>40000.0</td>\n",
       "      <td>36 months</td>\n",
       "      <td>6.08</td>\n",
       "      <td>1218.33</td>\n",
       "      <td>A</td>\n",
       "      <td>A2</td>\n",
       "      <td>nan</td>\n",
       "      <td>NaN</td>\n",
       "      <td>MORTGAGE</td>\n",
       "      <td>0.0</td>\n",
       "      <td>Not Verified</td>\n",
       "      <td>Dec-2017</td>\n",
       "      <td>Charged Off</td>\n",
       "      <td>n</td>\n",
       "      <td>debt_consolidation</td>\n",
       "      <td>Debt consolidation</td>\n",
       "      <td>770xx</td>\n",
       "      <td>TX</td>\n",
       "      <td>NaN</td>\n",
       "      <td>0.0</td>\n",
       "    </tr>\n",
       "    <tr>\n",
       "      <th>13951</th>\n",
       "      <td>11850</td>\n",
       "      <td>11850</td>\n",
       "      <td>11850.0</td>\n",
       "      <td>36 months</td>\n",
       "      <td>26.30</td>\n",
       "      <td>479.34</td>\n",
       "      <td>E</td>\n",
       "      <td>E5</td>\n",
       "      <td>nan</td>\n",
       "      <td>NaN</td>\n",
       "      <td>MORTGAGE</td>\n",
       "      <td>0.0</td>\n",
       "      <td>Not Verified</td>\n",
       "      <td>Dec-2017</td>\n",
       "      <td>Fully Paid</td>\n",
       "      <td>n</td>\n",
       "      <td>debt_consolidation</td>\n",
       "      <td>Debt consolidation</td>\n",
       "      <td>300xx</td>\n",
       "      <td>GA</td>\n",
       "      <td>NaN</td>\n",
       "      <td>0.0</td>\n",
       "    </tr>\n",
       "    <tr>\n",
       "      <th>14256</th>\n",
       "      <td>25000</td>\n",
       "      <td>25000</td>\n",
       "      <td>25000.0</td>\n",
       "      <td>60 months</td>\n",
       "      <td>13.59</td>\n",
       "      <td>576.41</td>\n",
       "      <td>C</td>\n",
       "      <td>C2</td>\n",
       "      <td>ceo</td>\n",
       "      <td>10+ years</td>\n",
       "      <td>MORTGAGE</td>\n",
       "      <td>0.0</td>\n",
       "      <td>Not Verified</td>\n",
       "      <td>Dec-2017</td>\n",
       "      <td>Fully Paid</td>\n",
       "      <td>n</td>\n",
       "      <td>home_improvement</td>\n",
       "      <td>Home improvement</td>\n",
       "      <td>773xx</td>\n",
       "      <td>TX</td>\n",
       "      <td>NaN</td>\n",
       "      <td>0.0</td>\n",
       "    </tr>\n",
       "    <tr>\n",
       "      <th>14475</th>\n",
       "      <td>20000</td>\n",
       "      <td>20000</td>\n",
       "      <td>20000.0</td>\n",
       "      <td>60 months</td>\n",
       "      <td>16.02</td>\n",
       "      <td>486.58</td>\n",
       "      <td>C</td>\n",
       "      <td>C5</td>\n",
       "      <td>nan</td>\n",
       "      <td>NaN</td>\n",
       "      <td>RENT</td>\n",
       "      <td>0.0</td>\n",
       "      <td>Not Verified</td>\n",
       "      <td>Dec-2017</td>\n",
       "      <td>Late (31-120 days)</td>\n",
       "      <td>n</td>\n",
       "      <td>debt_consolidation</td>\n",
       "      <td>Debt consolidation</td>\n",
       "      <td>680xx</td>\n",
       "      <td>NE</td>\n",
       "      <td>NaN</td>\n",
       "      <td>0.0</td>\n",
       "    </tr>\n",
       "    <tr>\n",
       "      <th>...</th>\n",
       "      <td>...</td>\n",
       "      <td>...</td>\n",
       "      <td>...</td>\n",
       "      <td>...</td>\n",
       "      <td>...</td>\n",
       "      <td>...</td>\n",
       "      <td>...</td>\n",
       "      <td>...</td>\n",
       "      <td>...</td>\n",
       "      <td>...</td>\n",
       "      <td>...</td>\n",
       "      <td>...</td>\n",
       "      <td>...</td>\n",
       "      <td>...</td>\n",
       "      <td>...</td>\n",
       "      <td>...</td>\n",
       "      <td>...</td>\n",
       "      <td>...</td>\n",
       "      <td>...</td>\n",
       "      <td>...</td>\n",
       "      <td>...</td>\n",
       "      <td>...</td>\n",
       "    </tr>\n",
       "    <tr>\n",
       "      <th>36564</th>\n",
       "      <td>25000</td>\n",
       "      <td>25000</td>\n",
       "      <td>25000.0</td>\n",
       "      <td>36 months</td>\n",
       "      <td>6.72</td>\n",
       "      <td>768.74</td>\n",
       "      <td>A</td>\n",
       "      <td>A3</td>\n",
       "      <td>background painter</td>\n",
       "      <td>&lt; 1 year</td>\n",
       "      <td>MORTGAGE</td>\n",
       "      <td>0.0</td>\n",
       "      <td>Not Verified</td>\n",
       "      <td>Nov-2017</td>\n",
       "      <td>Current</td>\n",
       "      <td>n</td>\n",
       "      <td>debt_consolidation</td>\n",
       "      <td>Debt consolidation</td>\n",
       "      <td>900xx</td>\n",
       "      <td>CA</td>\n",
       "      <td>NaN</td>\n",
       "      <td>0.0</td>\n",
       "    </tr>\n",
       "    <tr>\n",
       "      <th>37130</th>\n",
       "      <td>4000</td>\n",
       "      <td>4000</td>\n",
       "      <td>4000.0</td>\n",
       "      <td>36 months</td>\n",
       "      <td>6.72</td>\n",
       "      <td>123.00</td>\n",
       "      <td>A</td>\n",
       "      <td>A3</td>\n",
       "      <td>nan</td>\n",
       "      <td>NaN</td>\n",
       "      <td>MORTGAGE</td>\n",
       "      <td>0.0</td>\n",
       "      <td>Not Verified</td>\n",
       "      <td>Nov-2017</td>\n",
       "      <td>Current</td>\n",
       "      <td>n</td>\n",
       "      <td>credit_card</td>\n",
       "      <td>Credit card refinancing</td>\n",
       "      <td>371xx</td>\n",
       "      <td>TN</td>\n",
       "      <td>NaN</td>\n",
       "      <td>0.0</td>\n",
       "    </tr>\n",
       "    <tr>\n",
       "      <th>37234</th>\n",
       "      <td>3600</td>\n",
       "      <td>3600</td>\n",
       "      <td>3600.0</td>\n",
       "      <td>36 months</td>\n",
       "      <td>9.44</td>\n",
       "      <td>115.22</td>\n",
       "      <td>B</td>\n",
       "      <td>B1</td>\n",
       "      <td>nan</td>\n",
       "      <td>NaN</td>\n",
       "      <td>MORTGAGE</td>\n",
       "      <td>0.0</td>\n",
       "      <td>Not Verified</td>\n",
       "      <td>Nov-2017</td>\n",
       "      <td>Current</td>\n",
       "      <td>n</td>\n",
       "      <td>other</td>\n",
       "      <td>Other</td>\n",
       "      <td>365xx</td>\n",
       "      <td>AL</td>\n",
       "      <td>NaN</td>\n",
       "      <td>0.0</td>\n",
       "    </tr>\n",
       "    <tr>\n",
       "      <th>38163</th>\n",
       "      <td>3000</td>\n",
       "      <td>3000</td>\n",
       "      <td>3000.0</td>\n",
       "      <td>36 months</td>\n",
       "      <td>21.45</td>\n",
       "      <td>113.72</td>\n",
       "      <td>D</td>\n",
       "      <td>D5</td>\n",
       "      <td>nan</td>\n",
       "      <td>NaN</td>\n",
       "      <td>MORTGAGE</td>\n",
       "      <td>0.0</td>\n",
       "      <td>Not Verified</td>\n",
       "      <td>Nov-2017</td>\n",
       "      <td>Fully Paid</td>\n",
       "      <td>n</td>\n",
       "      <td>debt_consolidation</td>\n",
       "      <td>Debt consolidation</td>\n",
       "      <td>935xx</td>\n",
       "      <td>CA</td>\n",
       "      <td>NaN</td>\n",
       "      <td>2.0</td>\n",
       "    </tr>\n",
       "    <tr>\n",
       "      <th>38598</th>\n",
       "      <td>5000</td>\n",
       "      <td>5000</td>\n",
       "      <td>5000.0</td>\n",
       "      <td>36 months</td>\n",
       "      <td>11.99</td>\n",
       "      <td>166.05</td>\n",
       "      <td>B</td>\n",
       "      <td>B5</td>\n",
       "      <td>nan</td>\n",
       "      <td>NaN</td>\n",
       "      <td>RENT</td>\n",
       "      <td>0.0</td>\n",
       "      <td>Not Verified</td>\n",
       "      <td>Nov-2017</td>\n",
       "      <td>Current</td>\n",
       "      <td>n</td>\n",
       "      <td>debt_consolidation</td>\n",
       "      <td>Debt consolidation</td>\n",
       "      <td>371xx</td>\n",
       "      <td>TN</td>\n",
       "      <td>NaN</td>\n",
       "      <td>0.0</td>\n",
       "    </tr>\n",
       "    <tr>\n",
       "      <th>39375</th>\n",
       "      <td>12000</td>\n",
       "      <td>12000</td>\n",
       "      <td>12000.0</td>\n",
       "      <td>60 months</td>\n",
       "      <td>12.62</td>\n",
       "      <td>270.71</td>\n",
       "      <td>C</td>\n",
       "      <td>C1</td>\n",
       "      <td>nan</td>\n",
       "      <td>NaN</td>\n",
       "      <td>OWN</td>\n",
       "      <td>0.0</td>\n",
       "      <td>Not Verified</td>\n",
       "      <td>Nov-2017</td>\n",
       "      <td>Charged Off</td>\n",
       "      <td>n</td>\n",
       "      <td>debt_consolidation</td>\n",
       "      <td>Debt consolidation</td>\n",
       "      <td>907xx</td>\n",
       "      <td>CA</td>\n",
       "      <td>NaN</td>\n",
       "      <td>0.0</td>\n",
       "    </tr>\n",
       "    <tr>\n",
       "      <th>39533</th>\n",
       "      <td>35000</td>\n",
       "      <td>35000</td>\n",
       "      <td>35000.0</td>\n",
       "      <td>60 months</td>\n",
       "      <td>21.45</td>\n",
       "      <td>955.75</td>\n",
       "      <td>D</td>\n",
       "      <td>D5</td>\n",
       "      <td>front desk representative</td>\n",
       "      <td>&lt; 1 year</td>\n",
       "      <td>MORTGAGE</td>\n",
       "      <td>0.0</td>\n",
       "      <td>Not Verified</td>\n",
       "      <td>Nov-2017</td>\n",
       "      <td>Fully Paid</td>\n",
       "      <td>n</td>\n",
       "      <td>debt_consolidation</td>\n",
       "      <td>Debt consolidation</td>\n",
       "      <td>891xx</td>\n",
       "      <td>NV</td>\n",
       "      <td>NaN</td>\n",
       "      <td>0.0</td>\n",
       "    </tr>\n",
       "    <tr>\n",
       "      <th>40334</th>\n",
       "      <td>10000</td>\n",
       "      <td>10000</td>\n",
       "      <td>10000.0</td>\n",
       "      <td>36 months</td>\n",
       "      <td>15.05</td>\n",
       "      <td>346.90</td>\n",
       "      <td>C</td>\n",
       "      <td>C4</td>\n",
       "      <td>nan</td>\n",
       "      <td>NaN</td>\n",
       "      <td>RENT</td>\n",
       "      <td>0.0</td>\n",
       "      <td>Not Verified</td>\n",
       "      <td>Nov-2017</td>\n",
       "      <td>Current</td>\n",
       "      <td>n</td>\n",
       "      <td>other</td>\n",
       "      <td>Other</td>\n",
       "      <td>457xx</td>\n",
       "      <td>OH</td>\n",
       "      <td>NaN</td>\n",
       "      <td>0.0</td>\n",
       "    </tr>\n",
       "    <tr>\n",
       "      <th>40763</th>\n",
       "      <td>17000</td>\n",
       "      <td>17000</td>\n",
       "      <td>17000.0</td>\n",
       "      <td>60 months</td>\n",
       "      <td>18.06</td>\n",
       "      <td>432.25</td>\n",
       "      <td>D</td>\n",
       "      <td>D2</td>\n",
       "      <td>nan</td>\n",
       "      <td>NaN</td>\n",
       "      <td>MORTGAGE</td>\n",
       "      <td>0.0</td>\n",
       "      <td>Not Verified</td>\n",
       "      <td>Nov-2017</td>\n",
       "      <td>Current</td>\n",
       "      <td>n</td>\n",
       "      <td>debt_consolidation</td>\n",
       "      <td>Debt consolidation</td>\n",
       "      <td>705xx</td>\n",
       "      <td>LA</td>\n",
       "      <td>NaN</td>\n",
       "      <td>0.0</td>\n",
       "    </tr>\n",
       "    <tr>\n",
       "      <th>41352</th>\n",
       "      <td>24000</td>\n",
       "      <td>24000</td>\n",
       "      <td>24000.0</td>\n",
       "      <td>60 months</td>\n",
       "      <td>15.05</td>\n",
       "      <td>571.59</td>\n",
       "      <td>C</td>\n",
       "      <td>C4</td>\n",
       "      <td>nan</td>\n",
       "      <td>NaN</td>\n",
       "      <td>RENT</td>\n",
       "      <td>0.0</td>\n",
       "      <td>Verified</td>\n",
       "      <td>Nov-2017</td>\n",
       "      <td>Current</td>\n",
       "      <td>n</td>\n",
       "      <td>debt_consolidation</td>\n",
       "      <td>Debt consolidation</td>\n",
       "      <td>906xx</td>\n",
       "      <td>CA</td>\n",
       "      <td>NaN</td>\n",
       "      <td>1.0</td>\n",
       "    </tr>\n",
       "    <tr>\n",
       "      <th>41831</th>\n",
       "      <td>8000</td>\n",
       "      <td>8000</td>\n",
       "      <td>8000.0</td>\n",
       "      <td>36 months</td>\n",
       "      <td>13.59</td>\n",
       "      <td>271.84</td>\n",
       "      <td>C</td>\n",
       "      <td>C2</td>\n",
       "      <td>nan</td>\n",
       "      <td>NaN</td>\n",
       "      <td>RENT</td>\n",
       "      <td>0.0</td>\n",
       "      <td>Not Verified</td>\n",
       "      <td>Nov-2017</td>\n",
       "      <td>Fully Paid</td>\n",
       "      <td>n</td>\n",
       "      <td>debt_consolidation</td>\n",
       "      <td>Debt consolidation</td>\n",
       "      <td>752xx</td>\n",
       "      <td>TX</td>\n",
       "      <td>NaN</td>\n",
       "      <td>0.0</td>\n",
       "    </tr>\n",
       "    <tr>\n",
       "      <th>41997</th>\n",
       "      <td>15500</td>\n",
       "      <td>15500</td>\n",
       "      <td>15500.0</td>\n",
       "      <td>60 months</td>\n",
       "      <td>25.82</td>\n",
       "      <td>462.43</td>\n",
       "      <td>E</td>\n",
       "      <td>E4</td>\n",
       "      <td>nan</td>\n",
       "      <td>NaN</td>\n",
       "      <td>MORTGAGE</td>\n",
       "      <td>0.0</td>\n",
       "      <td>Not Verified</td>\n",
       "      <td>Nov-2017</td>\n",
       "      <td>Fully Paid</td>\n",
       "      <td>n</td>\n",
       "      <td>debt_consolidation</td>\n",
       "      <td>Debt consolidation</td>\n",
       "      <td>727xx</td>\n",
       "      <td>AR</td>\n",
       "      <td>NaN</td>\n",
       "      <td>0.0</td>\n",
       "    </tr>\n",
       "    <tr>\n",
       "      <th>42496</th>\n",
       "      <td>10000</td>\n",
       "      <td>10000</td>\n",
       "      <td>10000.0</td>\n",
       "      <td>36 months</td>\n",
       "      <td>9.44</td>\n",
       "      <td>320.05</td>\n",
       "      <td>B</td>\n",
       "      <td>B1</td>\n",
       "      <td>nan</td>\n",
       "      <td>NaN</td>\n",
       "      <td>OWN</td>\n",
       "      <td>0.0</td>\n",
       "      <td>Not Verified</td>\n",
       "      <td>Nov-2017</td>\n",
       "      <td>Current</td>\n",
       "      <td>n</td>\n",
       "      <td>debt_consolidation</td>\n",
       "      <td>Debt consolidation</td>\n",
       "      <td>334xx</td>\n",
       "      <td>FL</td>\n",
       "      <td>NaN</td>\n",
       "      <td>0.0</td>\n",
       "    </tr>\n",
       "    <tr>\n",
       "      <th>43286</th>\n",
       "      <td>20000</td>\n",
       "      <td>20000</td>\n",
       "      <td>20000.0</td>\n",
       "      <td>36 months</td>\n",
       "      <td>10.42</td>\n",
       "      <td>649.30</td>\n",
       "      <td>B</td>\n",
       "      <td>B3</td>\n",
       "      <td>nan</td>\n",
       "      <td>NaN</td>\n",
       "      <td>MORTGAGE</td>\n",
       "      <td>0.0</td>\n",
       "      <td>Not Verified</td>\n",
       "      <td>Nov-2017</td>\n",
       "      <td>Current</td>\n",
       "      <td>n</td>\n",
       "      <td>debt_consolidation</td>\n",
       "      <td>Debt consolidation</td>\n",
       "      <td>604xx</td>\n",
       "      <td>IL</td>\n",
       "      <td>NaN</td>\n",
       "      <td>1.0</td>\n",
       "    </tr>\n",
       "    <tr>\n",
       "      <th>45059</th>\n",
       "      <td>10000</td>\n",
       "      <td>10000</td>\n",
       "      <td>9975.0</td>\n",
       "      <td>36 months</td>\n",
       "      <td>6.08</td>\n",
       "      <td>304.59</td>\n",
       "      <td>A</td>\n",
       "      <td>A2</td>\n",
       "      <td>nan</td>\n",
       "      <td>NaN</td>\n",
       "      <td>RENT</td>\n",
       "      <td>1.0</td>\n",
       "      <td>Not Verified</td>\n",
       "      <td>Nov-2017</td>\n",
       "      <td>Current</td>\n",
       "      <td>n</td>\n",
       "      <td>major_purchase</td>\n",
       "      <td>Major purchase</td>\n",
       "      <td>028xx</td>\n",
       "      <td>RI</td>\n",
       "      <td>NaN</td>\n",
       "      <td>0.0</td>\n",
       "    </tr>\n",
       "    <tr>\n",
       "      <th>45312</th>\n",
       "      <td>6000</td>\n",
       "      <td>6000</td>\n",
       "      <td>6000.0</td>\n",
       "      <td>36 months</td>\n",
       "      <td>14.08</td>\n",
       "      <td>205.30</td>\n",
       "      <td>C</td>\n",
       "      <td>C3</td>\n",
       "      <td>nan</td>\n",
       "      <td>NaN</td>\n",
       "      <td>MORTGAGE</td>\n",
       "      <td>0.0</td>\n",
       "      <td>Not Verified</td>\n",
       "      <td>Nov-2017</td>\n",
       "      <td>Current</td>\n",
       "      <td>n</td>\n",
       "      <td>major_purchase</td>\n",
       "      <td>Major purchase</td>\n",
       "      <td>173xx</td>\n",
       "      <td>PA</td>\n",
       "      <td>NaN</td>\n",
       "      <td>0.0</td>\n",
       "    </tr>\n",
       "    <tr>\n",
       "      <th>45373</th>\n",
       "      <td>18550</td>\n",
       "      <td>18550</td>\n",
       "      <td>18550.0</td>\n",
       "      <td>60 months</td>\n",
       "      <td>24.85</td>\n",
       "      <td>542.84</td>\n",
       "      <td>E</td>\n",
       "      <td>E3</td>\n",
       "      <td>nan</td>\n",
       "      <td>NaN</td>\n",
       "      <td>RENT</td>\n",
       "      <td>0.0</td>\n",
       "      <td>Not Verified</td>\n",
       "      <td>Nov-2017</td>\n",
       "      <td>Current</td>\n",
       "      <td>n</td>\n",
       "      <td>debt_consolidation</td>\n",
       "      <td>Debt consolidation</td>\n",
       "      <td>750xx</td>\n",
       "      <td>TX</td>\n",
       "      <td>NaN</td>\n",
       "      <td>0.0</td>\n",
       "    </tr>\n",
       "    <tr>\n",
       "      <th>45379</th>\n",
       "      <td>24000</td>\n",
       "      <td>24000</td>\n",
       "      <td>24000.0</td>\n",
       "      <td>60 months</td>\n",
       "      <td>11.99</td>\n",
       "      <td>533.75</td>\n",
       "      <td>B</td>\n",
       "      <td>B5</td>\n",
       "      <td>nan</td>\n",
       "      <td>NaN</td>\n",
       "      <td>MORTGAGE</td>\n",
       "      <td>0.0</td>\n",
       "      <td>Not Verified</td>\n",
       "      <td>Nov-2017</td>\n",
       "      <td>Current</td>\n",
       "      <td>n</td>\n",
       "      <td>debt_consolidation</td>\n",
       "      <td>Debt consolidation</td>\n",
       "      <td>604xx</td>\n",
       "      <td>IL</td>\n",
       "      <td>NaN</td>\n",
       "      <td>0.0</td>\n",
       "    </tr>\n",
       "    <tr>\n",
       "      <th>45531</th>\n",
       "      <td>5000</td>\n",
       "      <td>5000</td>\n",
       "      <td>5000.0</td>\n",
       "      <td>36 months</td>\n",
       "      <td>7.97</td>\n",
       "      <td>156.62</td>\n",
       "      <td>A</td>\n",
       "      <td>A5</td>\n",
       "      <td>nan</td>\n",
       "      <td>NaN</td>\n",
       "      <td>MORTGAGE</td>\n",
       "      <td>0.0</td>\n",
       "      <td>Not Verified</td>\n",
       "      <td>Nov-2017</td>\n",
       "      <td>Current</td>\n",
       "      <td>n</td>\n",
       "      <td>debt_consolidation</td>\n",
       "      <td>Debt consolidation</td>\n",
       "      <td>840xx</td>\n",
       "      <td>UT</td>\n",
       "      <td>NaN</td>\n",
       "      <td>0.0</td>\n",
       "    </tr>\n",
       "    <tr>\n",
       "      <th>46809</th>\n",
       "      <td>10000</td>\n",
       "      <td>10000</td>\n",
       "      <td>10000.0</td>\n",
       "      <td>60 months</td>\n",
       "      <td>18.06</td>\n",
       "      <td>254.27</td>\n",
       "      <td>D</td>\n",
       "      <td>D2</td>\n",
       "      <td>nan</td>\n",
       "      <td>NaN</td>\n",
       "      <td>RENT</td>\n",
       "      <td>0.0</td>\n",
       "      <td>Not Verified</td>\n",
       "      <td>Nov-2017</td>\n",
       "      <td>Current</td>\n",
       "      <td>n</td>\n",
       "      <td>debt_consolidation</td>\n",
       "      <td>Debt consolidation</td>\n",
       "      <td>606xx</td>\n",
       "      <td>IL</td>\n",
       "      <td>NaN</td>\n",
       "      <td>0.0</td>\n",
       "    </tr>\n",
       "    <tr>\n",
       "      <th>47248</th>\n",
       "      <td>24425</td>\n",
       "      <td>24425</td>\n",
       "      <td>24425.0</td>\n",
       "      <td>60 months</td>\n",
       "      <td>25.82</td>\n",
       "      <td>728.70</td>\n",
       "      <td>E</td>\n",
       "      <td>E4</td>\n",
       "      <td>nan</td>\n",
       "      <td>NaN</td>\n",
       "      <td>MORTGAGE</td>\n",
       "      <td>0.0</td>\n",
       "      <td>Not Verified</td>\n",
       "      <td>Nov-2017</td>\n",
       "      <td>Current</td>\n",
       "      <td>n</td>\n",
       "      <td>debt_consolidation</td>\n",
       "      <td>Debt consolidation</td>\n",
       "      <td>070xx</td>\n",
       "      <td>NY</td>\n",
       "      <td>NaN</td>\n",
       "      <td>0.0</td>\n",
       "    </tr>\n",
       "    <tr>\n",
       "      <th>47369</th>\n",
       "      <td>8000</td>\n",
       "      <td>8000</td>\n",
       "      <td>7975.0</td>\n",
       "      <td>36 months</td>\n",
       "      <td>12.62</td>\n",
       "      <td>268.09</td>\n",
       "      <td>C</td>\n",
       "      <td>C1</td>\n",
       "      <td>nan</td>\n",
       "      <td>NaN</td>\n",
       "      <td>OWN</td>\n",
       "      <td>0.0</td>\n",
       "      <td>Not Verified</td>\n",
       "      <td>Nov-2017</td>\n",
       "      <td>Current</td>\n",
       "      <td>n</td>\n",
       "      <td>home_improvement</td>\n",
       "      <td>Home improvement</td>\n",
       "      <td>182xx</td>\n",
       "      <td>PA</td>\n",
       "      <td>NaN</td>\n",
       "      <td>0.0</td>\n",
       "    </tr>\n",
       "    <tr>\n",
       "      <th>47735</th>\n",
       "      <td>14400</td>\n",
       "      <td>14400</td>\n",
       "      <td>14400.0</td>\n",
       "      <td>36 months</td>\n",
       "      <td>21.45</td>\n",
       "      <td>545.86</td>\n",
       "      <td>D</td>\n",
       "      <td>D5</td>\n",
       "      <td>nan</td>\n",
       "      <td>NaN</td>\n",
       "      <td>MORTGAGE</td>\n",
       "      <td>0.0</td>\n",
       "      <td>Not Verified</td>\n",
       "      <td>Nov-2017</td>\n",
       "      <td>Fully Paid</td>\n",
       "      <td>n</td>\n",
       "      <td>credit_card</td>\n",
       "      <td>Credit card refinancing</td>\n",
       "      <td>172xx</td>\n",
       "      <td>PA</td>\n",
       "      <td>NaN</td>\n",
       "      <td>0.0</td>\n",
       "    </tr>\n",
       "    <tr>\n",
       "      <th>48674</th>\n",
       "      <td>18000</td>\n",
       "      <td>18000</td>\n",
       "      <td>18000.0</td>\n",
       "      <td>60 months</td>\n",
       "      <td>17.09</td>\n",
       "      <td>448.22</td>\n",
       "      <td>D</td>\n",
       "      <td>D1</td>\n",
       "      <td>nan</td>\n",
       "      <td>NaN</td>\n",
       "      <td>RENT</td>\n",
       "      <td>0.0</td>\n",
       "      <td>Not Verified</td>\n",
       "      <td>Nov-2017</td>\n",
       "      <td>Current</td>\n",
       "      <td>n</td>\n",
       "      <td>debt_consolidation</td>\n",
       "      <td>Debt consolidation</td>\n",
       "      <td>078xx</td>\n",
       "      <td>NJ</td>\n",
       "      <td>NaN</td>\n",
       "      <td>0.0</td>\n",
       "    </tr>\n",
       "    <tr>\n",
       "      <th>48807</th>\n",
       "      <td>18250</td>\n",
       "      <td>18250</td>\n",
       "      <td>18250.0</td>\n",
       "      <td>60 months</td>\n",
       "      <td>20.00</td>\n",
       "      <td>483.52</td>\n",
       "      <td>D</td>\n",
       "      <td>D4</td>\n",
       "      <td>nan</td>\n",
       "      <td>NaN</td>\n",
       "      <td>OWN</td>\n",
       "      <td>0.0</td>\n",
       "      <td>Not Verified</td>\n",
       "      <td>Nov-2017</td>\n",
       "      <td>Current</td>\n",
       "      <td>n</td>\n",
       "      <td>debt_consolidation</td>\n",
       "      <td>Debt consolidation</td>\n",
       "      <td>687xx</td>\n",
       "      <td>NE</td>\n",
       "      <td>NaN</td>\n",
       "      <td>0.0</td>\n",
       "    </tr>\n",
       "    <tr>\n",
       "      <th>49040</th>\n",
       "      <td>6000</td>\n",
       "      <td>6000</td>\n",
       "      <td>6000.0</td>\n",
       "      <td>36 months</td>\n",
       "      <td>7.35</td>\n",
       "      <td>186.23</td>\n",
       "      <td>A</td>\n",
       "      <td>A4</td>\n",
       "      <td>nan</td>\n",
       "      <td>NaN</td>\n",
       "      <td>MORTGAGE</td>\n",
       "      <td>0.0</td>\n",
       "      <td>Verified</td>\n",
       "      <td>Nov-2017</td>\n",
       "      <td>Current</td>\n",
       "      <td>n</td>\n",
       "      <td>other</td>\n",
       "      <td>Other</td>\n",
       "      <td>933xx</td>\n",
       "      <td>CA</td>\n",
       "      <td>NaN</td>\n",
       "      <td>1.0</td>\n",
       "    </tr>\n",
       "    <tr>\n",
       "      <th>49409</th>\n",
       "      <td>20000</td>\n",
       "      <td>20000</td>\n",
       "      <td>20000.0</td>\n",
       "      <td>36 months</td>\n",
       "      <td>13.59</td>\n",
       "      <td>679.58</td>\n",
       "      <td>C</td>\n",
       "      <td>C2</td>\n",
       "      <td>nan</td>\n",
       "      <td>NaN</td>\n",
       "      <td>MORTGAGE</td>\n",
       "      <td>0.0</td>\n",
       "      <td>Not Verified</td>\n",
       "      <td>Nov-2017</td>\n",
       "      <td>Current</td>\n",
       "      <td>n</td>\n",
       "      <td>credit_card</td>\n",
       "      <td>Credit card refinancing</td>\n",
       "      <td>347xx</td>\n",
       "      <td>FL</td>\n",
       "      <td>NaN</td>\n",
       "      <td>0.0</td>\n",
       "    </tr>\n",
       "    <tr>\n",
       "      <th>49503</th>\n",
       "      <td>8825</td>\n",
       "      <td>8825</td>\n",
       "      <td>8825.0</td>\n",
       "      <td>36 months</td>\n",
       "      <td>10.91</td>\n",
       "      <td>288.55</td>\n",
       "      <td>B</td>\n",
       "      <td>B4</td>\n",
       "      <td>nan</td>\n",
       "      <td>NaN</td>\n",
       "      <td>MORTGAGE</td>\n",
       "      <td>0.0</td>\n",
       "      <td>Not Verified</td>\n",
       "      <td>Nov-2017</td>\n",
       "      <td>Current</td>\n",
       "      <td>n</td>\n",
       "      <td>credit_card</td>\n",
       "      <td>Credit card refinancing</td>\n",
       "      <td>956xx</td>\n",
       "      <td>CA</td>\n",
       "      <td>NaN</td>\n",
       "      <td>1.0</td>\n",
       "    </tr>\n",
       "    <tr>\n",
       "      <th>49605</th>\n",
       "      <td>30000</td>\n",
       "      <td>30000</td>\n",
       "      <td>30000.0</td>\n",
       "      <td>36 months</td>\n",
       "      <td>19.03</td>\n",
       "      <td>1100.14</td>\n",
       "      <td>D</td>\n",
       "      <td>D3</td>\n",
       "      <td>nan</td>\n",
       "      <td>NaN</td>\n",
       "      <td>RENT</td>\n",
       "      <td>0.0</td>\n",
       "      <td>Not Verified</td>\n",
       "      <td>Nov-2017</td>\n",
       "      <td>Current</td>\n",
       "      <td>n</td>\n",
       "      <td>debt_consolidation</td>\n",
       "      <td>Debt consolidation</td>\n",
       "      <td>070xx</td>\n",
       "      <td>NJ</td>\n",
       "      <td>NaN</td>\n",
       "      <td>0.0</td>\n",
       "    </tr>\n",
       "    <tr>\n",
       "      <th>49791</th>\n",
       "      <td>12000</td>\n",
       "      <td>12000</td>\n",
       "      <td>12000.0</td>\n",
       "      <td>36 months</td>\n",
       "      <td>16.02</td>\n",
       "      <td>422.01</td>\n",
       "      <td>C</td>\n",
       "      <td>C5</td>\n",
       "      <td>nan</td>\n",
       "      <td>NaN</td>\n",
       "      <td>MORTGAGE</td>\n",
       "      <td>0.0</td>\n",
       "      <td>Not Verified</td>\n",
       "      <td>Nov-2017</td>\n",
       "      <td>Current</td>\n",
       "      <td>n</td>\n",
       "      <td>other</td>\n",
       "      <td>Other</td>\n",
       "      <td>431xx</td>\n",
       "      <td>OH</td>\n",
       "      <td>NaN</td>\n",
       "      <td>0.0</td>\n",
       "    </tr>\n",
       "  </tbody>\n",
       "</table>\n",
       "<p>102 rows × 22 columns</p>\n",
       "</div>"
      ],
      "text/plain": [
       "       loan_amnt  funded_amnt  funded_amnt_inv        term  int_rate  \\\n",
       "1020       30000        30000          30000.0   60 months     17.09   \n",
       "1076       25200        25200          25200.0   60 months     12.62   \n",
       "1193       22000        22000          22000.0   36 months     16.02   \n",
       "1194       19000        19000          19000.0   60 months     16.02   \n",
       "1902       20000        20000          20000.0   36 months     15.05   \n",
       "2103        8000         8000           8000.0   36 months      7.97   \n",
       "3009       24000        24000          24000.0   60 months     17.09   \n",
       "3042        9950         9950           9925.0   36 months      5.32   \n",
       "3712       32000        32000          32000.0   36 months      7.35   \n",
       "4222        9000         9000           9000.0   36 months      9.44   \n",
       "5843       12000        12000          11750.0   36 months     10.91   \n",
       "5885       20000        20000          19750.0   36 months     10.91   \n",
       "5937        3500         3500           3500.0   36 months     21.45   \n",
       "6028       16000        16000          15750.0   36 months      9.44   \n",
       "6516       13500        13500          13500.0   36 months      7.35   \n",
       "7366       40000        40000          40000.0   36 months     18.06   \n",
       "7585       40000        40000          40000.0   36 months      7.35   \n",
       "8022       32675        32675          32675.0   60 months     12.62   \n",
       "8670       37975        37975          37975.0   36 months     23.88   \n",
       "9509       17600        17600          17600.0   36 months     11.99   \n",
       "10328       2200         2200           2200.0   36 months     10.91   \n",
       "10340       7000         7000           7000.0   36 months      9.93   \n",
       "10360      40000        40000          39750.0   36 months      7.97   \n",
       "10407      13325        13325          13325.0   60 months     15.05   \n",
       "12745       3000         3000           3000.0   36 months     11.99   \n",
       "13009      21000        21000          21000.0   60 months     17.09   \n",
       "13488      40000        40000          40000.0   36 months      6.08   \n",
       "13951      11850        11850          11850.0   36 months     26.30   \n",
       "14256      25000        25000          25000.0   60 months     13.59   \n",
       "14475      20000        20000          20000.0   60 months     16.02   \n",
       "...          ...          ...              ...         ...       ...   \n",
       "36564      25000        25000          25000.0   36 months      6.72   \n",
       "37130       4000         4000           4000.0   36 months      6.72   \n",
       "37234       3600         3600           3600.0   36 months      9.44   \n",
       "38163       3000         3000           3000.0   36 months     21.45   \n",
       "38598       5000         5000           5000.0   36 months     11.99   \n",
       "39375      12000        12000          12000.0   60 months     12.62   \n",
       "39533      35000        35000          35000.0   60 months     21.45   \n",
       "40334      10000        10000          10000.0   36 months     15.05   \n",
       "40763      17000        17000          17000.0   60 months     18.06   \n",
       "41352      24000        24000          24000.0   60 months     15.05   \n",
       "41831       8000         8000           8000.0   36 months     13.59   \n",
       "41997      15500        15500          15500.0   60 months     25.82   \n",
       "42496      10000        10000          10000.0   36 months      9.44   \n",
       "43286      20000        20000          20000.0   36 months     10.42   \n",
       "45059      10000        10000           9975.0   36 months      6.08   \n",
       "45312       6000         6000           6000.0   36 months     14.08   \n",
       "45373      18550        18550          18550.0   60 months     24.85   \n",
       "45379      24000        24000          24000.0   60 months     11.99   \n",
       "45531       5000         5000           5000.0   36 months      7.97   \n",
       "46809      10000        10000          10000.0   60 months     18.06   \n",
       "47248      24425        24425          24425.0   60 months     25.82   \n",
       "47369       8000         8000           7975.0   36 months     12.62   \n",
       "47735      14400        14400          14400.0   36 months     21.45   \n",
       "48674      18000        18000          18000.0   60 months     17.09   \n",
       "48807      18250        18250          18250.0   60 months     20.00   \n",
       "49040       6000         6000           6000.0   36 months      7.35   \n",
       "49409      20000        20000          20000.0   36 months     13.59   \n",
       "49503       8825         8825           8825.0   36 months     10.91   \n",
       "49605      30000        30000          30000.0   36 months     19.03   \n",
       "49791      12000        12000          12000.0   36 months     16.02   \n",
       "\n",
       "       installment grade sub_grade                   emp_title emp_length  \\\n",
       "1020        747.03     D        D1                         nan        NaN   \n",
       "1076        568.49     C        C1                         nan        NaN   \n",
       "1193        773.68     C        C5                         nan        NaN   \n",
       "1194        462.25     C        C5                 secretary     < 1 year   \n",
       "1902        693.80     C        C4                         nan        NaN   \n",
       "2103        250.59     A        A5                         nan        NaN   \n",
       "3009        597.63     D        D1                         nan        NaN   \n",
       "3042        299.65     A        A1                         nan        NaN   \n",
       "3712        993.20     A        A4                         nan        NaN   \n",
       "4222        288.05     B        B1                         nan        NaN   \n",
       "5843        392.36     B        B4                         nan        NaN   \n",
       "5885        653.93     B        B4                         nan        NaN   \n",
       "5937        132.68     D        D5                         nan        NaN   \n",
       "6028        512.08     B        B1                         nan        NaN   \n",
       "6516        419.01     A        A4                         nan        NaN   \n",
       "7366       1447.31     D        D2                         nan        NaN   \n",
       "7585       1241.50     A        A4                         nan        NaN   \n",
       "8022        737.12     C        C1                         nan        NaN   \n",
       "8670       1487.48     E        E2                         nan        NaN   \n",
       "9509        584.49     B        B5                         nan        NaN   \n",
       "10328        71.94     B        B4                         nan        NaN   \n",
       "10340       225.65     B        B2                         nan        NaN   \n",
       "10360      1252.91     A        A5                         nan        NaN   \n",
       "10407       317.36     C        C4                         nan        NaN   \n",
       "12745        99.63     B        B5                         nan        NaN   \n",
       "13009       522.93     D        D1                         nan        NaN   \n",
       "13488      1218.33     A        A2                         nan        NaN   \n",
       "13951       479.34     E        E5                         nan        NaN   \n",
       "14256       576.41     C        C2                         ceo  10+ years   \n",
       "14475       486.58     C        C5                         nan        NaN   \n",
       "...            ...   ...       ...                         ...        ...   \n",
       "36564       768.74     A        A3          background painter   < 1 year   \n",
       "37130       123.00     A        A3                         nan        NaN   \n",
       "37234       115.22     B        B1                         nan        NaN   \n",
       "38163       113.72     D        D5                         nan        NaN   \n",
       "38598       166.05     B        B5                         nan        NaN   \n",
       "39375       270.71     C        C1                         nan        NaN   \n",
       "39533       955.75     D        D5  front desk representative    < 1 year   \n",
       "40334       346.90     C        C4                         nan        NaN   \n",
       "40763       432.25     D        D2                         nan        NaN   \n",
       "41352       571.59     C        C4                         nan        NaN   \n",
       "41831       271.84     C        C2                         nan        NaN   \n",
       "41997       462.43     E        E4                         nan        NaN   \n",
       "42496       320.05     B        B1                         nan        NaN   \n",
       "43286       649.30     B        B3                         nan        NaN   \n",
       "45059       304.59     A        A2                         nan        NaN   \n",
       "45312       205.30     C        C3                         nan        NaN   \n",
       "45373       542.84     E        E3                         nan        NaN   \n",
       "45379       533.75     B        B5                         nan        NaN   \n",
       "45531       156.62     A        A5                         nan        NaN   \n",
       "46809       254.27     D        D2                         nan        NaN   \n",
       "47248       728.70     E        E4                         nan        NaN   \n",
       "47369       268.09     C        C1                         nan        NaN   \n",
       "47735       545.86     D        D5                         nan        NaN   \n",
       "48674       448.22     D        D1                         nan        NaN   \n",
       "48807       483.52     D        D4                         nan        NaN   \n",
       "49040       186.23     A        A4                         nan        NaN   \n",
       "49409       679.58     C        C2                         nan        NaN   \n",
       "49503       288.55     B        B4                         nan        NaN   \n",
       "49605      1100.14     D        D3                         nan        NaN   \n",
       "49791       422.01     C        C5                         nan        NaN   \n",
       "\n",
       "           home  annual_inc verification_status   issue_d         loan_status  \\\n",
       "1020   MORTGAGE         0.0        Not Verified  Dec-2017             Current   \n",
       "1076   MORTGAGE         0.0        Not Verified  Dec-2017             Current   \n",
       "1193   MORTGAGE         0.0        Not Verified  Dec-2017  Late (31-120 days)   \n",
       "1194   MORTGAGE         0.0        Not Verified  Dec-2017             Current   \n",
       "1902       RENT         0.0        Not Verified  Dec-2017             Current   \n",
       "2103   MORTGAGE         0.0        Not Verified  Dec-2017             Current   \n",
       "3009   MORTGAGE         0.0        Not Verified  Dec-2017          Fully Paid   \n",
       "3042   MORTGAGE         0.0        Not Verified  Dec-2017             Current   \n",
       "3712       RENT         0.0        Not Verified  Dec-2017             Current   \n",
       "4222        OWN         0.0        Not Verified  Dec-2017             Current   \n",
       "5843       RENT         0.0        Not Verified  Dec-2017  Late (31-120 days)   \n",
       "5885   MORTGAGE         0.0        Not Verified  Dec-2017             Current   \n",
       "5937        OWN         0.0        Not Verified  Dec-2017             Current   \n",
       "6028       RENT         0.0        Not Verified  Dec-2017          Fully Paid   \n",
       "6516   MORTGAGE         0.0     Source Verified  Dec-2017             Current   \n",
       "7366   MORTGAGE         0.0        Not Verified  Dec-2017             Current   \n",
       "7585   MORTGAGE         0.0        Not Verified  Dec-2017             Current   \n",
       "8022   MORTGAGE         0.0        Not Verified  Dec-2017          Fully Paid   \n",
       "8670   MORTGAGE         0.0        Not Verified  Dec-2017             Current   \n",
       "9509        OWN         0.0        Not Verified  Dec-2017             Current   \n",
       "10328  MORTGAGE         0.0        Not Verified  Dec-2017          Fully Paid   \n",
       "10340      RENT         0.0        Not Verified  Dec-2017          Fully Paid   \n",
       "10360  MORTGAGE         0.0        Not Verified  Dec-2017             Current   \n",
       "10407      RENT         0.0        Not Verified  Dec-2017             Current   \n",
       "12745  MORTGAGE         0.0        Not Verified  Dec-2017             Current   \n",
       "13009  MORTGAGE         0.0        Not Verified  Dec-2017             Current   \n",
       "13488  MORTGAGE         0.0        Not Verified  Dec-2017         Charged Off   \n",
       "13951  MORTGAGE         0.0        Not Verified  Dec-2017          Fully Paid   \n",
       "14256  MORTGAGE         0.0        Not Verified  Dec-2017          Fully Paid   \n",
       "14475      RENT         0.0        Not Verified  Dec-2017  Late (31-120 days)   \n",
       "...         ...         ...                 ...       ...                 ...   \n",
       "36564  MORTGAGE         0.0        Not Verified  Nov-2017             Current   \n",
       "37130  MORTGAGE         0.0        Not Verified  Nov-2017             Current   \n",
       "37234  MORTGAGE         0.0        Not Verified  Nov-2017             Current   \n",
       "38163  MORTGAGE         0.0        Not Verified  Nov-2017          Fully Paid   \n",
       "38598      RENT         0.0        Not Verified  Nov-2017             Current   \n",
       "39375       OWN         0.0        Not Verified  Nov-2017         Charged Off   \n",
       "39533  MORTGAGE         0.0        Not Verified  Nov-2017          Fully Paid   \n",
       "40334      RENT         0.0        Not Verified  Nov-2017             Current   \n",
       "40763  MORTGAGE         0.0        Not Verified  Nov-2017             Current   \n",
       "41352      RENT         0.0            Verified  Nov-2017             Current   \n",
       "41831      RENT         0.0        Not Verified  Nov-2017          Fully Paid   \n",
       "41997  MORTGAGE         0.0        Not Verified  Nov-2017          Fully Paid   \n",
       "42496       OWN         0.0        Not Verified  Nov-2017             Current   \n",
       "43286  MORTGAGE         0.0        Not Verified  Nov-2017             Current   \n",
       "45059      RENT         1.0        Not Verified  Nov-2017             Current   \n",
       "45312  MORTGAGE         0.0        Not Verified  Nov-2017             Current   \n",
       "45373      RENT         0.0        Not Verified  Nov-2017             Current   \n",
       "45379  MORTGAGE         0.0        Not Verified  Nov-2017             Current   \n",
       "45531  MORTGAGE         0.0        Not Verified  Nov-2017             Current   \n",
       "46809      RENT         0.0        Not Verified  Nov-2017             Current   \n",
       "47248  MORTGAGE         0.0        Not Verified  Nov-2017             Current   \n",
       "47369       OWN         0.0        Not Verified  Nov-2017             Current   \n",
       "47735  MORTGAGE         0.0        Not Verified  Nov-2017          Fully Paid   \n",
       "48674      RENT         0.0        Not Verified  Nov-2017             Current   \n",
       "48807       OWN         0.0        Not Verified  Nov-2017             Current   \n",
       "49040  MORTGAGE         0.0            Verified  Nov-2017             Current   \n",
       "49409  MORTGAGE         0.0        Not Verified  Nov-2017             Current   \n",
       "49503  MORTGAGE         0.0        Not Verified  Nov-2017             Current   \n",
       "49605      RENT         0.0        Not Verified  Nov-2017             Current   \n",
       "49791  MORTGAGE         0.0        Not Verified  Nov-2017             Current   \n",
       "\n",
       "      pymnt_plan             purpose                    title zip_code  \\\n",
       "1020           n  debt_consolidation       Debt consolidation    347xx   \n",
       "1076           n  debt_consolidation       Debt consolidation    450xx   \n",
       "1193           y         credit_card  Credit card refinancing    935xx   \n",
       "1194           n  debt_consolidation       Debt consolidation    827xx   \n",
       "1902           n  debt_consolidation       Debt consolidation    871xx   \n",
       "2103           n  debt_consolidation       Debt consolidation    762xx   \n",
       "3009           n    home_improvement         Home improvement    365xx   \n",
       "3042           n         credit_card  Credit card refinancing    936xx   \n",
       "3712           n              moving    Moving and relocation    900xx   \n",
       "4222           n  debt_consolidation       Debt consolidation    775xx   \n",
       "5843           n  debt_consolidation       Debt consolidation    809xx   \n",
       "5885           n  debt_consolidation       Debt consolidation    720xx   \n",
       "5937           n               other                    Other    707xx   \n",
       "6028           n         credit_card  Credit card refinancing    282xx   \n",
       "6516           n  debt_consolidation       Debt consolidation    890xx   \n",
       "7366           n  debt_consolidation       Debt consolidation    864xx   \n",
       "7585           n            vacation                 Vacation    152xx   \n",
       "8022           n         credit_card  Credit card refinancing    366xx   \n",
       "8670           n         credit_card  Credit card refinancing    680xx   \n",
       "9509           n  debt_consolidation       Debt consolidation    083xx   \n",
       "10328          n             medical         Medical expenses    208xx   \n",
       "10340          n               other                    Other    975xx   \n",
       "10360          n  debt_consolidation       Debt consolidation    750xx   \n",
       "10407          n  debt_consolidation       Debt consolidation    766xx   \n",
       "12745          n              moving    Moving and relocation    547xx   \n",
       "13009          n  debt_consolidation       Debt consolidation    301xx   \n",
       "13488          n  debt_consolidation       Debt consolidation    770xx   \n",
       "13951          n  debt_consolidation       Debt consolidation    300xx   \n",
       "14256          n    home_improvement         Home improvement    773xx   \n",
       "14475          n  debt_consolidation       Debt consolidation    680xx   \n",
       "...          ...                 ...                      ...      ...   \n",
       "36564          n  debt_consolidation       Debt consolidation    900xx   \n",
       "37130          n         credit_card  Credit card refinancing    371xx   \n",
       "37234          n               other                    Other    365xx   \n",
       "38163          n  debt_consolidation       Debt consolidation    935xx   \n",
       "38598          n  debt_consolidation       Debt consolidation    371xx   \n",
       "39375          n  debt_consolidation       Debt consolidation    907xx   \n",
       "39533          n  debt_consolidation       Debt consolidation    891xx   \n",
       "40334          n               other                    Other    457xx   \n",
       "40763          n  debt_consolidation       Debt consolidation    705xx   \n",
       "41352          n  debt_consolidation       Debt consolidation    906xx   \n",
       "41831          n  debt_consolidation       Debt consolidation    752xx   \n",
       "41997          n  debt_consolidation       Debt consolidation    727xx   \n",
       "42496          n  debt_consolidation       Debt consolidation    334xx   \n",
       "43286          n  debt_consolidation       Debt consolidation    604xx   \n",
       "45059          n      major_purchase           Major purchase    028xx   \n",
       "45312          n      major_purchase           Major purchase    173xx   \n",
       "45373          n  debt_consolidation       Debt consolidation    750xx   \n",
       "45379          n  debt_consolidation       Debt consolidation    604xx   \n",
       "45531          n  debt_consolidation       Debt consolidation    840xx   \n",
       "46809          n  debt_consolidation       Debt consolidation    606xx   \n",
       "47248          n  debt_consolidation       Debt consolidation    070xx   \n",
       "47369          n    home_improvement         Home improvement    182xx   \n",
       "47735          n         credit_card  Credit card refinancing    172xx   \n",
       "48674          n  debt_consolidation       Debt consolidation    078xx   \n",
       "48807          n  debt_consolidation       Debt consolidation    687xx   \n",
       "49040          n               other                    Other    933xx   \n",
       "49409          n         credit_card  Credit card refinancing    347xx   \n",
       "49503          n         credit_card  Credit card refinancing    956xx   \n",
       "49605          n  debt_consolidation       Debt consolidation    070xx   \n",
       "49791          n               other                    Other    431xx   \n",
       "\n",
       "      addr_state  dti  delinq_2yrs  \n",
       "1020          FL  NaN          1.0  \n",
       "1076          OH  NaN          0.0  \n",
       "1193          CA  NaN          0.0  \n",
       "1194          WY  NaN          0.0  \n",
       "1902          NM  NaN          4.0  \n",
       "2103          TX  NaN          0.0  \n",
       "3009          AL  NaN          0.0  \n",
       "3042          CA  NaN          0.0  \n",
       "3712          CA  NaN          0.0  \n",
       "4222          TX  NaN          2.0  \n",
       "5843          CO  NaN          0.0  \n",
       "5885          AR  NaN          0.0  \n",
       "5937          LA  NaN          1.0  \n",
       "6028          NC  NaN          0.0  \n",
       "6516          NV  NaN          0.0  \n",
       "7366          AZ  NaN          0.0  \n",
       "7585          PA  NaN          0.0  \n",
       "8022          AL  NaN          0.0  \n",
       "8670          NE  NaN          0.0  \n",
       "9509          NJ  NaN          0.0  \n",
       "10328         MD  NaN          0.0  \n",
       "10340         OR  NaN          0.0  \n",
       "10360         TX  NaN          0.0  \n",
       "10407         TX  NaN          1.0  \n",
       "12745         WI  NaN          1.0  \n",
       "13009         GA  NaN          0.0  \n",
       "13488         TX  NaN          0.0  \n",
       "13951         GA  NaN          0.0  \n",
       "14256         TX  NaN          0.0  \n",
       "14475         NE  NaN          0.0  \n",
       "...          ...  ...          ...  \n",
       "36564         CA  NaN          0.0  \n",
       "37130         TN  NaN          0.0  \n",
       "37234         AL  NaN          0.0  \n",
       "38163         CA  NaN          2.0  \n",
       "38598         TN  NaN          0.0  \n",
       "39375         CA  NaN          0.0  \n",
       "39533         NV  NaN          0.0  \n",
       "40334         OH  NaN          0.0  \n",
       "40763         LA  NaN          0.0  \n",
       "41352         CA  NaN          1.0  \n",
       "41831         TX  NaN          0.0  \n",
       "41997         AR  NaN          0.0  \n",
       "42496         FL  NaN          0.0  \n",
       "43286         IL  NaN          1.0  \n",
       "45059         RI  NaN          0.0  \n",
       "45312         PA  NaN          0.0  \n",
       "45373         TX  NaN          0.0  \n",
       "45379         IL  NaN          0.0  \n",
       "45531         UT  NaN          0.0  \n",
       "46809         IL  NaN          0.0  \n",
       "47248         NY  NaN          0.0  \n",
       "47369         PA  NaN          0.0  \n",
       "47735         PA  NaN          0.0  \n",
       "48674         NJ  NaN          0.0  \n",
       "48807         NE  NaN          0.0  \n",
       "49040         CA  NaN          1.0  \n",
       "49409         FL  NaN          0.0  \n",
       "49503         CA  NaN          1.0  \n",
       "49605         NJ  NaN          0.0  \n",
       "49791         OH  NaN          0.0  \n",
       "\n",
       "[102 rows x 22 columns]"
      ]
     },
     "execution_count": 156,
     "metadata": {},
     "output_type": "execute_result"
    }
   ],
   "source": [
    "# dti 컬럼에 결측치가 존재하는 샘플 확인\n"
   ]
  },
  {
   "cell_type": "markdown",
   "metadata": {
    "slideshow": {
     "slide_type": "subslide"
    }
   },
   "source": [
    "    직업과 근속연수에 관한 부분은 데이터를 통한 유추나 계산값을 통해 채워넣을 수 있는 항목은 아닌 것 같습니다.\n",
    "    다만 dti의 경우 실수로 채워져 있는 부분이니 수업을 위해 평균값 혹은 근사치를 계산하여 채워보도록 하겠습니다."
   ]
  },
  {
   "cell_type": "markdown",
   "metadata": {
    "slideshow": {
     "slide_type": "slide"
    }
   },
   "source": [
    "### 결측치 채우기"
   ]
  },
  {
   "cell_type": "code",
   "execution_count": null,
   "metadata": {
    "slideshow": {
     "slide_type": "subslide"
    }
   },
   "outputs": [],
   "source": [
    "# dti 컬럼의 NaN값 index 확인\n"
   ]
  },
  {
   "cell_type": "code",
   "execution_count": null,
   "metadata": {
    "slideshow": {
     "slide_type": "subslide"
    }
   },
   "outputs": [],
   "source": [
    "# fillna() 함수로 NaN 값을 dti 컬럼의 평균으로 채우기\n",
    "\n",
    "# fillna() 함수의 다양한 채우기 방법 파라메터 확인해보기\n"
   ]
  },
  {
   "cell_type": "markdown",
   "metadata": {
    "slideshow": {
     "slide_type": "slide"
    }
   },
   "source": [
    "### 결측치 제거"
   ]
  },
  {
   "cell_type": "code",
   "execution_count": null,
   "metadata": {
    "slideshow": {
     "slide_type": "subslide"
    }
   },
   "outputs": [],
   "source": [
    "# emp_title 결측치가 있는 샘플 확인\n"
   ]
  },
  {
   "cell_type": "code",
   "execution_count": null,
   "metadata": {
    "slideshow": {
     "slide_type": "subslide"
    }
   },
   "outputs": [],
   "source": [
    "# view값으로 dropna 결과값 확인\n"
   ]
  },
  {
   "cell_type": "code",
   "execution_count": 157,
   "metadata": {
    "slideshow": {
     "slide_type": "subslide"
    }
   },
   "outputs": [],
   "source": [
    "# 결측치 제거\n"
   ]
  }
 ],
 "metadata": {
  "kernelspec": {
   "display_name": "Python 3",
   "language": "python",
   "name": "python3"
  },
  "language_info": {
   "codemirror_mode": {
    "name": "ipython",
    "version": 3
   },
   "file_extension": ".py",
   "mimetype": "text/x-python",
   "name": "python",
   "nbconvert_exporter": "python",
   "pygments_lexer": "ipython3",
   "version": "3.7.3"
  },
  "toc": {
   "base_numbering": 1,
   "nav_menu": {},
   "number_sections": true,
   "sideBar": true,
   "skip_h1_title": true,
   "title_cell": "Table of Contents",
   "title_sidebar": "Contents",
   "toc_cell": false,
   "toc_position": {
    "height": "calc(100% - 180px)",
    "left": "10px",
    "top": "150px",
    "width": "193.821px"
   },
   "toc_section_display": true,
   "toc_window_display": true
  },
  "varInspector": {
   "cols": {
    "lenName": 16,
    "lenType": 16,
    "lenVar": 40
   },
   "kernels_config": {
    "python": {
     "delete_cmd_postfix": "",
     "delete_cmd_prefix": "del ",
     "library": "var_list.py",
     "varRefreshCmd": "print(var_dic_list())"
    },
    "r": {
     "delete_cmd_postfix": ") ",
     "delete_cmd_prefix": "rm(",
     "library": "var_list.r",
     "varRefreshCmd": "cat(var_dic_list()) "
    }
   },
   "types_to_exclude": [
    "module",
    "function",
    "builtin_function_or_method",
    "instance",
    "_Feature"
   ],
   "window_display": false
  }
 },
 "nbformat": 4,
 "nbformat_minor": 2
}
