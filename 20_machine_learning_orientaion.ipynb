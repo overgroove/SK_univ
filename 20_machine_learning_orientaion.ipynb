{
 "cells": [
  {
   "cell_type": "markdown",
   "metadata": {
    "slideshow": {
     "slide_type": "slide"
    }
   },
   "source": [
    "# 머신러닝 오리엔테이션"
   ]
  },
  {
   "cell_type": "markdown",
   "metadata": {
    "slideshow": {
     "slide_type": "slide"
    }
   },
   "source": [
    "## 머신러닝이란?\n",
    "> 기계가 사람처럼 학습을 할 수 있도록 하는 연구분야  \n",
    "\"환경과의 상호작용을 통해서 축적되는 경험적인 데이터를 바탕으로 모델을 자동으로 구축하고 스스로 성능을 향상시키는 시스템\" (Mitchell, 1977)"
   ]
  },
  {
   "cell_type": "markdown",
   "metadata": {},
   "source": [
    "### 머신러닝 이전의 데이터 분석 혹은 모델링과의 차이\n",
    "> 기존 모델링  \n",
    ">> **사람이 알고리즘 설계 및 코딩**  \n",
    "**전문가 혹은 도메인 지식을 바탕**으로 한 조건에 따른 작업 지시 혹은 결과 도출(모델링)  \n",
    "**사람의 주관**이 많이 개입 된 모델링, 경험적 모델링  \n",
    "\n",
    "> 머신러닝 모델링  \n",
    ">> 사람이 코딩을 하는 것은 같음  \n",
    "**머신러닝 알고리즘에 따라 데이터를 학습하고 그에 따라 컴퓨터가 모델링**  \n",
    "**데이터 기반의 모델학습**에 따른 모델링, 데이터 모델링\n",
    "\n",
    "즉 기존 방법은 경험적으로 학습한 전문가에 의한 모델링이 이루어졌다면 머신러닝 모델링은 데이터를 학습한 알고리즘으로서 모델링을 합니다."
   ]
  },
  {
   "cell_type": "markdown",
   "metadata": {},
   "source": [
    "### 머신러닝의 정의 및 범위\n",
    "<img src=\"https://drive.google.com/uc?id=1iO8dDU0AXVC4s4UDn-M6QjxvFUhC1x46\">  \n",
    "\n",
    "출처 : https://www.deeplearningbook.org/contents/intro.html"
   ]
  },
  {
   "cell_type": "markdown",
   "metadata": {},
   "source": [
    "### 머신러닝의 역사\n",
    "<img src=\"https://drive.google.com/uc?id=1vOA0ou3otYWGVXBxtWI-eNleZKfrirl4\">  \n",
    "\n",
    "출처 : http://hochul.net/blog/data_analysis_machine_learning_basic_1s/  \n",
    "\n",
    "실제로는 7~80년 가까이 수행된 연구분야이지만 최근 10~5년 사이에 인기를 크게 끈 분야."
   ]
  },
  {
   "cell_type": "markdown",
   "metadata": {},
   "source": [
    "### 머신러닝 발전배경\n",
    "\n",
    "#### 데이터의 폭발적인 생산\n",
    "> 지수적으로 늘어나는 데이터의 생산량  \n",
    "온라인 기반 활동이 늘어나며 데이터의 생산 및 누적이 쉬워짐  \n",
    "전세계 데이터의 90%가 과거 2년 동안 수집 된 데이터  \n",
    "그렇다면 데이터를 기반으로 한 생산활동은? (SSG.com 일일데이터 4GB)  \n",
    "\n",
    "#### 컴퓨팅 환경의 발전\n",
    "> CPU 및 GPU 기반 연산속도 증가  \n",
    "기존 컴퓨팅 환경으로 오랜 기간이 걸리던 작업들이 가능해짐  \n",
    "데이터 처리 기술의 발전 (병렬 처리 연산, 클라우드 컴퓨팅등)  \n",
    "python 등 오픈소스 기반의 프로그래밍 언어의 대중화  \n",
    "\n",
    "#### 알고리즘의 발전\n",
    "> 기존 통계베이스의 알고리즘 뿐 아니라 데이터 기반 알고리즘의 발전  \n",
    "연산량 감소를 위한 데이터 분석 및 자료구조 알고리즘의 발전  \n",
    "비정형데이터를 다루기 위한 딥러닝 알고리즘"
   ]
  },
  {
   "cell_type": "markdown",
   "metadata": {},
   "source": [
    "### 용어정리\n",
    "머신러닝은 태생적으로 여러 분야가 결합된 분야이기 때문에 실무자들은 종종 동일한 의미에 대해 다양한 용어들을 사용합니다.  \n",
    "혼용하는 용어를 정리해보겠습니다.\n",
    "> **알고리즘(algorithm)** : 모델, 혹은 머신러닝 기법을 실행하기 위한 특정 절차  \n",
    "**특징(feature)** : 입력값으로 사용되는 변수들 속성, 입력변수, 독립변수, X라고도 부름  \n",
    "**샘플(sample)** : 데이터의 기본 단위. 하나의 사건 혹은 시점. 레코드, 인스턴스로 부름  \n",
    "**레이블(label)** : 한 샘플에 대한 정답 값. 클래스, 정답, 종속변수, y라고 부름"
   ]
  },
  {
   "cell_type": "markdown",
   "metadata": {},
   "source": [
    "### 머신러닝의 기본컨셉\n",
    "\n",
    "# $$y = f(x)$$\n",
    "\n",
    "* $y$ = 해결해야 하는 문제 (종속변수, target data)\n",
    "* $f()$ = 머신러닝 알고리즘 (모델)\n",
    "* $x$ = 훈련데이터 (설명변수, train data)\n",
    "\n",
    "###### 머신러닝 프로젝트의 기획은 결국 $y$를 어떻게 풀어낼 것인가에 대한 기획"
   ]
  },
  {
   "cell_type": "markdown",
   "metadata": {
    "slideshow": {
     "slide_type": "slide"
    }
   },
   "source": [
    "## 머신러닝의 구분\n",
    "**$y$** 데이터의 존재 유무에 따라 **지도학습**과 **비지도 학습**으로 구분\n",
    "### 지도학습(supervised learning 지도학습) -  $y$값이 존재\n",
    "- 모델이 예측/분류를 하기 위한 정답/target값 까지 함께 학습하는 머신러닝 모델  \n",
    "- 정답(label)값이 반드시 필요\n",
    "\n",
    "#### 해결 가능한 $y$ 값의 데이터에 따른 분류\n",
    "\n",
    "##### **예측(prediction, regression)** : 종속변수가 **연속형** 데이터  \n",
    "> * 연속형 데이터 - 매출, 온도, 시간, 코스피지수, 가격 등  \n",
    "> * 자연수 0과 1사이에는 무수히 많은 실수가 존재하고 그 무한한 값의 범위를 갖는 데이터를 연속형 데이터라 한다.  \n",
    ">   \n",
    "<img src=\"https://drive.google.com/uc?id=1upJ_JAfY6wIAo5oTpsPB-hgVNFGA2TsU\">\n",
    "\n",
    "\n",
    "##### **분류(classification)** : 종속변수가 **범주형** 데이터\n",
    "> * 범주형 데이터 - 성별, 신용등급, 브랜드, 기차역등  \n",
    "> * 남성 혹은 여성 구분처럼 이진형 구분(0 혹은 1), 데이터가 특정 범위내에 모두 속한 데이터의 경우 범주형 데이터 혹은 카테고리 데이터라고 한다.\n",
    ">  \n",
    "<img src=\"https://drive.google.com/uc?id=18tjMbHMCBbuNXincFptdfaqbWT7xWlgA\">\n",
    "\n",
    "###### 정답을 주고 컴퓨터가 이 정답을 맞출 수 있도록 학습, 객관적 평가 가능\n",
    "###### 예측은 무조건 과거 데이터가 있어야 합니다."
   ]
  },
  {
   "cell_type": "markdown",
   "metadata": {},
   "source": [
    "### 비지도학습(unsupervised learning)\n",
    "모델이 학습을 하기위한 정답값이 없는 경우 활용가능한 머신러닝 모델  \n",
    "분류, 추천시스템에 활용 가능\n",
    "\n",
    "#### 해결 가능한 $y$ 값의 데이터에 따른 분류\n",
    "\n",
    "##### **군집화(clustering)** : 종속변수가 **범주형** 데이터\n",
    "> * 정답이 없는 데이터를 모델에 따라 비슷한 샘플끼리 묶어주는 머신러닝 알고리즘\n",
    "> * 데이터에 숨겨진 특징이나 구조를 발견하여 같은 특징에 따라 구분\n",
    ">  \n",
    "<img src=\"https://drive.google.com/uc?id=1Ro4q6eQpQv4MJlJr_CYlII8WnmYzuhi3\">\n",
    "\n",
    "##### **연관규칙분석(association rule analysis)** : 종속변수가 스코어 혹은 샘플\n",
    "> * 보통 추천시스템이라 부르며 매출 및 유저의 구매기록에 기반한 규칙을 찾는 알고리즘\n",
    "> * 아이템 혹은 유저를 기준으로 비슷한 아이템 및 유저를 찾아 비슷한 데이터를 찾음.\n",
    ">  \n",
    "<img src=\"https://drive.google.com/uc?id=1u5-Fkq-DF5w9OC7CRgpJuxEEjPYYdtZW\">\n",
    "\n",
    "##### **준지도학습(semi-supervised learning)** : 비지도학습 + 지도학습\n",
    "> * 지도학습을 사용하려면 정답(레이블)이 있어야 하지만 이를 비지도 학습으로 해결\n",
    "> * 종속변수에 레이블이 있는 데이터와 없는 데이터를 같이 사용\n",
    "> * 군집화와 지도학습을 순차적으로 적용하는 방법\n",
    "\n",
    "###### 객관적 평가 불가능"
   ]
  },
  {
   "cell_type": "markdown",
   "metadata": {},
   "source": [
    "<small>이미지출처 : https://snowdeer.github.io/machine-learning/2016/09/03/machine-learning-algorithms/</small>  \n",
    "<small>https://www.kdnuggets.com/2016/04/association-rules-apriori-algorithm-tutorial.html</small>"
   ]
  },
  {
   "cell_type": "markdown",
   "metadata": {
    "slideshow": {
     "slide_type": "slide"
    }
   },
   "source": [
    "## 머신러닝 데이터 분석 프로세스\n",
    "    1. 문제정의\n",
    "    2. 데이터수집\n",
    "    3. 데이터탐색\n",
    "    4. 데이터전처리\n",
    "    5. 모델링\n",
    "    6. 모델평가\n",
    "    7. 결과보고서 작성"
   ]
  },
  {
   "cell_type": "markdown",
   "metadata": {
    "slideshow": {
     "slide_type": "slide"
    }
   },
   "source": [
    "### 문제정의\n",
    "데이터를 기반으로 한 모델링으로 어떠한 문제를 해결해야 할지 정의하는 단계  \n",
    "올바른 문제정의가 된다면 이후 프로세스를 진행하기 수월해집니다.\n",
    "통계적 배경지식이 중요(업무 base)\n",
    "\n",
    "문제정의 예시\n",
    "> 1. 기존고객 개인정보를 바탕으로 한 신규고객 고객군 분류  \n",
    "종속변수 : 신규고객 고객군 분류  \n",
    "설명변수 : 기존고객 개인정보(성별, 나이, 지역, 소득, 신용정보, 가입정도등등)  \n",
    "모델 : 분류문제를 해결하기 위한 classification 모델  \n",
    "\n",
    "> 2. 3/4 메모리 반도체 수요 예측  \n",
    "종속변수 : 하이닉스 3/4 메모리 반도체 수요  \n",
    "설명변수 : 반도체 가격, 타사 생산량, 환율, 스마트폰 판매량, 서버 판매량, 원자재 지수 등  \n",
    "모델 : 예측문제를 해결하기 위한 regression 모델\n",
    "\n",
    "> 3. 이미지 처리 기반 제조 공정 불량 분류 자동화  \n",
    "종속변수 : 조립공정 불량품 분류  \n",
    "설명변수 : 공정 별 제품 이미지 샘플  \n",
    "모델 : 이미지 처리를 위한 딥러닝 CNN 분류 모델  \n",
    "\n",
    "복잡한 문제를 해결해야 할 경우 위의 1개 문제 = 1개 데이터셋의 원칙을 지키면 혼동이 덜 함    "
   ]
  },
  {
   "cell_type": "markdown",
   "metadata": {
    "slideshow": {
     "slide_type": "slide"
    }
   },
   "source": [
    "### 데이터수집\n",
    "분석에 필요한 설명변수, 종속변수에 따라 데이터 수집\n",
    "\n",
    "> - 사내데이터 활용  \n",
    "- 데이터셋 활용  \n",
    "- 크롤링  \n",
    "- API  \n",
    "    \n",
    "실제 수집이 불가능한 데이터가 있을 수 있음.  \n",
    "데이터 수집이 불가능 할 경우 문제정의 단계에서 문제정의를 다시 해야 함."
   ]
  },
  {
   "cell_type": "markdown",
   "metadata": {
    "slideshow": {
     "slide_type": "slide"
    }
   },
   "source": [
    "### 데이터탐색\n",
    "\n",
    "pandas, 시각화등 다양한 EDA 방법을 사용하여 수집데이터를 흝어보는 과정  \n",
    "수집된 데이터가 문제에 적합하지 않거나 사용이 불가능한 경우, 문제정의 혹은 데이터 수집 단계 다시 수행.\n",
    "\n",
    "> - 기술통계  \n",
    "- 결측치, 이상치 탐색  \n",
    "- 공분산 탐색  "
   ]
  },
  {
   "cell_type": "markdown",
   "metadata": {
    "slideshow": {
     "slide_type": "slide"
    }
   },
   "source": [
    "### 데이터전처리\n",
    "수집된 데이터를 모델링이 가능한 형태로 가공하는 작업  \n",
    "실제 프로젝트 진행 시 가장 어렵고, 시간이 많이 소요되는 과정\n",
    "\n",
    "> - 데이터 병합  \n",
    "- 데이터 형변환  \n",
    "- 더미화  \n",
    "- 클래스불균형 해결  \n",
    "- 차원축소  \n",
    "- 재샘플링"
   ]
  },
  {
   "cell_type": "markdown",
   "metadata": {
    "slideshow": {
     "slide_type": "slide"
    }
   },
   "source": [
    "### 모델링\n",
    "실제로 가장 손쉬운 과정  \n",
    "문제해결에 알맞는 모델 탐색 및 최적모델 탐색  \n",
    "사람의 공수가 아닌 하드웨어 스펙에 따라 작업시간 단축  \n",
    "\n",
    "> - 모델 선택  \n",
    "- 모수 추정  \n",
    "- 모델 학습  \n",
    "- 파라메터 서칭  "
   ]
  },
  {
   "cell_type": "markdown",
   "metadata": {
    "slideshow": {
     "slide_type": "slide"
    }
   },
   "source": [
    "### 모델평가\n",
    "모델학습에 사용되지 않은 테스트 데이터를 모델에 적용하여 모델의 성능을 객관적으로 평가\n",
    "예측/분류에 사용가능한 여러가지 모델평가 방법을 적용함.\n",
    "\n",
    "> - 예측 : 제곱오차 혹은 설명력 평가\n",
    "- 분류 : 오분류 평가  "
   ]
  },
  {
   "cell_type": "markdown",
   "metadata": {
    "slideshow": {
     "slide_type": "slide"
    }
   },
   "source": [
    "### 결과보고서 작성\n",
    "문제정의부터 모델평가까지 데이터분석 프로젝트 전 과정에 대한 진행경과, 결과, 문제점, 해결방법을 기술\n",
    "\n",
    "> - 시각화  \n",
    "- 활용방안  \n",
    "- 운영방안"
   ]
  },
  {
   "cell_type": "markdown",
   "metadata": {},
   "source": [
    "## 머신러닝 데이터 플로우 프로세스\n",
    "### 데이터셋 제작 및 확보\n",
    "<img src=\"https://drive.google.com/uc?id=1oXI5muAceEO8dgFIVBaeEfjkRUj6it_Z\" height=\"300px\" width=\"300px\">"
   ]
  },
  {
   "cell_type": "code",
   "execution_count": null,
   "metadata": {
    "ExecuteTime": {
     "end_time": "2021-08-04T05:03:11.643709Z",
     "start_time": "2021-08-04T05:03:11.613618Z"
    }
   },
   "outputs": [],
   "source": [
    "# 필요모듈 import \n",
    "import pandas as pd\n",
    "import numpy as np\n",
    "from sklearn.model_selection import train_test_split"
   ]
  },
  {
   "cell_type": "code",
   "execution_count": null,
   "metadata": {
    "ExecuteTime": {
     "end_time": "2021-08-04T01:53:30.608666Z",
     "start_time": "2021-08-04T01:53:30.588275Z"
    },
    "scrolled": true
   },
   "outputs": [],
   "source": [
    "# 분석 프로세스 예시를 위해 보스턴 주택가격 예측 데이터셋을 사용하겠습니다.\n",
    "# 보스턴 주택가격 예측을 위한 데이터로서 13개의 설명변수(X) 와 보스턴 집값(y)로 구성되어 있는 데이터셋입니다.\n",
    "# 설명변수의 설명은 아래와 같습니다.\n",
    "# 보스턴 집값 데이터 로딩\n",
    "\n",
    "'''\n",
    "각 데이터별 설명\n",
    "- CRIM : 마을당 범죄율\n",
    "- ZN : 25,000 평방피트 이상의 부지에 대한 주거용지 비율\n",
    "- INDUS : 마을당 상업지구 비율\n",
    "- CHAS : Charles River 인접 여부\n",
    "- NOX : 질소산화물 농도\n",
    "- RM : 주택 당 방 개수\n",
    "- AGE : 1940년 이전에 건설 된 자가 점유 유닛 비율\n",
    "- DIS : 보스턴 고용센터까지의 가중치 거리\n",
    "- RAD : 고속도로 접근도 지수\n",
    "- TAX : 10,000달러 당 재산세\n",
    "- PTRATIO : 마을별 학생 대 교사 비율\n",
    "- B : 마을별 흑인 비율\n",
    "- LSTAT : 마을별 인구 당 저소득층 비율\n",
    "'''\n",
    "df.head()"
   ]
  },
  {
   "cell_type": "markdown",
   "metadata": {},
   "source": [
    "#### 타겟데이터(y) 분리\n",
    "<img src=\"https://drive.google.com/uc?id=1lOLMlr2hidL0PpfaJeQmDuVcvV0pU09c\" height=\"300px\" width=\"300px\">"
   ]
  },
  {
   "cell_type": "code",
   "execution_count": null,
   "metadata": {
    "ExecuteTime": {
     "end_time": "2021-07-17T00:19:42.662027Z",
     "start_time": "2021-07-17T00:19:42.656484Z"
    }
   },
   "outputs": [],
   "source": [
    "# X, y 분리\n",
    "# 소문자는 벡터\n",
    "\n",
    "# 대문자는 행렬\n"
   ]
  },
  {
   "cell_type": "markdown",
   "metadata": {},
   "source": [
    "#### train test split\n",
    "<img src=\"https://drive.google.com/uc?id=18FBeyKcpwy7eDfs1ui7hnkNGHjAEXdMc\" height=\"300px\" width=\"300px\">"
   ]
  },
  {
   "cell_type": "code",
   "execution_count": null,
   "metadata": {
    "ExecuteTime": {
     "end_time": "2021-07-17T00:26:40.794575Z",
     "start_time": "2021-07-17T00:26:40.786526Z"
    }
   },
   "outputs": [],
   "source": [
    "# 데이터셋 분리\n",
    "# 리턴이 4개, 비율이 train 75%, test 25%\n"
   ]
  },
  {
   "cell_type": "markdown",
   "metadata": {},
   "source": [
    "#### 모델생성\n",
    "<img src=\"https://drive.google.com/uc?id=16ycVlHyh5s334EbjB1t0KVg8UwIbn4pT\" height=\"400px\" width=\"900px\">"
   ]
  },
  {
   "cell_type": "code",
   "execution_count": null,
   "metadata": {
    "ExecuteTime": {
     "end_time": "2021-07-17T00:30:39.459160Z",
     "start_time": "2021-07-17T00:30:39.455389Z"
    }
   },
   "outputs": [],
   "source": [
    "# 모델 정의\n"
   ]
  },
  {
   "cell_type": "markdown",
   "metadata": {},
   "source": [
    "#### 모델학습\n",
    "<img src=\"https://drive.google.com/uc?id=1SbFSdkZwVUL1uJpe75G_AC2e9Bc0LSNP\" height=\"400px\" width=\"900px\">"
   ]
  },
  {
   "cell_type": "code",
   "execution_count": null,
   "metadata": {
    "ExecuteTime": {
     "end_time": "2021-07-17T00:32:41.151660Z",
     "start_time": "2021-07-17T00:32:41.138260Z"
    }
   },
   "outputs": [],
   "source": [
    "# 모델 학습\n"
   ]
  },
  {
   "cell_type": "markdown",
   "metadata": {},
   "source": [
    "#### 모델 평가\n",
    "<img src=\"https://drive.google.com/uc?id=1GMcUzKbK-PhE1T_73dZzWrT-tpOv1eeO\" height=\"400px\" width=\"900px\">"
   ]
  },
  {
   "cell_type": "code",
   "execution_count": null,
   "metadata": {
    "ExecuteTime": {
     "end_time": "2021-07-17T00:36:03.522491Z",
     "start_time": "2021-07-17T00:36:03.510704Z"
    }
   },
   "outputs": [],
   "source": [
    "from sklearn.metrics import mean_squared_error\n"
   ]
  }
 ],
 "metadata": {
  "kernelspec": {
   "display_name": "Python 3",
   "language": "python",
   "name": "python3"
  },
  "language_info": {
   "codemirror_mode": {
    "name": "ipython",
    "version": 3
   },
   "file_extension": ".py",
   "mimetype": "text/x-python",
   "name": "python",
   "nbconvert_exporter": "python",
   "pygments_lexer": "ipython3",
   "version": "3.7.3"
  },
  "toc": {
   "base_numbering": 1,
   "nav_menu": {},
   "number_sections": true,
   "sideBar": true,
   "skip_h1_title": true,
   "title_cell": "Table of Contents",
   "title_sidebar": "Contents",
   "toc_cell": false,
   "toc_position": {},
   "toc_section_display": true,
   "toc_window_display": false
  },
  "varInspector": {
   "cols": {
    "lenName": 16,
    "lenType": 16,
    "lenVar": 40
   },
   "kernels_config": {
    "python": {
     "delete_cmd_postfix": "",
     "delete_cmd_prefix": "del ",
     "library": "var_list.py",
     "varRefreshCmd": "print(var_dic_list())"
    },
    "r": {
     "delete_cmd_postfix": ") ",
     "delete_cmd_prefix": "rm(",
     "library": "var_list.r",
     "varRefreshCmd": "cat(var_dic_list()) "
    }
   },
   "types_to_exclude": [
    "module",
    "function",
    "builtin_function_or_method",
    "instance",
    "_Feature"
   ],
   "window_display": false
  }
 },
 "nbformat": 4,
 "nbformat_minor": 2
}
