{
 "cells": [
  {
   "cell_type": "markdown",
   "metadata": {
    "slideshow": {
     "slide_type": "slide"
    }
   },
   "source": [
    "# Numpy (Numeric python)\n",
    "> - 패키지 이름과 같이 **수리적 파이썬 활용**을 위한 파이썬 패키지\n",
    "> - **선형대수학 구현**과 **과학적 컴퓨팅 연산**을 위한 함수를 제공\n",
    "> - (key) `nparray` 다차원 배열을 사용하여 **벡터의 산술 연산**이 가능\n",
    "> - **브로드캐스팅**을 활용하여 shape(형태 혹은 모양)이 다른 데이터의 연산이 가능\n",
    ">> - 기존 언어에서는 제공 X\n",
    ">> - 굉장히 파워풀한 기능으로서 빅데이터 연산에 굉장히 효율이 좋음     "
   ]
  },
  {
   "cell_type": "markdown",
   "metadata": {
    "slideshow": {
     "slide_type": "slide"
    }
   },
   "source": [
    "## Numpy 설치 와 import\n",
    "> - 선행 학습을 통해 클래스와 함수에서 클래스를 불러들여 사용할 수 있다고 배웠습니다.\n",
    "- 다만 직접 작성한 클래스가 아닐경우, 그리고 현재 컴퓨터에 사용해야 할 패키지가 없을경우 간단한 명령어로 설치가능.\n",
    ">> - `pip`, `conda` 명령어 : python 라이브러리 관리 프로그램으로 오픈소스라이브러리를 간편하게 설치 할 수 있도록 하는 명령어\n",
    "\n",
    "> - 1. 콘솔창에서 실행 시  \n",
    "**`pip` `install` `[패키지명]`** 혹은  \n",
    "**`conda` `install` `[패키지명]`**\n",
    "> - 2. 주피터 노트북으로 실행 시  \n",
    "**`!pip` `install` `[패키지명]`**  \n",
    "> - 아나콘다 환경으로 python 환경설정 시 기본적으로 Numpy 설치가 되어있음"
   ]
  },
  {
   "cell_type": "code",
   "execution_count": 1,
   "metadata": {
    "ExecuteTime": {
     "end_time": "2021-06-19T02:18:19.360356Z",
     "start_time": "2021-06-19T02:18:16.501938Z"
    },
    "slideshow": {
     "slide_type": "subslide"
    }
   },
   "outputs": [
    {
     "name": "stdout",
     "output_type": "stream",
     "text": [
      "Requirement already satisfied: numpy in /Library/Frameworks/Python.framework/Versions/3.7/lib/python3.7/site-packages (1.19.0)\n",
      "\u001b[33mWARNING: You are using pip version 20.2.1; however, version 21.1.2 is available.\n",
      "You should consider upgrading via the '/Library/Frameworks/Python.framework/Versions/3.7/bin/python3 -m pip install --upgrade pip' command.\u001b[0m\n"
     ]
    }
   ],
   "source": [
    "# 주피터 노트북에서 Numpy 설치\n",
    "!pip install numpy"
   ]
  },
  {
   "cell_type": "code",
   "execution_count": 2,
   "metadata": {
    "ExecuteTime": {
     "end_time": "2021-08-03T05:00:26.054538Z",
     "start_time": "2021-08-03T05:00:26.051907Z"
    },
    "slideshow": {
     "slide_type": "fragment"
    }
   },
   "outputs": [],
   "source": [
    "# Numpy 사용을 위해 패키지 불러들이기\n",
    "import numpy as np\n",
    "# 관례적으로 np라는 약자를 많이 사용하게 됩니다.\n",
    "# 파이썬을 사용하는 대부분의 유저들이 사용하고 있는 닉네임이니 이건 꼭 지켜서 사용해주시는 것을 추천드립니다."
   ]
  },
  {
   "cell_type": "markdown",
   "metadata": {
    "slideshow": {
     "slide_type": "slide"
    }
   },
   "source": [
    "## 데이터분석을 위한 잠깐의 선형대수학\n",
    "numpy는 기본적으로 수리적 컴퓨팅을 위한 패키지 입니다. 선형대수학을 약간만 이해한다면 데이터를 훨씬 더 깊이있게 다룰 수 있습니다.  \n",
    "<img src=\"https://drive.google.com/uc?id=1FIVLOIP-X72PeWS7tgChMEoWCUYtyOqa\" height=\"700px\" width=\"700px\">  \n",
    "출처 : https://art28.github.io/blog/linear-algebra-1/"
   ]
  },
  {
   "cell_type": "markdown",
   "metadata": {
    "slideshow": {
     "slide_type": "slide"
    }
   },
   "source": [
    "## 데이터의 구분에 따른 표현 방법과 예시\n",
    "\n",
    "#### 스칼라\n",
    "    1, 3.14, 실수 혹은 정수  \n",
    "    \n",
    "#### 벡터\n",
    "    [1, 2, 3, 4], 문자열  \n",
    "    \n",
    "#### 3 X 4 매트릭스\n",
    "    [[1, 2, 3, 4],\n",
    "     [5, 6, 7, 8],\n",
    "     [9, 0, 11, 12]]\n",
    "     \n",
    "#### 2 X 3 X 4 텐서\n",
    "    [[[1, 2, 3, 4],\n",
    "     [5, 6, 7, 8],\n",
    "     [9, 0, 11, 12]],\n",
    "     [[1, 2, 3, 4], \n",
    "     [5, 6, 7, 8],\n",
    "     [9, 0, 11, 12]]]"
   ]
  },
  {
   "cell_type": "markdown",
   "metadata": {
    "ExecuteTime": {
     "end_time": "2021-08-03T02:31:58.163370Z",
     "start_time": "2021-08-03T02:31:58.043519Z"
    }
   },
   "source": [
    "### 데이터로 표현한 선형대수학\n",
    "<img src=\"https://drive.google.com/uc?id=1JXgwhjipPcV147LPIrC2CgT0TmS4jT1R\" height=\"700px\" width=\"700px\">  \n",
    "출처 : https://m.blog.naver.com/nabilera1/221978354680"
   ]
  },
  {
   "cell_type": "markdown",
   "metadata": {
    "slideshow": {
     "slide_type": "subslide"
    }
   },
   "source": [
    "### 데이터 형태에 따른 사칙연산\n",
    "\n",
    "> 스칼라 +, -, *, / -> 결과도 스칼라  \n",
    "벡터 +, -, 내적 -> +, - 결과는 벡터, 내적 결과는 스칼라  \n",
    "매트릭스 +, -, *, /  \n",
    "텐서 +, -, *, /  "
   ]
  },
  {
   "cell_type": "markdown",
   "metadata": {
    "slideshow": {
     "slide_type": "subslide"
    }
   },
   "source": [
    "### 데이터분석에 자주 사용하는 특수한 연산\n",
    "벡터와 벡터의 내적\n",
    "    \n",
    "$$\\begin{bmatrix}1 & 2 & 3 & 4 \\end{bmatrix} \\times \\begin{bmatrix}1 \\\\ 2 \\\\ 3 \\\\ 4 \\end{bmatrix} = 1 * 1 + \\\n",
    "2 * 2 + 3 * 3 + 4 * 4 = 30$$\n",
    "# $$ A^TA $$"
   ]
  },
  {
   "cell_type": "markdown",
   "metadata": {
    "slideshow": {
     "slide_type": "subslide"
    }
   },
   "source": [
    "#### 벡터와 벡터의 내적이 이루어지려면\n",
    "    \n",
    "    1. 벡터가 마주하는 shape의 갯수(길이)가 같아야 합니다.\n",
    "    2. 연산 앞에 위치한 벡터는 전치(transpose) 되어야 합니다.\n",
    "<img src=\"https://drive.google.com/uc?id=1VdfUo6iFHpTrPd_5RSjJLjlrX_5zWO0v\" height=\"300px\" width=\"300px\">  \n",
    "출처 : https://ko.wikipedia.org/wiki/%EC%A0%84%EC%B9%98%ED%96%89%EB%A0%AC"
   ]
  },
  {
   "cell_type": "markdown",
   "metadata": {
    "slideshow": {
     "slide_type": "subslide"
    }
   },
   "source": [
    "#### 벡터 내적으로 방정식 구현\n",
    "\n",
    "$$y = \\begin{bmatrix}1 & 2 & 1 \\end{bmatrix} \\times \\begin{bmatrix}x_1 \\\\ x_2 \\\\ x_3 \\\\ \\end{bmatrix} = 1 * x_1 + \\\n",
    "2 * x_2 + 1 * x_3 = x_1 + 2x_2 + x_3$$"
   ]
  },
  {
   "cell_type": "markdown",
   "metadata": {
    "slideshow": {
     "slide_type": "subslide"
    }
   },
   "source": [
    "## 브로드캐스팅\n",
    "> 파이썬 넘파이 연산은 브로드캐스팅을 지원합니다.  \n",
    "벡터연산 시 shape이 큰 벡터의 길이만큼 shape이 작은 벡터가 연장되어 연산됩니다.\n",
    "\n",
    "<img src=\"https://drive.google.com/uc?id=139z17KEUFNIoJR_-lSnnxepmJAJx--cw\" height=\"500px\" width=\"500px\">  \n",
    "출처 : http://www.astroml.org/book_figures/appendix/fig_broadcast_visual.html"
   ]
  },
  {
   "cell_type": "markdown",
   "metadata": {
    "slideshow": {
     "slide_type": "slide"
    }
   },
   "source": [
    "## Numpy function(함수)\n",
    "> `numpy`는 컴퓨팅연산을 위한 다양한 연산함수를 제공합니다.  \n",
    ">> 연산함수 기본구조  \n",
    "ex) **`np.sum`**(연산대상, axis=연산방향)  \n",
    "**`dtype()`**"
   ]
  },
  {
   "cell_type": "markdown",
   "metadata": {
    "slideshow": {
     "slide_type": "subslide"
    }
   },
   "source": [
    "### 수리연산\n",
    "- **`prod()`**\n",
    "- **`dot()`**\n",
    "- **`sum()`**\n",
    "- **`cumprod()`**\n",
    "- **`cumsum()`**\n",
    "- **`abs()`**\n",
    "- **`sqaure()`**\n",
    "- **`sqrt()`**\n",
    "- **`exp()`**\n",
    "- **`log()`**"
   ]
  },
  {
   "cell_type": "markdown",
   "metadata": {
    "slideshow": {
     "slide_type": "subslide"
    }
   },
   "source": [
    "### 통계연산\n",
    "- **`mean()`**\n",
    "- **`std()`**\n",
    "- **`var()`**\n",
    "- **`max()`**\n",
    "- **`min()`**\n",
    "- **`argmax()`**\n",
    "- **`argmin()`**"
   ]
  },
  {
   "cell_type": "markdown",
   "metadata": {
    "slideshow": {
     "slide_type": "subslide"
    }
   },
   "source": [
    "### 로직연산\n",
    "- **`arange()`**\n",
    "- **`isnan()`**\n",
    "- **`isinf()`**\n",
    "- **`unique()`**"
   ]
  },
  {
   "cell_type": "markdown",
   "metadata": {
    "slideshow": {
     "slide_type": "subslide"
    }
   },
   "source": [
    "### 기하\n",
    "- **`shape()`**\n",
    "- **`reshape()`**\n",
    "- **`ndim()`**\n",
    "- **`transpose()`**\n",
    "    \n",
    "각종 연산 함수 참고: https://numpy.org/doc/stable/reference/routines.math.html"
   ]
  },
  {
   "cell_type": "markdown",
   "metadata": {},
   "source": [
    "### numpy 함수 실습"
   ]
  },
  {
   "cell_type": "code",
   "execution_count": 3,
   "metadata": {
    "ExecuteTime": {
     "end_time": "2021-08-03T05:00:47.203667Z",
     "start_time": "2021-08-03T05:00:47.195326Z"
    },
    "slideshow": {
     "slide_type": "slide"
    }
   },
   "outputs": [],
   "source": [
    "# 함수 예제를 위한 데이터셋\n",
    "test_list = [1, 2, 3, 4]\n",
    "test_list2 = [[1, 3], [5, 7]]\n",
    "test_flist = [1, 3.14, -4.5]\n",
    "test_list_2nd = [[1, 2, 3],\n",
    "              [4, 5, 6],\n",
    "              [7, 8, 9]]\n",
    "test_list_3rd = [[[1, 2, 3, 4],\n",
    "              [5, 6, 7, 8]],\n",
    "              \n",
    "              [[1, 2, 3, 4],\n",
    "               [5, 6, 7, 8]],\n",
    "\n",
    "              [[1, 2, 3, 4],\n",
    "               [5, 6, 7, 8]]]\n",
    "test_exp = [0, 1, 10]\n",
    "test_nan = [0, np.nan, np.inf]"
   ]
  },
  {
   "cell_type": "code",
   "execution_count": null,
   "metadata": {
    "ExecuteTime": {
     "end_time": "2021-06-19T04:05:53.540490Z",
     "start_time": "2021-06-19T04:05:53.536037Z"
    },
    "slideshow": {
     "slide_type": "subslide"
    }
   },
   "outputs": [],
   "source": [
    "# 곱연산\n"
   ]
  },
  {
   "cell_type": "code",
   "execution_count": null,
   "metadata": {
    "ExecuteTime": {
     "end_time": "2021-06-19T04:06:08.635266Z",
     "start_time": "2021-06-19T04:06:08.631449Z"
    },
    "slideshow": {
     "slide_type": "subslide"
    }
   },
   "outputs": [],
   "source": [
    "# 합연산\n"
   ]
  },
  {
   "cell_type": "code",
   "execution_count": null,
   "metadata": {
    "ExecuteTime": {
     "end_time": "2021-06-19T04:06:27.794317Z",
     "start_time": "2021-06-19T04:06:27.789752Z"
    },
    "slideshow": {
     "slide_type": "subslide"
    }
   },
   "outputs": [],
   "source": [
    "# 누적곱연산\n"
   ]
  },
  {
   "cell_type": "code",
   "execution_count": null,
   "metadata": {
    "ExecuteTime": {
     "end_time": "2021-06-19T04:06:56.011928Z",
     "start_time": "2021-06-19T04:06:56.007138Z"
    },
    "slideshow": {
     "slide_type": "subslide"
    }
   },
   "outputs": [],
   "source": [
    "# 누적합연산\n"
   ]
  },
  {
   "cell_type": "code",
   "execution_count": null,
   "metadata": {
    "ExecuteTime": {
     "end_time": "2021-06-19T04:07:10.124704Z",
     "start_time": "2021-06-19T04:07:10.118992Z"
    },
    "slideshow": {
     "slide_type": "subslide"
    }
   },
   "outputs": [],
   "source": [
    "# 절대값\n"
   ]
  },
  {
   "cell_type": "code",
   "execution_count": null,
   "metadata": {
    "ExecuteTime": {
     "end_time": "2021-06-19T04:07:45.726523Z",
     "start_time": "2021-06-19T04:07:45.720686Z"
    },
    "slideshow": {
     "slide_type": "subslide"
    }
   },
   "outputs": [],
   "source": [
    "# 제곱\n"
   ]
  },
  {
   "cell_type": "code",
   "execution_count": null,
   "metadata": {
    "ExecuteTime": {
     "end_time": "2021-06-19T04:11:03.369518Z",
     "start_time": "2021-06-19T04:11:03.358175Z"
    },
    "slideshow": {
     "slide_type": "subslide"
    }
   },
   "outputs": [],
   "source": [
    "# 루트\n"
   ]
  },
  {
   "cell_type": "code",
   "execution_count": null,
   "metadata": {
    "ExecuteTime": {
     "end_time": "2021-06-19T04:11:18.225586Z",
     "start_time": "2021-06-19T04:11:18.219116Z"
    },
    "slideshow": {
     "slide_type": "subslide"
    }
   },
   "outputs": [],
   "source": [
    "# exp\n"
   ]
  },
  {
   "cell_type": "code",
   "execution_count": null,
   "metadata": {
    "ExecuteTime": {
     "end_time": "2021-08-03T05:01:19.591520Z",
     "start_time": "2021-08-03T05:01:19.585551Z"
    },
    "slideshow": {
     "slide_type": "subslide"
    }
   },
   "outputs": [],
   "source": [
    "# 로그\n"
   ]
  },
  {
   "cell_type": "code",
   "execution_count": null,
   "metadata": {
    "ExecuteTime": {
     "end_time": "2021-06-19T04:11:39.911569Z",
     "start_time": "2021-06-19T04:11:39.905400Z"
    },
    "slideshow": {
     "slide_type": "subslide"
    }
   },
   "outputs": [],
   "source": [
    "# 평균\n"
   ]
  },
  {
   "cell_type": "code",
   "execution_count": null,
   "metadata": {
    "ExecuteTime": {
     "end_time": "2021-06-19T04:12:03.019030Z",
     "start_time": "2021-06-19T04:12:03.008859Z"
    },
    "slideshow": {
     "slide_type": "subslide"
    }
   },
   "outputs": [],
   "source": [
    "# 표준편차\n"
   ]
  },
  {
   "cell_type": "code",
   "execution_count": null,
   "metadata": {
    "ExecuteTime": {
     "end_time": "2021-06-19T04:12:08.787415Z",
     "start_time": "2021-06-19T04:12:08.781383Z"
    },
    "slideshow": {
     "slide_type": "subslide"
    }
   },
   "outputs": [],
   "source": [
    "# 분산\n"
   ]
  },
  {
   "cell_type": "code",
   "execution_count": null,
   "metadata": {
    "ExecuteTime": {
     "end_time": "2021-06-19T04:12:27.542508Z",
     "start_time": "2021-06-19T04:12:27.534606Z"
    },
    "slideshow": {
     "slide_type": "subslide"
    }
   },
   "outputs": [],
   "source": [
    "# 최대값\n"
   ]
  },
  {
   "cell_type": "code",
   "execution_count": null,
   "metadata": {
    "ExecuteTime": {
     "end_time": "2021-06-19T04:12:33.511575Z",
     "start_time": "2021-06-19T04:12:33.502964Z"
    },
    "slideshow": {
     "slide_type": "subslide"
    }
   },
   "outputs": [],
   "source": [
    "# 최소값\n"
   ]
  },
  {
   "cell_type": "code",
   "execution_count": null,
   "metadata": {
    "ExecuteTime": {
     "end_time": "2021-06-19T04:13:00.661476Z",
     "start_time": "2021-06-19T04:13:00.655824Z"
    },
    "slideshow": {
     "slide_type": "subslide"
    }
   },
   "outputs": [],
   "source": [
    "# 최대값 인덱스 \n",
    "# 출력값이 인덱스\n"
   ]
  },
  {
   "cell_type": "code",
   "execution_count": null,
   "metadata": {
    "ExecuteTime": {
     "end_time": "2021-06-19T04:13:40.988219Z",
     "start_time": "2021-06-19T04:13:40.981104Z"
    },
    "slideshow": {
     "slide_type": "subslide"
    }
   },
   "outputs": [],
   "source": [
    "# 최소값 인덱스\n"
   ]
  },
  {
   "cell_type": "code",
   "execution_count": null,
   "metadata": {
    "ExecuteTime": {
     "end_time": "2021-06-19T04:14:13.584446Z",
     "start_time": "2021-06-19T04:14:13.577493Z"
    },
    "slideshow": {
     "slide_type": "subslide"
    }
   },
   "outputs": [],
   "source": [
    "# 범위설정\n",
    "# range() 함수와 동일하게 작동함\n",
    "# for i in range(0, 100, 10):\n",
    "#     print(i)\n"
   ]
  },
  {
   "cell_type": "code",
   "execution_count": null,
   "metadata": {
    "ExecuteTime": {
     "end_time": "2021-02-02T04:21:55.933202Z",
     "start_time": "2021-02-02T04:21:55.928027Z"
    }
   },
   "outputs": [],
   "source": [
    "test_nan"
   ]
  },
  {
   "cell_type": "code",
   "execution_count": null,
   "metadata": {
    "ExecuteTime": {
     "end_time": "2021-08-03T05:01:32.271794Z",
     "start_time": "2021-08-03T05:01:32.267340Z"
    },
    "slideshow": {
     "slide_type": "subslide"
    }
   },
   "outputs": [],
   "source": [
    "# 결측 확인\n"
   ]
  },
  {
   "cell_type": "code",
   "execution_count": null,
   "metadata": {
    "ExecuteTime": {
     "end_time": "2021-08-03T05:01:40.372931Z",
     "start_time": "2021-08-03T05:01:40.366713Z"
    },
    "slideshow": {
     "slide_type": "subslide"
    }
   },
   "outputs": [],
   "source": [
    "# 발산 확인\n"
   ]
  },
  {
   "cell_type": "code",
   "execution_count": null,
   "metadata": {
    "ExecuteTime": {
     "end_time": "2021-06-19T04:15:28.967281Z",
     "start_time": "2021-06-19T04:15:28.957369Z"
    }
   },
   "outputs": [],
   "source": [
    "test_list_3rd"
   ]
  },
  {
   "cell_type": "code",
   "execution_count": null,
   "metadata": {
    "ExecuteTime": {
     "end_time": "2021-06-19T04:15:30.572268Z",
     "start_time": "2021-06-19T04:15:30.567110Z"
    },
    "slideshow": {
     "slide_type": "subslide"
    }
   },
   "outputs": [],
   "source": [
    "# 고유값 확인\n"
   ]
  },
  {
   "cell_type": "code",
   "execution_count": null,
   "metadata": {
    "ExecuteTime": {
     "end_time": "2021-06-19T04:16:27.035295Z",
     "start_time": "2021-06-19T04:16:27.028694Z"
    },
    "slideshow": {
     "slide_type": "subslide"
    }
   },
   "outputs": [],
   "source": [
    "# 데이터 구조(모양)확인\n"
   ]
  },
  {
   "cell_type": "code",
   "execution_count": null,
   "metadata": {
    "ExecuteTime": {
     "end_time": "2021-06-19T04:19:49.454723Z",
     "start_time": "2021-06-19T04:19:49.447572Z"
    },
    "slideshow": {
     "slide_type": "subslide"
    }
   },
   "outputs": [],
   "source": [
    "# 데이터 shape 변경\n",
    "# 어떤 조건에서 reshape가능한가? 데이터 내부에 존재하는 속성 갯수가 같아야 함.\n"
   ]
  },
  {
   "cell_type": "code",
   "execution_count": null,
   "metadata": {
    "ExecuteTime": {
     "end_time": "2021-06-19T04:20:23.055462Z",
     "start_time": "2021-06-19T04:20:23.046712Z"
    }
   },
   "outputs": [],
   "source": [
    "test_list_3rd"
   ]
  },
  {
   "cell_type": "code",
   "execution_count": null,
   "metadata": {
    "ExecuteTime": {
     "end_time": "2021-06-19T04:20:17.231943Z",
     "start_time": "2021-06-19T04:20:17.220438Z"
    },
    "slideshow": {
     "slide_type": "subslide"
    }
   },
   "outputs": [],
   "source": [
    "# 데이터 차원확인\n"
   ]
  },
  {
   "cell_type": "code",
   "execution_count": null,
   "metadata": {
    "ExecuteTime": {
     "end_time": "2021-06-19T04:21:03.657486Z",
     "start_time": "2021-06-19T04:21:03.651288Z"
    }
   },
   "outputs": [],
   "source": [
    "test_list_2nd"
   ]
  },
  {
   "cell_type": "code",
   "execution_count": null,
   "metadata": {
    "ExecuteTime": {
     "end_time": "2021-06-19T04:21:31.544401Z",
     "start_time": "2021-06-19T04:21:31.537535Z"
    },
    "slideshow": {
     "slide_type": "subslide"
    }
   },
   "outputs": [],
   "source": [
    "# 전치행렬\n"
   ]
  },
  {
   "cell_type": "markdown",
   "metadata": {
    "slideshow": {
     "slide_type": "slide"
    }
   },
   "source": [
    "## Numpy array (배열, 행렬)\n",
    "> - numpy 연산의 기본이 되는 데이터 구조입니다.  \n",
    "- 리스트보다 간편하게 만들 수 있으며 **연산이 빠른** 장점이 있습니다.  \n",
    "- **브로드캐스팅 연산을 지원**합니다.  \n",
    "- 단, **같은 type**의 데이터만 저장 가능합니다.  \n",
    "- array 또한 numpy의 기본 함수로서 생성 가능합니다.  \n",
    ">> array 함수 호출 기본구조  \n",
    "ex) **`np.array(배열변환 대상 데이터)`**  \n",
    "ex) **`np.arange(start, end, step_forward)`**"
   ]
  },
  {
   "cell_type": "markdown",
   "metadata": {},
   "source": [
    "### numpy array 실습"
   ]
  },
  {
   "cell_type": "code",
   "execution_count": null,
   "metadata": {
    "ExecuteTime": {
     "end_time": "2021-06-19T04:23:20.563456Z",
     "start_time": "2021-06-19T04:23:20.558726Z"
    },
    "slideshow": {
     "slide_type": "subslide"
    }
   },
   "outputs": [],
   "source": [
    "# 기존 데이터 구조를 array로 변환\n",
    "test_array = np.array(test_list)\n",
    "test_array2 = np.array(test_list2)\n",
    "test_farray = np.array(test_flist)\n",
    "test_array_2nd = np.array(test_list_2nd)\n",
    "test_array_3rd = np.array(test_list_3rd)"
   ]
  },
  {
   "cell_type": "code",
   "execution_count": null,
   "metadata": {
    "ExecuteTime": {
     "end_time": "2021-06-19T04:23:27.820287Z",
     "start_time": "2021-06-19T04:23:27.812979Z"
    }
   },
   "outputs": [],
   "source": [
    "# array 생성 확인\n"
   ]
  },
  {
   "cell_type": "code",
   "execution_count": null,
   "metadata": {
    "ExecuteTime": {
     "end_time": "2021-06-19T04:25:37.675895Z",
     "start_time": "2021-06-19T04:25:37.664350Z"
    }
   },
   "outputs": [],
   "source": [
    "# 같은 타입의 데이터만 들어가는지 확인\n"
   ]
  },
  {
   "cell_type": "code",
   "execution_count": null,
   "metadata": {
    "ExecuteTime": {
     "end_time": "2021-06-19T04:26:15.224995Z",
     "start_time": "2021-06-19T04:26:15.217258Z"
    }
   },
   "outputs": [],
   "source": [
    "# 2차원 배열 확인\n"
   ]
  },
  {
   "cell_type": "code",
   "execution_count": null,
   "metadata": {
    "ExecuteTime": {
     "end_time": "2021-06-19T04:26:40.076565Z",
     "start_time": "2021-06-19T04:26:40.070728Z"
    }
   },
   "outputs": [],
   "source": [
    "# 3차원 배열 확인\n"
   ]
  },
  {
   "cell_type": "code",
   "execution_count": null,
   "metadata": {
    "ExecuteTime": {
     "end_time": "2021-06-19T04:27:08.061875Z",
     "start_time": "2021-06-19T04:27:08.055270Z"
    },
    "slideshow": {
     "slide_type": "subslide"
    }
   },
   "outputs": [],
   "source": [
    "# np.arange 함수로 생성\n"
   ]
  },
  {
   "cell_type": "markdown",
   "metadata": {
    "slideshow": {
     "slide_type": "slide"
    }
   },
   "source": [
    "### 특수한 형태의 array를 함수로 생성\n",
    "함수 호출의 기본구조\n",
    "> ex) **`np.ones([자료구조 shape])`**  \n",
    ">> 자료구조 shape은 정수, **[ ]**리스트, **( )** 튜플 로만 입력가능합니다.\n",
    "- ones()\n",
    "- zeros()\n",
    "- empty()\n",
    "- eye()"
   ]
  },
  {
   "cell_type": "code",
   "execution_count": null,
   "metadata": {
    "ExecuteTime": {
     "end_time": "2021-06-19T04:28:39.169297Z",
     "start_time": "2021-06-19T04:28:39.159710Z"
    },
    "slideshow": {
     "slide_type": "subslide"
    }
   },
   "outputs": [],
   "source": [
    "# 1로 초기화한 array 생성\n"
   ]
  },
  {
   "cell_type": "code",
   "execution_count": null,
   "metadata": {
    "ExecuteTime": {
     "end_time": "2021-06-19T04:28:49.346448Z",
     "start_time": "2021-06-19T04:28:49.333451Z"
    },
    "slideshow": {
     "slide_type": "subslide"
    }
   },
   "outputs": [],
   "source": [
    "# 0으로 초기화\n"
   ]
  },
  {
   "cell_type": "code",
   "execution_count": null,
   "metadata": {
    "ExecuteTime": {
     "end_time": "2021-06-19T04:29:02.141725Z",
     "start_time": "2021-06-19T04:29:02.133881Z"
    },
    "slideshow": {
     "slide_type": "subslide"
    }
   },
   "outputs": [],
   "source": [
    "# 빈 값으로 초기화\n"
   ]
  },
  {
   "cell_type": "code",
   "execution_count": null,
   "metadata": {
    "ExecuteTime": {
     "end_time": "2021-06-19T04:29:39.899316Z",
     "start_time": "2021-06-19T04:29:39.890861Z"
    },
    "slideshow": {
     "slide_type": "subslide"
    }
   },
   "outputs": [],
   "source": [
    "# 항등행렬 초기화\n"
   ]
  },
  {
   "cell_type": "markdown",
   "metadata": {
    "slideshow": {
     "slide_type": "slide"
    }
   },
   "source": [
    "### array 속성 및 내장함수\n",
    "`np.array` 에는 유용한 수리, 통계 연산을 위한 함수가 갖추어져 있습니다. 다차원 기하학적 연산을 위한 함수도 함께 살펴보겠습니다.  \n",
    "    \n",
    "> array 내장 속성 호출 기본구조  \n",
    "ex) **`test_array.ndim`**  \n",
    "자주 사용하는 속성 `shape`, `dtype`, `ndim`\n",
    "    \n",
    "> array 내장함수 호출 기본구조  \n",
    "ex) **`test_array.prod()`**\n",
    "    \n",
    "위에 학습한 np.sum() 과는 달리 array 변수의 인자를 받아 그대로 사용합니다."
   ]
  },
  {
   "cell_type": "markdown",
   "metadata": {
    "slideshow": {
     "slide_type": "subslide"
    }
   },
   "source": [
    "#### array 속성"
   ]
  },
  {
   "cell_type": "code",
   "execution_count": null,
   "metadata": {
    "ExecuteTime": {
     "end_time": "2021-06-19T04:31:03.465998Z",
     "start_time": "2021-06-19T04:31:03.459366Z"
    },
    "slideshow": {
     "slide_type": "fragment"
    }
   },
   "outputs": [],
   "source": [
    "# 데이터 타입확인\n"
   ]
  },
  {
   "cell_type": "code",
   "execution_count": null,
   "metadata": {
    "ExecuteTime": {
     "end_time": "2021-06-19T04:31:14.021197Z",
     "start_time": "2021-06-19T04:31:14.009765Z"
    },
    "slideshow": {
     "slide_type": "subslide"
    }
   },
   "outputs": [],
   "source": [
    "# 데이터구조 확인\n",
    "# np.shape()\n"
   ]
  },
  {
   "cell_type": "code",
   "execution_count": null,
   "metadata": {
    "ExecuteTime": {
     "end_time": "2021-06-19T04:31:50.930568Z",
     "start_time": "2021-06-19T04:31:50.923358Z"
    },
    "slideshow": {
     "slide_type": "subslide"
    }
   },
   "outputs": [],
   "source": [
    "# 데이터 차원 확인\n"
   ]
  },
  {
   "cell_type": "code",
   "execution_count": null,
   "metadata": {
    "ExecuteTime": {
     "end_time": "2021-06-19T04:32:29.192561Z",
     "start_time": "2021-06-19T04:32:29.185421Z"
    }
   },
   "outputs": [],
   "source": [
    "test_array_3rd"
   ]
  },
  {
   "cell_type": "code",
   "execution_count": null,
   "metadata": {
    "ExecuteTime": {
     "end_time": "2021-06-19T04:32:23.580532Z",
     "start_time": "2021-06-19T04:32:23.574287Z"
    },
    "slideshow": {
     "slide_type": "fragment"
    }
   },
   "outputs": [],
   "source": [
    "# 아래 행렬에 대해서도 데이터의 shape과 차원을 확인해봅니다.\n"
   ]
  },
  {
   "cell_type": "code",
   "execution_count": null,
   "metadata": {
    "ExecuteTime": {
     "end_time": "2021-06-19T04:33:10.008587Z",
     "start_time": "2021-06-19T04:33:10.000087Z"
    },
    "slideshow": {
     "slide_type": "subslide"
    }
   },
   "outputs": [],
   "source": [
    "# 전치행렬\n"
   ]
  },
  {
   "cell_type": "markdown",
   "metadata": {
    "slideshow": {
     "slide_type": "slide"
    }
   },
   "source": [
    "#### array 내장함수"
   ]
  },
  {
   "cell_type": "code",
   "execution_count": 77,
   "metadata": {
    "ExecuteTime": {
     "end_time": "2021-06-19T04:35:11.757523Z",
     "start_time": "2021-06-19T04:35:11.750445Z"
    }
   },
   "outputs": [
    {
     "data": {
      "text/plain": [
       "1"
      ]
     },
     "execution_count": 77,
     "metadata": {},
     "output_type": "execute_result"
    }
   ],
   "source": [
    "# 내장함수 호출\n"
   ]
  },
  {
   "cell_type": "code",
   "execution_count": null,
   "metadata": {
    "slideshow": {
     "slide_type": "fragment"
    }
   },
   "outputs": [],
   "source": [
    "# numpy 함수와 키워드가 같습니다.\n",
    "test_array.prod()\n",
    "test_array.sum(axis=)\n",
    "...\n",
    "... "
   ]
  },
  {
   "cell_type": "markdown",
   "metadata": {
    "slideshow": {
     "slide_type": "slide"
    }
   },
   "source": [
    "### array 연산\n",
    "컴퓨팅 연산을 위한 패키지인 만큼 편리한 배열 연산 기능을 지원합니다. 여러 array 연산을 통해 다른 자료구조와의 연산 차이를 알아봅시다."
   ]
  },
  {
   "cell_type": "code",
   "execution_count": null,
   "metadata": {
    "ExecuteTime": {
     "end_time": "2021-06-19T04:38:50.924350Z",
     "start_time": "2021-06-19T04:38:50.918384Z"
    },
    "slideshow": {
     "slide_type": "subslide"
    }
   },
   "outputs": [],
   "source": [
    "# array 덧셈, 뺄셈, 곱셈, 나눗셈\n"
   ]
  },
  {
   "cell_type": "code",
   "execution_count": null,
   "metadata": {
    "ExecuteTime": {
     "end_time": "2021-06-19T04:39:53.480113Z",
     "start_time": "2021-06-19T04:39:53.370328Z"
    },
    "slideshow": {
     "slide_type": "fragment"
    }
   },
   "outputs": [],
   "source": [
    "# 실제 연산속도 차이를 확인하기 위한 큰 데이터 생성\n",
    "big_list = [x for x in range(200000)]\n",
    "big_array = np.array(big_list)\n",
    "len(big_list), len(big_array)"
   ]
  },
  {
   "cell_type": "code",
   "execution_count": null,
   "metadata": {
    "ExecuteTime": {
     "end_time": "2021-06-19T04:41:43.235684Z",
     "start_time": "2021-06-19T04:41:43.156689Z"
    }
   },
   "outputs": [],
   "source": [
    "%%time\n",
    "for index, item in enumerate(big_list):\n",
    "    big_list[index] = item + 1"
   ]
  },
  {
   "cell_type": "code",
   "execution_count": null,
   "metadata": {
    "ExecuteTime": {
     "end_time": "2021-06-19T04:42:28.239273Z",
     "start_time": "2021-06-19T04:42:28.230053Z"
    }
   },
   "outputs": [],
   "source": [
    "%%time\n",
    "big_array + 1"
   ]
  },
  {
   "cell_type": "code",
   "execution_count": null,
   "metadata": {
    "ExecuteTime": {
     "end_time": "2021-06-19T04:44:40.425084Z",
     "start_time": "2021-06-19T04:44:40.415164Z"
    },
    "slideshow": {
     "slide_type": "subslide"
    }
   },
   "outputs": [],
   "source": [
    "# 행렬내적\n",
    "first_array = np.arange(15).reshape(5, 3)\n",
    "second_array = np.arange(15).reshape(3, 5)"
   ]
  },
  {
   "cell_type": "code",
   "execution_count": null,
   "metadata": {
    "ExecuteTime": {
     "end_time": "2021-06-19T04:44:54.214439Z",
     "start_time": "2021-06-19T04:44:54.206113Z"
    }
   },
   "outputs": [],
   "source": [
    "first_array.shape, second_array.shape"
   ]
  },
  {
   "cell_type": "code",
   "execution_count": null,
   "metadata": {
    "ExecuteTime": {
     "end_time": "2021-06-19T04:45:48.139131Z",
     "start_time": "2021-06-19T04:45:48.129405Z"
    },
    "slideshow": {
     "slide_type": "fragment"
    }
   },
   "outputs": [],
   "source": [
    "# 행렬내적 연산\n"
   ]
  },
  {
   "cell_type": "markdown",
   "metadata": {},
   "source": [
    "### 벡터 가중합\n",
    "벡터의 내적은 가중합을 계산할 때 쓰일 수 있다. **가중합(weighted sum)**이란 복수의 데이터를 단순히 합하는 것이 아니라 각각의 수에 어떤 가중치 값을 곱한 후 이 곱셈 결과들을 다시 합한 것을 말한다.  \n",
    "만약 데이터 벡터가 $x=[x_1, \\cdots, x_N]^T$이고 가중치 벡터가 $w=[w_1, \\cdots, w_N]^T$이면 데이터 벡터의 가중합은 다음과 같다.\n",
    "\n",
    "$$ \n",
    "\\begin{align}\n",
    "w_1 x_1 + \\cdots + w_N x_N = \\sum_{i=1}^N w_i x_i \n",
    "\\end{align}\n",
    "$$ \n",
    "\n",
    "이 값을 벡터 $x$와 $w$의 곱으로 나타내면 $w^Tx$ 또는 $x^Tw$ 라는 간단한 수식으로 표시할 수 있다.\n",
    "\n",
    "쇼핑을 할 때 각 물건의 가격은 데이터 벡터, 각 물건의 수량은 가중치로 생각하여 내적을 구하면 총금액을 계산할 수 있다."
   ]
  },
  {
   "cell_type": "code",
   "execution_count": null,
   "metadata": {},
   "outputs": [],
   "source": [
    "# 벡터의 가중합 연습문제\n",
    "# 삼성전자, 셀트리온, 카카오로 포트폴리오를 구성하려한다. \n",
    "# 각 종목의 가격은 80,000원, 270,000원, 160,000원이다.\n",
    "# 삼성전자 100주, 셀트리온 30주, 카카오 50주로 구성하기 위한 매수금액을 구하시오\n"
   ]
  },
  {
   "cell_type": "markdown",
   "metadata": {
    "slideshow": {
     "slide_type": "slide"
    }
   },
   "source": [
    "### array 인덱싱, 슬라이싱(매우중요)\n",
    "> 기본적으로 자료구조란 데이터의 묶음, 그 묶음을 관리 할 수 있는 바구니를 이야기 합니다.  \n",
    "데이터 분석을 위해 자료구조를 사용하지만 자료구조안 내용에 접근을 해야 할 경우도 있습니다.\n",
    ">> **인덱싱**이란?  \n",
    "데이터 바구니 안에 든 내용 하나에 접근하는 명령, 인덱스는 내용의 순번  \n",
    ">> **슬라이싱**이란?  \n",
    "데이터 바구니 안에 든 내용 여러가지에 접근 하는 명령  \n",
    "\n",
    "기본적으로 인덱싱과 슬라이싱의 색인은 리스트와 동일합니다."
   ]
  },
  {
   "cell_type": "markdown",
   "metadata": {},
   "source": [
    "#### 인덱싱, 슬라이싱 실습"
   ]
  },
  {
   "cell_type": "code",
   "execution_count": null,
   "metadata": {
    "ExecuteTime": {
     "end_time": "2021-06-19T04:46:33.402699Z",
     "start_time": "2021-06-19T04:46:33.392430Z"
    }
   },
   "outputs": [],
   "source": [
    "# 10부터 19까지 범위를 가지는 array생성\n"
   ]
  },
  {
   "cell_type": "code",
   "execution_count": null,
   "metadata": {
    "ExecuteTime": {
     "end_time": "2021-06-19T04:48:45.970201Z",
     "start_time": "2021-06-19T04:48:45.962246Z"
    }
   },
   "outputs": [],
   "source": [
    "# 0부터 3번 인덱스까지\n"
   ]
  },
  {
   "cell_type": "code",
   "execution_count": null,
   "metadata": {
    "ExecuteTime": {
     "end_time": "2021-06-19T04:48:54.060811Z",
     "start_time": "2021-06-19T04:48:54.054400Z"
    }
   },
   "outputs": [],
   "source": [
    "# 4번 인덱스부터 마지막 인덱스까지\n"
   ]
  },
  {
   "cell_type": "code",
   "execution_count": null,
   "metadata": {
    "ExecuteTime": {
     "end_time": "2021-06-19T04:49:04.763687Z",
     "start_time": "2021-06-19T04:49:04.753705Z"
    }
   },
   "outputs": [],
   "source": [
    "# 마지막 인덱스부터 뒤에서 3번째 인덱스까지\n"
   ]
  },
  {
   "cell_type": "code",
   "execution_count": null,
   "metadata": {
    "ExecuteTime": {
     "end_time": "2021-06-19T04:49:15.917215Z",
     "start_time": "2021-06-19T04:49:15.908987Z"
    }
   },
   "outputs": [],
   "source": [
    "# 0부터 3씩 증가하는 인덱스\n"
   ]
  },
  {
   "cell_type": "markdown",
   "metadata": {
    "slideshow": {
     "slide_type": "subslide"
    }
   },
   "source": [
    "#### 여러가지 인덱싱 및 슬라이싱 방법을 시도해봅시다"
   ]
  },
  {
   "cell_type": "code",
   "execution_count": 104,
   "metadata": {
    "ExecuteTime": {
     "end_time": "2021-06-19T04:49:45.707142Z",
     "start_time": "2021-06-19T04:49:45.700167Z"
    }
   },
   "outputs": [],
   "source": [
    "index_test2 = np.array(range(25)).reshape([5, 5])\n",
    "index_test2"
   ]
  },
  {
   "cell_type": "code",
   "execution_count": 107,
   "metadata": {
    "ExecuteTime": {
     "end_time": "2021-06-19T04:52:24.140290Z",
     "start_time": "2021-06-19T04:52:24.131838Z"
    }
   },
   "outputs": [
    {
     "data": {
      "text/plain": [
       "array([[11, 12, 13],\n",
       "       [16, 17, 18],\n",
       "       [21, 22, 23]])"
      ]
     },
     "execution_count": 107,
     "metadata": {},
     "output_type": "execute_result"
    }
   ],
   "source": []
  },
  {
   "cell_type": "code",
   "execution_count": 108,
   "metadata": {
    "ExecuteTime": {
     "end_time": "2021-06-19T04:53:34.330241Z",
     "start_time": "2021-06-19T04:53:34.321713Z"
    },
    "slideshow": {
     "slide_type": "fragment"
    }
   },
   "outputs": [
    {
     "data": {
      "text/plain": [
       "array([[2, 3, 4],\n",
       "       [7, 8, 9]])"
      ]
     },
     "execution_count": 108,
     "metadata": {},
     "output_type": "execute_result"
    }
   ],
   "source": []
  },
  {
   "cell_type": "code",
   "execution_count": 109,
   "metadata": {
    "ExecuteTime": {
     "end_time": "2021-06-19T04:53:53.366513Z",
     "start_time": "2021-06-19T04:53:53.361755Z"
    }
   },
   "outputs": [],
   "source": [
    "index_test3 = np.arange(40).reshape(2, 5, 4)\n",
    "index_test3"
   ]
  },
  {
   "cell_type": "code",
   "execution_count": 23,
   "metadata": {
    "ExecuteTime": {
     "end_time": "2021-05-26T03:46:50.749432Z",
     "start_time": "2021-05-26T03:46:50.745437Z"
    }
   },
   "outputs": [
    {
     "data": {
      "text/plain": [
       "array([[13, 14],\n",
       "       [17, 18]])"
      ]
     },
     "execution_count": 23,
     "metadata": {},
     "output_type": "execute_result"
    }
   ],
   "source": []
  },
  {
   "cell_type": "code",
   "execution_count": 24,
   "metadata": {
    "ExecuteTime": {
     "end_time": "2021-05-26T03:47:13.406263Z",
     "start_time": "2021-05-26T03:47:13.402012Z"
    }
   },
   "outputs": [
    {
     "data": {
      "text/plain": [
       "array([[ 1,  5,  9, 13, 17],\n",
       "       [21, 25, 29, 33, 37]])"
      ]
     },
     "execution_count": 24,
     "metadata": {},
     "output_type": "execute_result"
    }
   ],
   "source": []
  }
 ],
 "metadata": {
  "kernelspec": {
   "display_name": "Python 3",
   "language": "python",
   "name": "python3"
  },
  "language_info": {
   "codemirror_mode": {
    "name": "ipython",
    "version": 3
   },
   "file_extension": ".py",
   "mimetype": "text/x-python",
   "name": "python",
   "nbconvert_exporter": "python",
   "pygments_lexer": "ipython3",
   "version": "3.7.3"
  },
  "toc": {
   "base_numbering": 1,
   "nav_menu": {},
   "number_sections": true,
   "sideBar": true,
   "skip_h1_title": true,
   "title_cell": "Table of Contents",
   "title_sidebar": "Contents",
   "toc_cell": false,
   "toc_position": {},
   "toc_section_display": true,
   "toc_window_display": true
  },
  "varInspector": {
   "cols": {
    "lenName": 16,
    "lenType": 16,
    "lenVar": 40
   },
   "kernels_config": {
    "python": {
     "delete_cmd_postfix": "",
     "delete_cmd_prefix": "del ",
     "library": "var_list.py",
     "varRefreshCmd": "print(var_dic_list())"
    },
    "r": {
     "delete_cmd_postfix": ") ",
     "delete_cmd_prefix": "rm(",
     "library": "var_list.r",
     "varRefreshCmd": "cat(var_dic_list()) "
    }
   },
   "types_to_exclude": [
    "module",
    "function",
    "builtin_function_or_method",
    "instance",
    "_Feature"
   ],
   "window_display": false
  }
 },
 "nbformat": 4,
 "nbformat_minor": 2
}
